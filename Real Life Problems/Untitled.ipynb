{
 "cells": [
  {
   "cell_type": "code",
   "execution_count": 1,
   "id": "7cb18792",
   "metadata": {},
   "outputs": [],
   "source": [
    "import pandas as pd\n",
    "import numpy as np\n",
    "from scipy import stats"
   ]
  },
  {
   "cell_type": "code",
   "execution_count": 2,
   "id": "a8ff49ea",
   "metadata": {},
   "outputs": [],
   "source": [
    "df = pd.read_csv('Weather Data.csv')"
   ]
  },
  {
   "cell_type": "code",
   "execution_count": 3,
   "id": "50d973f1",
   "metadata": {},
   "outputs": [
    {
     "data": {
      "text/html": [
       "<div>\n",
       "<style scoped>\n",
       "    .dataframe tbody tr th:only-of-type {\n",
       "        vertical-align: middle;\n",
       "    }\n",
       "\n",
       "    .dataframe tbody tr th {\n",
       "        vertical-align: top;\n",
       "    }\n",
       "\n",
       "    .dataframe thead th {\n",
       "        text-align: right;\n",
       "    }\n",
       "</style>\n",
       "<table border=\"1\" class=\"dataframe\">\n",
       "  <thead>\n",
       "    <tr style=\"text-align: right;\">\n",
       "      <th></th>\n",
       "      <th>Day</th>\n",
       "      <th>Average temperature °F</th>\n",
       "      <th>Average humidity %</th>\n",
       "      <th>Average dewpoint °F</th>\n",
       "      <th>Average barometer in.</th>\n",
       "      <th>Average windspeed mph</th>\n",
       "      <th>Average gustspeed mph</th>\n",
       "      <th>Average direction (WNW)</th>\n",
       "      <th>Rainfall for month in.</th>\n",
       "      <th>Rainfall for year in.</th>\n",
       "      <th>Maximum rain per minute in.</th>\n",
       "      <th>Maximum temperature °F</th>\n",
       "      <th>Minimum temperature °F</th>\n",
       "      <th>Maximum humidity %</th>\n",
       "      <th>Minimum humidity %</th>\n",
       "      <th>Maximum pressure</th>\n",
       "      <th>Minimum pressure</th>\n",
       "      <th>Maximum windspeed mph</th>\n",
       "      <th>Maximum gust speed mph</th>\n",
       "      <th>Maximum heat index °F</th>\n",
       "    </tr>\n",
       "  </thead>\n",
       "  <tbody>\n",
       "    <tr>\n",
       "      <th>0</th>\n",
       "      <td>01-01-2009</td>\n",
       "      <td>37.8</td>\n",
       "      <td>35</td>\n",
       "      <td>12.7</td>\n",
       "      <td>29.7</td>\n",
       "      <td>26.4</td>\n",
       "      <td>36.8</td>\n",
       "      <td>274</td>\n",
       "      <td>0.0</td>\n",
       "      <td>0.0</td>\n",
       "      <td>0.0</td>\n",
       "      <td>40.1</td>\n",
       "      <td>34.5</td>\n",
       "      <td>44</td>\n",
       "      <td>27</td>\n",
       "      <td>29.762</td>\n",
       "      <td>29.596</td>\n",
       "      <td>41.4</td>\n",
       "      <td>59.0</td>\n",
       "      <td>40.1</td>\n",
       "    </tr>\n",
       "    <tr>\n",
       "      <th>1</th>\n",
       "      <td>01-02-2009</td>\n",
       "      <td>43.2</td>\n",
       "      <td>32</td>\n",
       "      <td>14.7</td>\n",
       "      <td>29.5</td>\n",
       "      <td>12.8</td>\n",
       "      <td>18.0</td>\n",
       "      <td>240</td>\n",
       "      <td>0.0</td>\n",
       "      <td>0.0</td>\n",
       "      <td>0.0</td>\n",
       "      <td>52.8</td>\n",
       "      <td>37.5</td>\n",
       "      <td>43</td>\n",
       "      <td>16</td>\n",
       "      <td>29.669</td>\n",
       "      <td>29.268</td>\n",
       "      <td>35.7</td>\n",
       "      <td>51.0</td>\n",
       "      <td>52.8</td>\n",
       "    </tr>\n",
       "    <tr>\n",
       "      <th>2</th>\n",
       "      <td>01-03-2009</td>\n",
       "      <td>25.7</td>\n",
       "      <td>60</td>\n",
       "      <td>12.7</td>\n",
       "      <td>29.7</td>\n",
       "      <td>8.3</td>\n",
       "      <td>12.2</td>\n",
       "      <td>290</td>\n",
       "      <td>0.0</td>\n",
       "      <td>0.0</td>\n",
       "      <td>0.0</td>\n",
       "      <td>41.2</td>\n",
       "      <td>6.7</td>\n",
       "      <td>89</td>\n",
       "      <td>35</td>\n",
       "      <td>30.232</td>\n",
       "      <td>29.260</td>\n",
       "      <td>25.3</td>\n",
       "      <td>38.0</td>\n",
       "      <td>41.2</td>\n",
       "    </tr>\n",
       "    <tr>\n",
       "      <th>3</th>\n",
       "      <td>01-04-2009</td>\n",
       "      <td>9.3</td>\n",
       "      <td>67</td>\n",
       "      <td>0.1</td>\n",
       "      <td>30.4</td>\n",
       "      <td>2.9</td>\n",
       "      <td>4.5</td>\n",
       "      <td>47</td>\n",
       "      <td>0.0</td>\n",
       "      <td>0.0</td>\n",
       "      <td>0.0</td>\n",
       "      <td>19.4</td>\n",
       "      <td>0.0</td>\n",
       "      <td>79</td>\n",
       "      <td>35</td>\n",
       "      <td>30.566</td>\n",
       "      <td>30.227</td>\n",
       "      <td>12.7</td>\n",
       "      <td>20.0</td>\n",
       "      <td>32.0</td>\n",
       "    </tr>\n",
       "    <tr>\n",
       "      <th>4</th>\n",
       "      <td>01-05-2009</td>\n",
       "      <td>23.5</td>\n",
       "      <td>30</td>\n",
       "      <td>5.3</td>\n",
       "      <td>29.9</td>\n",
       "      <td>16.7</td>\n",
       "      <td>23.1</td>\n",
       "      <td>265</td>\n",
       "      <td>0.0</td>\n",
       "      <td>0.0</td>\n",
       "      <td>0.0</td>\n",
       "      <td>30.3</td>\n",
       "      <td>15.1</td>\n",
       "      <td>56</td>\n",
       "      <td>13</td>\n",
       "      <td>30.233</td>\n",
       "      <td>29.568</td>\n",
       "      <td>38.0</td>\n",
       "      <td>53.0</td>\n",
       "      <td>32.0</td>\n",
       "    </tr>\n",
       "  </tbody>\n",
       "</table>\n",
       "</div>"
      ],
      "text/plain": [
       "          Day  Average temperature °F  Average humidity %  \\\n",
       "0  01-01-2009                    37.8                  35   \n",
       "1  01-02-2009                    43.2                  32   \n",
       "2  01-03-2009                    25.7                  60   \n",
       "3  01-04-2009                     9.3                  67   \n",
       "4  01-05-2009                    23.5                  30   \n",
       "\n",
       "   Average dewpoint °F  Average barometer in.  Average windspeed mph  \\\n",
       "0                 12.7                   29.7                   26.4   \n",
       "1                 14.7                   29.5                   12.8   \n",
       "2                 12.7                   29.7                    8.3   \n",
       "3                  0.1                   30.4                    2.9   \n",
       "4                  5.3                   29.9                   16.7   \n",
       "\n",
       "   Average gustspeed mph  Average direction (WNW)  Rainfall for month in.  \\\n",
       "0                   36.8                      274                     0.0   \n",
       "1                   18.0                      240                     0.0   \n",
       "2                   12.2                      290                     0.0   \n",
       "3                    4.5                       47                     0.0   \n",
       "4                   23.1                      265                     0.0   \n",
       "\n",
       "   Rainfall for year in.  Maximum rain per minute in.   \\\n",
       "0                    0.0                           0.0   \n",
       "1                    0.0                           0.0   \n",
       "2                    0.0                           0.0   \n",
       "3                    0.0                           0.0   \n",
       "4                    0.0                           0.0   \n",
       "\n",
       "   Maximum temperature °F   Minimum temperature °F   Maximum humidity %  \\\n",
       "0                     40.1                     34.5                  44   \n",
       "1                     52.8                     37.5                  43   \n",
       "2                     41.2                      6.7                  89   \n",
       "3                     19.4                      0.0                  79   \n",
       "4                     30.3                     15.1                  56   \n",
       "\n",
       "   Minimum humidity %  Maximum pressure  Minimum pressure  \\\n",
       "0                  27            29.762            29.596   \n",
       "1                  16            29.669            29.268   \n",
       "2                  35            30.232            29.260   \n",
       "3                  35            30.566            30.227   \n",
       "4                  13            30.233            29.568   \n",
       "\n",
       "   Maximum windspeed mph  Maximum gust speed mph  Maximum heat index °F  \n",
       "0                   41.4                    59.0                   40.1  \n",
       "1                   35.7                    51.0                   52.8  \n",
       "2                   25.3                    38.0                   41.2  \n",
       "3                   12.7                    20.0                   32.0  \n",
       "4                   38.0                    53.0                   32.0  "
      ]
     },
     "execution_count": 3,
     "metadata": {},
     "output_type": "execute_result"
    }
   ],
   "source": [
    "df.head()"
   ]
  },
  {
   "cell_type": "code",
   "execution_count": 13,
   "id": "fe8bd149",
   "metadata": {},
   "outputs": [
    {
     "data": {
      "text/plain": [
       "23.150000000000006"
      ]
     },
     "execution_count": 13,
     "metadata": {},
     "output_type": "execute_result"
    }
   ],
   "source": [
    "stats.iqr(df['Average dewpoint °F'], rng=(25,75))"
   ]
  },
  {
   "cell_type": "code",
   "execution_count": 14,
   "id": "67cb0f69",
   "metadata": {},
   "outputs": [
    {
     "data": {
      "text/plain": [
       "45.9"
      ]
     },
     "execution_count": 14,
     "metadata": {},
     "output_type": "execute_result"
    }
   ],
   "source": [
    "np.percentile(df['Average temperature °F'], 50, interpolation='lower')"
   ]
  },
  {
   "cell_type": "code",
   "execution_count": 8,
   "id": "104286aa",
   "metadata": {},
   "outputs": [
    {
     "data": {
      "text/plain": [
       "False"
      ]
     },
     "execution_count": 8,
     "metadata": {},
     "output_type": "execute_result"
    }
   ],
   "source": [
    "df.columns.is_numeric()"
   ]
  },
  {
   "cell_type": "code",
   "execution_count": 15,
   "id": "1c2c4a47",
   "metadata": {},
   "outputs": [],
   "source": [
    "percentile_list = np.percentile(df['Average gustspeed mph'], [25,75])"
   ]
  },
  {
   "cell_type": "code",
   "execution_count": 16,
   "id": "48893201",
   "metadata": {},
   "outputs": [
    {
     "data": {
      "text/plain": [
       "numpy.ndarray"
      ]
     },
     "execution_count": 16,
     "metadata": {},
     "output_type": "execute_result"
    }
   ],
   "source": [
    "type(percentile_list)"
   ]
  },
  {
   "cell_type": "code",
   "execution_count": 17,
   "id": "8a9f26bd",
   "metadata": {},
   "outputs": [
    {
     "data": {
      "text/plain": [
       "array([ 4.4, 12.1])"
      ]
     },
     "execution_count": 17,
     "metadata": {},
     "output_type": "execute_result"
    }
   ],
   "source": [
    "percentile_list"
   ]
  },
  {
   "cell_type": "code",
   "execution_count": 21,
   "id": "8a4a64f7",
   "metadata": {},
   "outputs": [
    {
     "ename": "TypeError",
     "evalue": "ufunc() missing 1 of 2required positional argument(s)",
     "output_type": "error",
     "traceback": [
      "\u001b[1;31m---------------------------------------------------------------------------\u001b[0m",
      "\u001b[1;31mTypeError\u001b[0m                                 Traceback (most recent call last)",
      "\u001b[1;32mC:\\Users\\MYPC~1\\AppData\\Local\\Temp/ipykernel_6352/2449940760.py\u001b[0m in \u001b[0;36m<module>\u001b[1;34m\u001b[0m\n\u001b[1;32m----> 1\u001b[1;33m \u001b[0mmode_d\u001b[0m \u001b[1;33m=\u001b[0m \u001b[0mnp\u001b[0m\u001b[1;33m.\u001b[0m\u001b[0mmod\u001b[0m\u001b[1;33m(\u001b[0m\u001b[0mdf\u001b[0m\u001b[1;33m[\u001b[0m\u001b[1;34m'Average gustspeed mph'\u001b[0m\u001b[1;33m]\u001b[0m\u001b[1;33m)\u001b[0m\u001b[1;33m\u001b[0m\u001b[1;33m\u001b[0m\u001b[0m\n\u001b[0m",
      "\u001b[1;31mTypeError\u001b[0m: ufunc() missing 1 of 2required positional argument(s)"
     ]
    }
   ],
   "source": [
    "mode_d = np.mod(df['Average gustspeed mph'])"
   ]
  },
  {
   "cell_type": "code",
   "execution_count": 24,
   "id": "83feb829",
   "metadata": {},
   "outputs": [
    {
     "name": "stdout",
     "output_type": "stream",
     "text": [
      "0.0\n"
     ]
    }
   ],
   "source": [
    "print(mode_d[0][0])"
   ]
  },
  {
   "cell_type": "code",
   "execution_count": 59,
   "id": "dffe19e9",
   "metadata": {},
   "outputs": [],
   "source": [
    "data = np.array([5390, 5993, 3097, 4796, 2236, 8678, 1840, 6760, 1682, 5814,5814, 3097,1682])"
   ]
  },
  {
   "cell_type": "code",
   "execution_count": 61,
   "id": "1cc417df",
   "metadata": {},
   "outputs": [
    {
     "name": "stdout",
     "output_type": "stream",
     "text": [
      "[5390 5993 3097 4796 2236 8678 1840 6760 1682 5814 5814 3097 1682]\n",
      "4375.31 4796.0 1682 [2236 5814] 3578 0.26666274814139673 -1.0244168861066165\n"
     ]
    }
   ],
   "source": [
    "mean_d = round(np.mean(data),2)\n",
    "median_d = np.median(data)\n",
    "mode_d = stats.mode(data)[0][0]\n",
    "percentile_list = np.percentile(data, [25,75], interpolation='lower')\n",
    "iqr_d = stats.iqr(data, rng=(25,75), interpolation='lower')\n",
    "skew_d = stats.skew(data)\n",
    "kurtosis_d = stats.kurtosis(data)\n",
    "print(data)\n",
    "print(mean_d, median_d, mode_d, percentile_list, iqr_d, skew_d, kurtosis_d)"
   ]
  },
  {
   "cell_type": "code",
   "execution_count": 73,
   "id": "78b6892e",
   "metadata": {},
   "outputs": [
    {
     "name": "stdout",
     "output_type": "stream",
     "text": [
      "[-1.24100434e-01  5.44008709e-01  7.81009855e-01  1.99324485e+00\n",
      "  5.60243233e-01  9.74746558e-01 -3.20475349e-01 -1.11478347e-01\n",
      "  4.49758319e-01 -9.01977991e-01 -9.74353378e-01  7.65499449e-01\n",
      "  6.34725566e-01 -1.27871361e+00 -6.36967346e-01  1.65661704e-01\n",
      " -8.27955790e-01  7.53441176e-01  3.90678344e-01  1.56335676e+00\n",
      "  4.85534405e-01  1.25940490e+00  9.07425754e-01  1.72351109e-01\n",
      "  2.96901797e-01  2.05195977e-01 -3.23233013e-03  3.20370881e-01\n",
      " -1.45688517e-01  9.74686642e-02 -6.24558806e-01  4.53763811e-01\n",
      " -6.42336055e-01 -2.59372613e-01 -3.41117873e-01  1.50700256e+00\n",
      " -7.24188578e-02  8.47855596e-01  4.44645574e-01  1.17367614e+00\n",
      "  1.77391148e-02 -4.68919113e-01 -1.53578837e+00 -5.76242068e-01\n",
      " -1.03300948e-01  5.48512300e-01 -5.81225626e-01  1.12621205e+00\n",
      " -3.27535293e-01 -6.55909114e-02  1.96092442e+00  2.09862189e+00\n",
      " -6.12788862e-01 -9.71883441e-01  2.03724018e+00  9.70524271e-01\n",
      "  6.84660518e-02 -5.34198595e-01 -9.67569082e-01  1.01036745e+00\n",
      " -4.33026119e-01 -3.02924846e-01  9.05360990e-01  3.86990270e+00\n",
      "  1.83892727e+00 -9.30580457e-01 -5.06888356e-01 -6.68047930e-01\n",
      "  6.45176490e-01 -1.15678189e+00 -3.77649531e-01  1.14984610e+00\n",
      " -9.38074306e-01  4.22617212e-01  2.90187780e-01  2.10310532e+00\n",
      "  4.30369807e-01  5.26625956e-01  8.70461564e-01  1.43970076e+00\n",
      "  2.64517490e-01 -1.73586204e+00 -7.81861904e-01 -5.80652724e-01\n",
      "  1.96935170e+00 -1.12806887e+00  7.65598777e-01 -7.48046552e-01\n",
      " -2.72842281e-01 -6.64226813e-01  1.13344636e+00 -8.07492542e-01\n",
      "  1.35816606e+00  5.43711797e-01  1.71145930e+00 -1.83197879e+00\n",
      "  1.50612844e+00  9.71401044e-01 -2.18484705e+00  1.62370185e-01]\n"
     ]
    }
   ],
   "source": [
    "print(np.random.randn(100))"
   ]
  },
  {
   "cell_type": "code",
   "execution_count": 68,
   "id": "f42e4314",
   "metadata": {},
   "outputs": [
    {
     "name": "stdout",
     "output_type": "stream",
     "text": [
      "[33 11]\n"
     ]
    }
   ],
   "source": [
    "print(np.random.choice([11, 22, 33], 2, replace=False))"
   ]
  },
  {
   "cell_type": "code",
   "execution_count": 60,
   "id": "ae08c893",
   "metadata": {},
   "outputs": [
    {
     "name": "stdout",
     "output_type": "stream",
     "text": [
      "ModeResult(mode=array([1682]), count=array([2]))\n"
     ]
    }
   ],
   "source": [
    "print(stats.mode(data))"
   ]
  },
  {
   "cell_type": "code",
   "execution_count": 46,
   "id": "2df9ba6f",
   "metadata": {},
   "outputs": [
    {
     "data": {
      "text/plain": [
       "scipy.stats.stats.ModeResult"
      ]
     },
     "execution_count": 46,
     "metadata": {},
     "output_type": "execute_result"
    }
   ],
   "source": [
    "type(stats.mode(data))"
   ]
  },
  {
   "cell_type": "code",
   "execution_count": 78,
   "id": "c742448e",
   "metadata": {},
   "outputs": [
    {
     "data": {
      "text/plain": [
       "array([5390, 5993, 3097, 4796, 2236, 8678, 1840, 6760, 1682, 5814, 5814,\n",
       "       3097, 1682])"
      ]
     },
     "execution_count": 78,
     "metadata": {},
     "output_type": "execute_result"
    }
   ],
   "source": [
    "data."
   ]
  },
  {
   "cell_type": "code",
   "execution_count": 84,
   "id": "fc79d6e9",
   "metadata": {},
   "outputs": [
    {
     "name": "stdout",
     "output_type": "stream",
     "text": [
      "0.6041229989324322\n"
     ]
    }
   ],
   "source": [
    "np.random.seed(1)\n",
    "dist = 47 + 9.971848109388686*np.random.randn(100)\n",
    "num = abs(np.mean(dist) - 47)\n",
    "print(num) "
   ]
  },
  {
   "cell_type": "code",
   "execution_count": 109,
   "id": "8b29173f",
   "metadata": {},
   "outputs": [
    {
     "data": {
      "text/plain": [
       "50.0"
      ]
     },
     "execution_count": 109,
     "metadata": {},
     "output_type": "execute_result"
    }
   ],
   "source": []
  },
  {
   "cell_type": "code",
   "execution_count": 104,
   "id": "b121ad4d",
   "metadata": {},
   "outputs": [
    {
     "data": {
      "text/plain": [
       "4927"
      ]
     },
     "execution_count": 104,
     "metadata": {},
     "output_type": "execute_result"
    }
   ],
   "source": [
    "head"
   ]
  },
  {
   "cell_type": "code",
   "execution_count": 131,
   "id": "77c92680",
   "metadata": {},
   "outputs": [
    {
     "data": {
      "text/plain": [
       "numpy.ndarray"
      ]
     },
     "execution_count": 131,
     "metadata": {},
     "output_type": "execute_result"
    }
   ],
   "source": [
    "sample = stats.binom.rvs(p=0.5, n=1, size= 1000, random_state=1)\n",
    "type(sample)"
   ]
  },
  {
   "cell_type": "code",
   "execution_count": 155,
   "id": "e16c4808",
   "metadata": {},
   "outputs": [
    {
     "data": {
      "text/plain": [
       "array([0, 1, 0, 0, 0, 0, 0, 0, 0, 1, 0, 1, 0, 1, 0, 1, 0, 1, 0, 0, 1, 1,\n",
       "       0, 1, 1, 1, 0, 0, 0, 1, 0, 0, 1, 1, 1, 0, 1, 1, 0, 1, 1, 1, 0, 1,\n",
       "       0, 0, 1, 0, 0, 0, 0, 1, 0, 0, 0, 0, 1, 0, 1, 1, 0, 0, 1, 0, 0, 1,\n",
       "       1, 1, 1, 1, 1, 0, 0, 1, 0, 0, 1, 0, 1, 1, 1, 1, 1, 0, 0, 1, 0, 1,\n",
       "       1, 1, 0, 1, 0, 1, 0, 0, 1, 1, 0, 1, 0, 1, 1, 0, 1, 1, 0, 1, 1, 1,\n",
       "       0, 0, 1, 1, 0, 1, 1, 1, 1, 0, 0, 0, 0, 0, 1, 1, 1, 1, 0, 0, 1, 1,\n",
       "       1, 0, 1, 0, 1, 0, 1, 1, 1, 0, 0, 0, 0, 0, 0, 1, 1, 0, 0, 1, 1, 0,\n",
       "       0, 1, 0, 1, 1, 1, 0, 0, 1, 1, 0, 0, 0, 0, 1, 1, 0, 1, 1, 0, 1, 1,\n",
       "       1, 0, 0, 0, 1, 0, 1, 0, 0, 1, 0, 1, 1, 1, 0, 0, 1, 1, 1, 1, 0, 0,\n",
       "       1, 1, 1, 1, 1, 1, 0, 0, 1, 1, 1, 1, 0, 1, 0, 0, 0, 1, 0, 1, 1, 0,\n",
       "       0, 0, 0, 1, 0, 1, 1, 1, 1, 1, 0, 1, 1, 0, 0, 1, 0, 1, 0, 1, 0, 1,\n",
       "       1, 0, 1, 1, 0, 0, 1, 1, 0, 1, 0, 1, 1, 1, 1, 1, 0, 1, 1, 1, 1, 1,\n",
       "       1, 0, 1, 0, 0, 0, 0, 0, 1, 0, 1, 1, 0, 0, 0, 1, 1, 1, 1, 0, 0, 1,\n",
       "       1, 1, 1, 1, 1, 1, 1, 0, 0, 0, 0, 0, 1, 0, 1, 1, 1, 1, 0, 0, 0, 0,\n",
       "       1, 0, 1, 1, 0, 0, 0, 0, 1, 0, 0, 1, 0, 1, 0, 0, 1, 0, 0, 1, 1, 1,\n",
       "       0, 1, 0, 1, 1, 0, 0, 1, 1, 1, 1, 1, 1, 1, 0, 1, 1, 1, 1, 0, 1, 1,\n",
       "       0, 0, 1, 0, 1, 0, 1, 1, 0, 0, 1, 1, 1, 1, 1, 1, 1, 0, 0, 0, 0, 1,\n",
       "       0, 0, 1, 1, 1, 0, 0, 1, 1, 0, 0, 0, 1, 0, 0, 1, 0, 1, 0, 0, 1, 1,\n",
       "       0, 1, 1, 1, 1, 1, 0, 1, 0, 1, 0, 0, 0, 0, 0, 1, 1, 1, 1, 0, 1, 0,\n",
       "       1, 1, 0, 0, 0, 0, 0, 0, 0, 1, 0, 1, 0, 0, 0, 0, 1, 0, 1, 0, 1, 0,\n",
       "       1, 0, 1, 0, 1, 1, 1, 1, 0, 0, 0, 1, 1, 1, 1, 1, 1, 0, 0, 0, 0, 1,\n",
       "       0, 0, 1, 0, 1, 0, 1, 0, 1, 0, 0, 1, 1, 0, 1, 1, 0, 1, 0, 1, 1, 1,\n",
       "       0, 1, 0, 0, 1, 0, 1, 1, 0, 0, 0, 1, 1, 1, 1, 0, 0, 0, 0, 0, 1, 0,\n",
       "       1, 0, 1, 0, 1, 0, 0, 0, 1, 0, 1, 0, 1, 1, 1, 1, 1, 1, 1, 0, 0, 0,\n",
       "       0, 0, 1, 0, 1, 1, 1, 1, 1, 0, 0, 0, 0, 1, 0, 0, 0, 0, 1, 0, 1, 0,\n",
       "       0, 1, 1, 0, 0, 0, 1, 1, 1, 0, 0, 1, 1, 0, 1, 1, 0, 1, 1, 0, 0, 1,\n",
       "       1, 1, 1, 1, 0, 1, 1, 0, 1, 0, 1, 0, 1, 0, 1, 0, 0, 1, 0, 1, 1, 0,\n",
       "       0, 0, 0, 0, 0, 0, 1, 1, 0, 0, 0, 1, 1, 1, 0, 1, 0, 1, 1, 0, 0, 1,\n",
       "       0, 0, 0, 0, 0, 1, 0, 1, 1, 0, 1, 1, 1, 1, 0, 1, 1, 0, 1, 0, 1, 0,\n",
       "       0, 0, 0, 1, 0, 1, 0, 0, 0, 0, 1, 0, 0, 0, 1, 0, 1, 0, 1, 0, 1, 0,\n",
       "       1, 1, 0, 1, 0, 1, 1, 0, 1, 0, 1, 1, 0, 1, 1, 1, 0, 0, 1, 1, 1, 1,\n",
       "       1, 1, 0, 1, 1, 1, 0, 1, 0, 1, 1, 0, 0, 0, 0, 1, 1, 0, 0, 0, 1, 0,\n",
       "       0, 0, 1, 0, 0, 1, 0, 0, 0, 1, 1, 0, 1, 0, 1, 0, 0, 1, 1, 1, 1, 0,\n",
       "       1, 0, 1, 1, 1, 0, 1, 0, 1, 1, 1, 1, 1, 0, 1, 0, 0, 1, 0, 1, 1, 0,\n",
       "       0, 1, 0, 0, 1, 1, 0, 1, 0, 1, 0, 1, 0, 1, 0, 0, 0, 0, 1, 1, 1, 1,\n",
       "       1, 1, 1, 0, 1, 0, 0, 0, 0, 0, 0, 1, 0, 1, 1, 0, 1, 1, 0, 1, 0, 0,\n",
       "       0, 1, 0, 1, 0, 1, 0, 1, 1, 0, 1, 1, 0, 1, 0, 1, 1, 0, 0, 0, 1, 0,\n",
       "       1, 0, 0, 0, 1, 1, 1, 0, 1, 0, 0, 0, 0, 0, 1, 1, 1, 1, 0, 0, 1, 1,\n",
       "       0, 0, 0, 0, 0, 0, 0, 1, 1, 0, 1, 0, 1, 0, 1, 1, 1, 0, 0, 1, 1, 1,\n",
       "       0, 1, 1, 0, 0, 1, 1, 1, 1, 1, 0, 1, 0, 0, 0, 0, 1, 0, 0, 0, 1, 1,\n",
       "       0, 0, 1, 0, 1, 0, 1, 0, 1, 0, 0, 0, 0, 0, 1, 0, 1, 1, 1, 0, 0, 1,\n",
       "       0, 1, 1, 0, 1, 0, 1, 0, 1, 0, 1, 1, 1, 0, 1, 1, 0, 1, 0, 0, 0, 1,\n",
       "       0, 0, 1, 1, 0, 0, 0, 0, 0, 0, 1, 1, 0, 1, 0, 1, 0, 0, 0, 1, 0, 1,\n",
       "       0, 0, 0, 0, 0, 1, 0, 0, 0, 0, 1, 0, 0, 1, 1, 1, 1, 1, 0, 0, 0, 0,\n",
       "       1, 0, 1, 1, 0, 1, 0, 0, 0, 1, 0, 1, 0, 0, 1, 0, 0, 1, 1, 0, 1, 1,\n",
       "       1, 0, 1, 0, 1, 1, 0, 1, 0, 1])"
      ]
     },
     "execution_count": 155,
     "metadata": {},
     "output_type": "execute_result"
    }
   ],
   "source": [
    "sample"
   ]
  },
  {
   "cell_type": "code",
   "execution_count": 174,
   "id": "724b36f2",
   "metadata": {},
   "outputs": [
    {
     "ename": "AttributeError",
     "evalue": "'numpy.ndarray' object has no attribute 'apply'",
     "output_type": "error",
     "traceback": [
      "\u001b[1;31m---------------------------------------------------------------------------\u001b[0m",
      "\u001b[1;31mAttributeError\u001b[0m                            Traceback (most recent call last)",
      "\u001b[1;32mC:\\Users\\MYPC~1\\AppData\\Local\\Temp/ipykernel_6352/1665989392.py\u001b[0m in \u001b[0;36m<module>\u001b[1;34m\u001b[0m\n\u001b[1;32m----> 1\u001b[1;33m \u001b[0msample\u001b[0m\u001b[1;33m.\u001b[0m\u001b[0mapply\u001b[0m\u001b[1;33m(\u001b[0m\u001b[1;32mlambda\u001b[0m \u001b[0mx\u001b[0m \u001b[1;33m:\u001b[0m \u001b[0mx\u001b[0m\u001b[1;33m==\u001b[0m\u001b[1;36m0\u001b[0m\u001b[1;33m)\u001b[0m\u001b[1;33m\u001b[0m\u001b[1;33m\u001b[0m\u001b[0m\n\u001b[0m",
      "\u001b[1;31mAttributeError\u001b[0m: 'numpy.ndarray' object has no attribute 'apply'"
     ]
    }
   ],
   "source": [
    "sample.apply(lambda x : x==0)"
   ]
  },
  {
   "cell_type": "code",
   "execution_count": 172,
   "id": "1a1a3e3c",
   "metadata": {},
   "outputs": [],
   "source": [
    "l = [i for i in sample if i==0]"
   ]
  },
  {
   "cell_type": "code",
   "execution_count": 173,
   "id": "f38df804",
   "metadata": {},
   "outputs": [
    {
     "data": {
      "text/plain": [
       "494"
      ]
     },
     "execution_count": 173,
     "metadata": {},
     "output_type": "execute_result"
    }
   ],
   "source": [
    "len(l)"
   ]
  },
  {
   "cell_type": "code",
   "execution_count": null,
   "id": "99983eff",
   "metadata": {},
   "outputs": [],
   "source": []
  },
  {
   "cell_type": "code",
   "execution_count": null,
   "id": "ad8ff31a",
   "metadata": {},
   "outputs": [],
   "source": []
  },
  {
   "cell_type": "code",
   "execution_count": null,
   "id": "58eb0d96",
   "metadata": {},
   "outputs": [],
   "source": []
  },
  {
   "cell_type": "code",
   "execution_count": null,
   "id": "f826c03f",
   "metadata": {},
   "outputs": [],
   "source": []
  },
  {
   "cell_type": "code",
   "execution_count": 175,
   "id": "ee2c9cd2",
   "metadata": {},
   "outputs": [],
   "source": [
    "s = pd.Series([89.2, 76.4, 98.2, 75.9], index=list('abcd'))"
   ]
  },
  {
   "cell_type": "code",
   "execution_count": 176,
   "id": "ef0e2b86",
   "metadata": {},
   "outputs": [
    {
     "data": {
      "text/plain": [
       "True"
      ]
     },
     "execution_count": 176,
     "metadata": {},
     "output_type": "execute_result"
    }
   ],
   "source": [
    "'b' in s"
   ]
  },
  {
   "cell_type": "code",
   "execution_count": 177,
   "id": "13a9f741",
   "metadata": {},
   "outputs": [
    {
     "data": {
      "text/plain": [
       "a    89.2\n",
       "b    76.4\n",
       "c    98.2\n",
       "d    75.9\n",
       "dtype: float64"
      ]
     },
     "execution_count": 177,
     "metadata": {},
     "output_type": "execute_result"
    }
   ],
   "source": [
    "s"
   ]
  },
  {
   "cell_type": "code",
   "execution_count": 178,
   "id": "367fdecd",
   "metadata": {},
   "outputs": [
    {
     "data": {
      "text/plain": [
       "DatetimeIndex(['2017-09-11', '2017-09-13', '2017-09-15', '2017-09-17'], dtype='datetime64[ns]', freq='2D')"
      ]
     },
     "execution_count": 178,
     "metadata": {},
     "output_type": "execute_result"
    }
   ],
   "source": [
    "pd.date_range('11-Sep-2017', '17-Sep-2017', freq='2D')"
   ]
  },
  {
   "cell_type": "code",
   "execution_count": 179,
   "id": "19830c7b",
   "metadata": {},
   "outputs": [],
   "source": [
    "df = pd.DataFrame(np.arange(10), index=[ 'r1', 'r2', 'r3', 'row4', 'row5', 'row6', 'r7', 'r8', 'r9', 'row10'])"
   ]
  },
  {
   "cell_type": "code",
   "execution_count": 190,
   "id": "8f7a068f",
   "metadata": {},
   "outputs": [
    {
     "data": {
      "text/html": [
       "<div>\n",
       "<style scoped>\n",
       "    .dataframe tbody tr th:only-of-type {\n",
       "        vertical-align: middle;\n",
       "    }\n",
       "\n",
       "    .dataframe tbody tr th {\n",
       "        vertical-align: top;\n",
       "    }\n",
       "\n",
       "    .dataframe thead th {\n",
       "        text-align: right;\n",
       "    }\n",
       "</style>\n",
       "<table border=\"1\" class=\"dataframe\">\n",
       "  <thead>\n",
       "    <tr style=\"text-align: right;\">\n",
       "      <th></th>\n",
       "      <th>0</th>\n",
       "    </tr>\n",
       "  </thead>\n",
       "  <tbody>\n",
       "    <tr>\n",
       "      <th>r1</th>\n",
       "      <td>0</td>\n",
       "    </tr>\n",
       "    <tr>\n",
       "      <th>r2</th>\n",
       "      <td>1</td>\n",
       "    </tr>\n",
       "    <tr>\n",
       "      <th>r3</th>\n",
       "      <td>2</td>\n",
       "    </tr>\n",
       "    <tr>\n",
       "      <th>row4</th>\n",
       "      <td>3</td>\n",
       "    </tr>\n",
       "    <tr>\n",
       "      <th>row5</th>\n",
       "      <td>4</td>\n",
       "    </tr>\n",
       "    <tr>\n",
       "      <th>row6</th>\n",
       "      <td>5</td>\n",
       "    </tr>\n",
       "    <tr>\n",
       "      <th>r7</th>\n",
       "      <td>6</td>\n",
       "    </tr>\n",
       "    <tr>\n",
       "      <th>r8</th>\n",
       "      <td>7</td>\n",
       "    </tr>\n",
       "    <tr>\n",
       "      <th>r9</th>\n",
       "      <td>8</td>\n",
       "    </tr>\n",
       "    <tr>\n",
       "      <th>row10</th>\n",
       "      <td>9</td>\n",
       "    </tr>\n",
       "  </tbody>\n",
       "</table>\n",
       "</div>"
      ],
      "text/plain": [
       "       0\n",
       "r1     0\n",
       "r2     1\n",
       "r3     2\n",
       "row4   3\n",
       "row5   4\n",
       "row6   5\n",
       "r7     6\n",
       "r8     7\n",
       "r9     8\n",
       "row10  9"
      ]
     },
     "execution_count": 190,
     "metadata": {},
     "output_type": "execute_result"
    }
   ],
   "source": [
    " g = df.groupby(df.index.str.len())\n",
    "g.filter(lambda x: len(x)>= 1)"
   ]
  },
  {
   "cell_type": "code",
   "execution_count": 182,
   "id": "1e871ea0",
   "metadata": {},
   "outputs": [
    {
     "data": {
      "text/plain": [
       "<pandas.core.groupby.generic.DataFrameGroupBy object at 0x000002665A006550>"
      ]
     },
     "execution_count": 182,
     "metadata": {},
     "output_type": "execute_result"
    }
   ],
   "source": [
    " df.groupby(df.index.str.len())"
   ]
  },
  {
   "cell_type": "code",
   "execution_count": 185,
   "id": "7ff6bb15",
   "metadata": {},
   "outputs": [
    {
     "data": {
      "text/html": [
       "<div>\n",
       "<style scoped>\n",
       "    .dataframe tbody tr th:only-of-type {\n",
       "        vertical-align: middle;\n",
       "    }\n",
       "\n",
       "    .dataframe tbody tr th {\n",
       "        vertical-align: top;\n",
       "    }\n",
       "\n",
       "    .dataframe thead tr th {\n",
       "        text-align: left;\n",
       "    }\n",
       "</style>\n",
       "<table border=\"1\" class=\"dataframe\">\n",
       "  <thead>\n",
       "    <tr>\n",
       "      <th></th>\n",
       "      <th colspan=\"8\" halign=\"left\">0</th>\n",
       "    </tr>\n",
       "    <tr>\n",
       "      <th></th>\n",
       "      <th>count</th>\n",
       "      <th>mean</th>\n",
       "      <th>std</th>\n",
       "      <th>min</th>\n",
       "      <th>25%</th>\n",
       "      <th>50%</th>\n",
       "      <th>75%</th>\n",
       "      <th>max</th>\n",
       "    </tr>\n",
       "  </thead>\n",
       "  <tbody>\n",
       "    <tr>\n",
       "      <th>2</th>\n",
       "      <td>6.0</td>\n",
       "      <td>4.0</td>\n",
       "      <td>3.405877</td>\n",
       "      <td>0.0</td>\n",
       "      <td>1.25</td>\n",
       "      <td>4.0</td>\n",
       "      <td>6.75</td>\n",
       "      <td>8.0</td>\n",
       "    </tr>\n",
       "    <tr>\n",
       "      <th>4</th>\n",
       "      <td>3.0</td>\n",
       "      <td>4.0</td>\n",
       "      <td>1.000000</td>\n",
       "      <td>3.0</td>\n",
       "      <td>3.50</td>\n",
       "      <td>4.0</td>\n",
       "      <td>4.50</td>\n",
       "      <td>5.0</td>\n",
       "    </tr>\n",
       "    <tr>\n",
       "      <th>5</th>\n",
       "      <td>1.0</td>\n",
       "      <td>9.0</td>\n",
       "      <td>NaN</td>\n",
       "      <td>9.0</td>\n",
       "      <td>9.00</td>\n",
       "      <td>9.0</td>\n",
       "      <td>9.00</td>\n",
       "      <td>9.0</td>\n",
       "    </tr>\n",
       "  </tbody>\n",
       "</table>\n",
       "</div>"
      ],
      "text/plain": [
       "      0                                          \n",
       "  count mean       std  min   25%  50%   75%  max\n",
       "2   6.0  4.0  3.405877  0.0  1.25  4.0  6.75  8.0\n",
       "4   3.0  4.0  1.000000  3.0  3.50  4.0  4.50  5.0\n",
       "5   1.0  9.0       NaN  9.0  9.00  9.0  9.00  9.0"
      ]
     },
     "execution_count": 185,
     "metadata": {},
     "output_type": "execute_result"
    }
   ],
   "source": [
    "g.describe()"
   ]
  },
  {
   "cell_type": "code",
   "execution_count": 198,
   "id": "333d0849",
   "metadata": {},
   "outputs": [
    {
     "data": {
      "text/html": [
       "<div>\n",
       "<style scoped>\n",
       "    .dataframe tbody tr th:only-of-type {\n",
       "        vertical-align: middle;\n",
       "    }\n",
       "\n",
       "    .dataframe tbody tr th {\n",
       "        vertical-align: top;\n",
       "    }\n",
       "\n",
       "    .dataframe thead th {\n",
       "        text-align: right;\n",
       "    }\n",
       "</style>\n",
       "<table border=\"1\" class=\"dataframe\">\n",
       "  <thead>\n",
       "    <tr style=\"text-align: right;\">\n",
       "      <th></th>\n",
       "      <th>0</th>\n",
       "    </tr>\n",
       "  </thead>\n",
       "  <tbody>\n",
       "    <tr>\n",
       "      <th>r1</th>\n",
       "      <td>0</td>\n",
       "    </tr>\n",
       "    <tr>\n",
       "      <th>r2</th>\n",
       "      <td>1</td>\n",
       "    </tr>\n",
       "  </tbody>\n",
       "</table>\n",
       "</div>"
      ],
      "text/plain": [
       "    0\n",
       "r1  0\n",
       "r2  1"
      ]
     },
     "execution_count": 198,
     "metadata": {},
     "output_type": "execute_result"
    }
   ],
   "source": [
    "df.iloc[:2]"
   ]
  },
  {
   "cell_type": "code",
   "execution_count": 209,
   "id": "75a8449e",
   "metadata": {},
   "outputs": [
    {
     "data": {
      "text/html": [
       "<div>\n",
       "<style scoped>\n",
       "    .dataframe tbody tr th:only-of-type {\n",
       "        vertical-align: middle;\n",
       "    }\n",
       "\n",
       "    .dataframe tbody tr th {\n",
       "        vertical-align: top;\n",
       "    }\n",
       "\n",
       "    .dataframe thead th {\n",
       "        text-align: right;\n",
       "    }\n",
       "</style>\n",
       "<table border=\"1\" class=\"dataframe\">\n",
       "  <thead>\n",
       "    <tr style=\"text-align: right;\">\n",
       "      <th></th>\n",
       "      <th>0</th>\n",
       "    </tr>\n",
       "  </thead>\n",
       "  <tbody>\n",
       "    <tr>\n",
       "      <th>r1</th>\n",
       "      <td>0</td>\n",
       "    </tr>\n",
       "    <tr>\n",
       "      <th>r2</th>\n",
       "      <td>1</td>\n",
       "    </tr>\n",
       "  </tbody>\n",
       "</table>\n",
       "</div>"
      ],
      "text/plain": [
       "    0\n",
       "r1  0\n",
       "r2  1"
      ]
     },
     "execution_count": 209,
     "metadata": {},
     "output_type": "execute_result"
    }
   ],
   "source": [
    "df[:2]"
   ]
  },
  {
   "cell_type": "code",
   "execution_count": 214,
   "id": "5e186a5d",
   "metadata": {},
   "outputs": [
    {
     "ename": "AttributeError",
     "evalue": "module 'pandas' has no attribute 'DESCR'",
     "output_type": "error",
     "traceback": [
      "\u001b[1;31m---------------------------------------------------------------------------\u001b[0m",
      "\u001b[1;31mAttributeError\u001b[0m                            Traceback (most recent call last)",
      "\u001b[1;32mC:\\Users\\MYPC~1\\AppData\\Local\\Temp/ipykernel_6352/3014026213.py\u001b[0m in \u001b[0;36m<module>\u001b[1;34m\u001b[0m\n\u001b[1;32m----> 1\u001b[1;33m \u001b[0mpd\u001b[0m\u001b[1;33m.\u001b[0m\u001b[0mDESCR\u001b[0m\u001b[1;33m(\u001b[0m\u001b[0mdf\u001b[0m\u001b[1;33m)\u001b[0m\u001b[1;33m\u001b[0m\u001b[1;33m\u001b[0m\u001b[0m\n\u001b[0m",
      "\u001b[1;32m~\\anaconda3\\lib\\site-packages\\pandas\\__init__.py\u001b[0m in \u001b[0;36m__getattr__\u001b[1;34m(name)\u001b[0m\n\u001b[0;32m    242\u001b[0m         \u001b[1;32mreturn\u001b[0m \u001b[0m_SparseArray\u001b[0m\u001b[1;33m\u001b[0m\u001b[1;33m\u001b[0m\u001b[0m\n\u001b[0;32m    243\u001b[0m \u001b[1;33m\u001b[0m\u001b[0m\n\u001b[1;32m--> 244\u001b[1;33m     \u001b[1;32mraise\u001b[0m \u001b[0mAttributeError\u001b[0m\u001b[1;33m(\u001b[0m\u001b[1;34mf\"module 'pandas' has no attribute '{name}'\"\u001b[0m\u001b[1;33m)\u001b[0m\u001b[1;33m\u001b[0m\u001b[1;33m\u001b[0m\u001b[0m\n\u001b[0m\u001b[0;32m    245\u001b[0m \u001b[1;33m\u001b[0m\u001b[0m\n\u001b[0;32m    246\u001b[0m \u001b[1;33m\u001b[0m\u001b[0m\n",
      "\u001b[1;31mAttributeError\u001b[0m: module 'pandas' has no attribute 'DESCR'"
     ]
    }
   ],
   "source": [
    "pd.DESCR(df)"
   ]
  },
  {
   "cell_type": "code",
   "execution_count": 215,
   "id": "edc05d38",
   "metadata": {},
   "outputs": [],
   "source": [
    "from sklearn import datasets\n",
    "\n",
    "iris = datasets.load_iris()"
   ]
  },
  {
   "cell_type": "code",
   "execution_count": 216,
   "id": "1e22cf4b",
   "metadata": {},
   "outputs": [
    {
     "data": {
      "text/plain": [
       "sklearn.utils.Bunch"
      ]
     },
     "execution_count": 216,
     "metadata": {},
     "output_type": "execute_result"
    }
   ],
   "source": [
    "type(iris)"
   ]
  },
  {
   "cell_type": "code",
   "execution_count": 218,
   "id": "b6874e51",
   "metadata": {},
   "outputs": [
    {
     "name": "stdout",
     "output_type": "stream",
     "text": [
      ".. _iris_dataset:\n",
      "\n",
      "Iris plants dataset\n",
      "--------------------\n",
      "\n",
      "**Data Set Characteristics:**\n",
      "\n",
      "    :Number of Instances: 150 (50 in each of three classes)\n",
      "    :Number of Attributes: 4 numeric, predictive attributes and the class\n",
      "    :Attribute Information:\n",
      "        - sepal length in cm\n",
      "        - sepal width in cm\n",
      "        - petal length in cm\n",
      "        - petal width in cm\n",
      "        - class:\n",
      "                - Iris-Setosa\n",
      "                - Iris-Versicolour\n",
      "                - Iris-Virginica\n",
      "                \n",
      "    :Summary Statistics:\n",
      "\n",
      "    ============== ==== ==== ======= ===== ====================\n",
      "                    Min  Max   Mean    SD   Class Correlation\n",
      "    ============== ==== ==== ======= ===== ====================\n",
      "    sepal length:   4.3  7.9   5.84   0.83    0.7826\n",
      "    sepal width:    2.0  4.4   3.05   0.43   -0.4194\n",
      "    petal length:   1.0  6.9   3.76   1.76    0.9490  (high!)\n",
      "    petal width:    0.1  2.5   1.20   0.76    0.9565  (high!)\n",
      "    ============== ==== ==== ======= ===== ====================\n",
      "\n",
      "    :Missing Attribute Values: None\n",
      "    :Class Distribution: 33.3% for each of 3 classes.\n",
      "    :Creator: R.A. Fisher\n",
      "    :Donor: Michael Marshall (MARSHALL%PLU@io.arc.nasa.gov)\n",
      "    :Date: July, 1988\n",
      "\n",
      "The famous Iris database, first used by Sir R.A. Fisher. The dataset is taken\n",
      "from Fisher's paper. Note that it's the same as in R, but not as in the UCI\n",
      "Machine Learning Repository, which has two wrong data points.\n",
      "\n",
      "This is perhaps the best known database to be found in the\n",
      "pattern recognition literature.  Fisher's paper is a classic in the field and\n",
      "is referenced frequently to this day.  (See Duda & Hart, for example.)  The\n",
      "data set contains 3 classes of 50 instances each, where each class refers to a\n",
      "type of iris plant.  One class is linearly separable from the other 2; the\n",
      "latter are NOT linearly separable from each other.\n",
      "\n",
      ".. topic:: References\n",
      "\n",
      "   - Fisher, R.A. \"The use of multiple measurements in taxonomic problems\"\n",
      "     Annual Eugenics, 7, Part II, 179-188 (1936); also in \"Contributions to\n",
      "     Mathematical Statistics\" (John Wiley, NY, 1950).\n",
      "   - Duda, R.O., & Hart, P.E. (1973) Pattern Classification and Scene Analysis.\n",
      "     (Q327.D83) John Wiley & Sons.  ISBN 0-471-22361-1.  See page 218.\n",
      "   - Dasarathy, B.V. (1980) \"Nosing Around the Neighborhood: A New System\n",
      "     Structure and Classification Rule for Recognition in Partially Exposed\n",
      "     Environments\".  IEEE Transactions on Pattern Analysis and Machine\n",
      "     Intelligence, Vol. PAMI-2, No. 1, 67-71.\n",
      "   - Gates, G.W. (1972) \"The Reduced Nearest Neighbor Rule\".  IEEE Transactions\n",
      "     on Information Theory, May 1972, 431-433.\n",
      "   - See also: 1988 MLC Proceedings, 54-64.  Cheeseman et al\"s AUTOCLASS II\n",
      "     conceptual clustering system finds 3 classes in the data.\n",
      "   - Many, many more ...\n"
     ]
    }
   ],
   "source": [
    "print(iris.DESCR)"
   ]
  },
  {
   "cell_type": "code",
   "execution_count": 226,
   "id": "7e5715e8",
   "metadata": {},
   "outputs": [
    {
     "data": {
      "text/plain": [
       "['sepal length (cm)',\n",
       " 'sepal width (cm)',\n",
       " 'petal length (cm)',\n",
       " 'petal width (cm)']"
      ]
     },
     "execution_count": 226,
     "metadata": {},
     "output_type": "execute_result"
    }
   ],
   "source": [
    "iris.feature_names"
   ]
  },
  {
   "cell_type": "code",
   "execution_count": 229,
   "id": "ac6e7a56",
   "metadata": {},
   "outputs": [
    {
     "name": "stdout",
     "output_type": "stream",
     "text": [
      "[[1. 0. 0. 1.]]\n"
     ]
    }
   ],
   "source": [
    "import sklearn.preprocessing as preprocessing\n",
    "\n",
    "x = [[0, 0], [0, 1], [1,0]]\n",
    "enc = preprocessing.OneHotEncoder()\n",
    "print(enc.fit(x).transform([[0, 1]]).toarray())"
   ]
  },
  {
   "cell_type": "code",
   "execution_count": 232,
   "id": "92408762",
   "metadata": {},
   "outputs": [
    {
     "name": "stdout",
     "output_type": "stream",
     "text": [
      "[1 0 3 1 2 0]\n"
     ]
    }
   ],
   "source": [
    "import sklearn.preprocessing as preprocessing\n",
    "\n",
    "regions = ['HYD', 'CHN', 'MUM', 'HYD', 'KOL', 'CHN']\n",
    "print(preprocessing.LabelEncoder().fit(regions).transform(regions))"
   ]
  },
  {
   "cell_type": "code",
   "execution_count": 259,
   "id": "427c53f3",
   "metadata": {},
   "outputs": [],
   "source": [
    "def isHappy(n):\n",
    "    dic = [2,3,4,5]\n",
    "    sum = 0\n",
    "    if n==1:\n",
    "        return 1\n",
    "    if n==0:\n",
    "        return 0\n",
    "    while(n!=1):\n",
    "        num= str(n)\n",
    "        for i in num:\n",
    "            sum = sum + int(i)**2\n",
    "        if sum in dic:\n",
    "            return 0 \n",
    "        if sum >1:\n",
    "            n = sum\n",
    "            dic.append(sum)\n",
    "            sum = 0    \n",
    "        else:\n",
    "            return 1 "
   ]
  },
  {
   "cell_type": "code",
   "execution_count": 280,
   "id": "9fd73c97",
   "metadata": {},
   "outputs": [
    {
     "data": {
      "text/plain": [
       "array(['123'], dtype='<U3')"
      ]
     },
     "execution_count": 280,
     "metadata": {},
     "output_type": "execute_result"
    }
   ],
   "source": [
    "arr = np.array('123'.split())\n",
    "arr"
   ]
  },
  {
   "cell_type": "code",
   "execution_count": 277,
   "id": "09d195c5",
   "metadata": {},
   "outputs": [
    {
     "data": {
      "text/plain": [
       "['abc']"
      ]
     },
     "execution_count": 277,
     "metadata": {},
     "output_type": "execute_result"
    }
   ],
   "source": [
    "'abc'.split()"
   ]
  },
  {
   "cell_type": "code",
   "execution_count": 320,
   "id": "643dab8d",
   "metadata": {},
   "outputs": [
    {
     "name": "stdout",
     "output_type": "stream",
     "text": [
      "1\n",
      "7\n",
      "10\n",
      "13\n",
      "19\n",
      "23\n"
     ]
    }
   ],
   "source": [
    "for i in range(26):\n",
    "    if isHappy(i):\n",
    "        print(i)"
   ]
  },
  {
   "cell_type": "code",
   "execution_count": null,
   "id": "672d3d28",
   "metadata": {},
   "outputs": [],
   "source": [
    "7 > 49 >16 + 81 > 97 > 81 + 49 > 130 > 1 +9 +0> 10 > 1 + 0> 1\n",
    "\n",
    "2 > 4 >16> 37 > 58 >89 > 145 >  42 > 20 > 4 >\n",
    "\n",
    "5 >25 > 29 > 85 > 89 "
   ]
  },
  {
   "cell_type": "code",
   "execution_count": 327,
   "id": "02e3064e",
   "metadata": {},
   "outputs": [
    {
     "name": "stdout",
     "output_type": "stream",
     "text": [
      "[[ 1  2  3]\n",
      " [ 6  7  8]\n",
      " [11 12 13]]\n",
      "[[ 7  8  9]\n",
      " [12 13 14]\n",
      " [17 18 19]]\n",
      "[[ 8  9 10]\n",
      " [13 14 15]\n",
      " [18 19 20]]\n",
      "[[12 13 14]\n",
      " [17 18 19]\n",
      " [22 23 24]]\n",
      "[[13 14 15]\n",
      " [18 19 20]\n",
      " [23 24 25]]\n"
     ]
    }
   ],
   "source": [
    "dt = {0:False, 1:True, 4:False}\n",
    "def isHappy(num):\n",
    "    if num in dt:\n",
    "        return dt[num]\n",
    "    else:\n",
    "        sum = 0\n",
    "        for i in str(num):\n",
    "            sum = sum +int(i)**2    \n",
    "        value = isHappy(sum)\n",
    "        dt[num]=value\n",
    "        return value\n",
    "    \n",
    "arr = np.arange(1,26).reshape(5,5)\n",
    "arr2 = []\n",
    "n=len(arr)\n",
    "for i in range(n-2):\n",
    "    for j in range(n-2):     \n",
    "        arr2.append(arr[i:i+3,j:j+3].flatten())\n",
    "count1 =[]\n",
    "for i in range(len(arr2)):\n",
    "    count = 0\n",
    "    for j in range(len(arr2[i])):\n",
    "        if isHappy(arr2[i][j]):\n",
    "            count = count+1\n",
    "    count1.append(count)\n",
    "\n",
    "for i in range(len(count1)):\n",
    "    if count1[i]==np.max(count1):\n",
    "        print(arr2[i].reshape(3,3))"
   ]
  },
  {
   "cell_type": "code",
   "execution_count": 286,
   "id": "63381cd1",
   "metadata": {},
   "outputs": [],
   "source": [
    "arr = np.arange(1,26).reshape(5,5)"
   ]
  },
  {
   "cell_type": "code",
   "execution_count": 324,
   "id": "a5a7b710",
   "metadata": {},
   "outputs": [
    {
     "data": {
      "text/plain": [
       "array([[ 1,  2,  3,  4,  5],\n",
       "       [ 6,  7,  8,  9, 10],\n",
       "       [11, 12, 13, 14, 15],\n",
       "       [16, 17, 18, 19, 20],\n",
       "       [21, 22, 23, 24, 25]])"
      ]
     },
     "execution_count": 324,
     "metadata": {},
     "output_type": "execute_result"
    }
   ],
   "source": [
    "arr"
   ]
  },
  {
   "cell_type": "code",
   "execution_count": 307,
   "id": "73b8a196",
   "metadata": {},
   "outputs": [],
   "source": [
    "arr2 = []\n",
    "n=len(arr)\n",
    "for i in range(n-2):\n",
    "    for j in range(n-2):     \n",
    "        arr2.append(arr[i:i+3,j:j+3].flatten())"
   ]
  },
  {
   "cell_type": "code",
   "execution_count": null,
   "id": "8e75fba9",
   "metadata": {},
   "outputs": [],
   "source": []
  },
  {
   "cell_type": "code",
   "execution_count": 323,
   "id": "19c66562",
   "metadata": {},
   "outputs": [
    {
     "name": "stdout",
     "output_type": "stream",
     "text": [
      "[[ 1  2  3]\n",
      " [ 6  7  8]\n",
      " [11 12 13]]\n",
      "[[ 7  8  9]\n",
      " [12 13 14]\n",
      " [17 18 19]]\n",
      "[[ 8  9 10]\n",
      " [13 14 15]\n",
      " [18 19 20]]\n",
      "[[12 13 14]\n",
      " [17 18 19]\n",
      " [22 23 24]]\n",
      "[[13 14 15]\n",
      " [18 19 20]\n",
      " [23 24 25]]\n"
     ]
    }
   ],
   "source": [
    "count1 =[]\n",
    "for i in range(len(arr2)):\n",
    "    count = 0\n",
    "    for j in range(len(arr2[i])):\n",
    "        if isHappy(arr2[i][j]):\n",
    "            count = count+1\n",
    "    count1.append(count)\n",
    "\n",
    "for i in range(len(count1)):\n",
    "    if count1[i]==np.max(count1):\n",
    "        print(arr2[i].reshape(3,3))"
   ]
  },
  {
   "cell_type": "code",
   "execution_count": 321,
   "id": "6470842d",
   "metadata": {},
   "outputs": [
    {
     "name": "stdout",
     "output_type": "stream",
     "text": [
      "[3, 2, 2, 2, 3, 3, 2, 3, 3]\n"
     ]
    }
   ],
   "source": [
    "print(count1)"
   ]
  },
  {
   "cell_type": "code",
   "execution_count": 336,
   "id": "b7aa308a",
   "metadata": {},
   "outputs": [],
   "source": [
    "n = [1,2,4,6]"
   ]
  },
  {
   "cell_type": "code",
   "execution_count": 337,
   "id": "4dd6ecbb",
   "metadata": {},
   "outputs": [],
   "source": [
    "n1 = np.arange(1,7)"
   ]
  },
  {
   "cell_type": "code",
   "execution_count": 338,
   "id": "c08b93bb",
   "metadata": {},
   "outputs": [],
   "source": [
    "n.sort()"
   ]
  },
  {
   "cell_type": "code",
   "execution_count": 339,
   "id": "79708586",
   "metadata": {},
   "outputs": [],
   "source": [
    "def difference(n,n1):\n",
    "    l1 = []\n",
    "    for i in n1:\n",
    "        if i not in n:\n",
    "            l1.append(i)\n",
    "    return l1"
   ]
  },
  {
   "cell_type": "code",
   "execution_count": 340,
   "id": "e18defbd",
   "metadata": {},
   "outputs": [
    {
     "data": {
      "text/plain": [
       "[3, 5]"
      ]
     },
     "execution_count": 340,
     "metadata": {},
     "output_type": "execute_result"
    }
   ],
   "source": [
    "difference(n,n1)"
   ]
  },
  {
   "cell_type": "code",
   "execution_count": 342,
   "id": "014fde39",
   "metadata": {},
   "outputs": [
    {
     "name": "stdout",
     "output_type": "stream",
     "text": [
      "[3, 5]\n"
     ]
    }
   ],
   "source": [
    "l1=[]\n",
    "for i in range(1,7):\n",
    "    if i not in n:\n",
    "            l1.append(i)\n",
    "print(l1)"
   ]
  },
  {
   "cell_type": "code",
   "execution_count": 343,
   "id": "7ea1e8af",
   "metadata": {},
   "outputs": [],
   "source": [
    "#Coding Question 3\n"
   ]
  },
  {
   "cell_type": "code",
   "execution_count": 402,
   "id": "d5de116a",
   "metadata": {},
   "outputs": [],
   "source": [
    "arr = np.arange(1,10).reshape(3,3)"
   ]
  },
  {
   "cell_type": "code",
   "execution_count": 403,
   "id": "5a3bece5",
   "metadata": {},
   "outputs": [],
   "source": [
    "arr[0][0]=100"
   ]
  },
  {
   "cell_type": "code",
   "execution_count": 404,
   "id": "c8798a0b",
   "metadata": {},
   "outputs": [],
   "source": [
    "res1=arr.diagonal().sum()\n",
    "res2=np.fliplr(arr).diagonal().sum()"
   ]
  },
  {
   "cell_type": "code",
   "execution_count": 405,
   "id": "dcb3b681",
   "metadata": {},
   "outputs": [
    {
     "data": {
      "text/plain": [
       "114"
      ]
     },
     "execution_count": 405,
     "metadata": {},
     "output_type": "execute_result"
    }
   ],
   "source": [
    "sum1=0\n",
    "for i in range(arr.shape[0]):\n",
    "    for j in range(arr.shape[1]):\n",
    "        if i ==j:\n",
    "            sum1 = sum1 + arr[i][j]\n",
    "\n",
    "sum1   "
   ]
  },
  {
   "cell_type": "code",
   "execution_count": 406,
   "id": "c99dc008",
   "metadata": {},
   "outputs": [
    {
     "data": {
      "text/plain": [
       "15"
      ]
     },
     "execution_count": 406,
     "metadata": {},
     "output_type": "execute_result"
    }
   ],
   "source": [
    "n=len(arr)\n",
    "sum=0\n",
    "for i in range(n):\n",
    "    for j in range(n,-1,-1):\n",
    "        if ((i+j)==n-1):\n",
    "            sum= sum+arr[i][j]\n",
    "sum"
   ]
  },
  {
   "cell_type": "code",
   "execution_count": 407,
   "id": "3caf19df",
   "metadata": {},
   "outputs": [
    {
     "name": "stdout",
     "output_type": "stream",
     "text": [
      "114 15 114 15\n"
     ]
    }
   ],
   "source": [
    "print(res1,res2,sum1,sum)"
   ]
  },
  {
   "cell_type": "code",
   "execution_count": 408,
   "id": "8bde205e",
   "metadata": {},
   "outputs": [
    {
     "data": {
      "text/plain": [
       "array([[100,   2,   3],\n",
       "       [  4,   5,   6],\n",
       "       [  7,   8,   9]])"
      ]
     },
     "execution_count": 408,
     "metadata": {},
     "output_type": "execute_result"
    }
   ],
   "source": [
    "arr"
   ]
  },
  {
   "cell_type": "code",
   "execution_count": 448,
   "id": "707a8e11",
   "metadata": {},
   "outputs": [],
   "source": [
    "\n",
    "str='mama'\n",
    "str1=str[-1]+str[:-1]\n",
    "str2=str[1:]+str[0]"
   ]
  },
  {
   "cell_type": "code",
   "execution_count": 449,
   "id": "31e22d4a",
   "metadata": {},
   "outputs": [
    {
     "name": "stdout",
     "output_type": "stream",
     "text": [
      "Doraemon M\n"
     ]
    }
   ],
   "source": [
    "if str2==str1:\n",
    "    print(\"Doraemon M\")"
   ]
  },
  {
   "cell_type": "code",
   "execution_count": 437,
   "id": "a05db713",
   "metadata": {},
   "outputs": [
    {
     "data": {
      "text/plain": [
       "'amam'"
      ]
     },
     "execution_count": 437,
     "metadata": {},
     "output_type": "execute_result"
    }
   ],
   "source": [
    "str1"
   ]
  },
  {
   "cell_type": "code",
   "execution_count": 438,
   "id": "987c2651",
   "metadata": {},
   "outputs": [
    {
     "data": {
      "text/plain": [
       "'amam'"
      ]
     },
     "execution_count": 438,
     "metadata": {},
     "output_type": "execute_result"
    }
   ],
   "source": [
    "str2"
   ]
  },
  {
   "cell_type": "code",
   "execution_count": 452,
   "id": "67a2d87a",
   "metadata": {},
   "outputs": [
    {
     "name": "stdout",
     "output_type": "stream",
     "text": [
      "Doraemon M\n"
     ]
    }
   ],
   "source": [
    "str1 = 'Technoname10'\n",
    "num =\"\"\n",
    "for i in str1:\n",
    "    if i.isnumeric():\n",
    "        num = num + i\n",
    "if (len(str1) - len(num) -int(num)) == 0:\n",
    "    print(\"Doraemon M\")"
   ]
  },
  {
   "cell_type": "code",
   "execution_count": null,
   "id": "410f500c",
   "metadata": {},
   "outputs": [],
   "source": []
  }
 ],
 "metadata": {
  "kernelspec": {
   "display_name": "Python 3 (ipykernel)",
   "language": "python",
   "name": "python3"
  },
  "language_info": {
   "codemirror_mode": {
    "name": "ipython",
    "version": 3
   },
   "file_extension": ".py",
   "mimetype": "text/x-python",
   "name": "python",
   "nbconvert_exporter": "python",
   "pygments_lexer": "ipython3",
   "version": "3.9.7"
  }
 },
 "nbformat": 4,
 "nbformat_minor": 5
}

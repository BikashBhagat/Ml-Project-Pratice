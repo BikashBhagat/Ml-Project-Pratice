{
 "cells": [
  {
   "cell_type": "code",
   "execution_count": 85,
   "id": "38b89f9f",
   "metadata": {},
   "outputs": [],
   "source": [
    "file = open('text1.txt', 'r')\n",
    "fileSource = open('textSource.txt', 'r')\n",
    "content = fileSource.read().split('\\n')"
   ]
  },
  {
   "cell_type": "code",
   "execution_count": 86,
   "id": "23732d44",
   "metadata": {},
   "outputs": [],
   "source": [
    "fileSource = open('textSource.txt', 'a+')\n",
    "fileSource.write('\\n')\n",
    "for line1 in file:\n",
    "    if line1 not in content:\n",
    "        fileSource.write(line1)        \n",
    "fileSource.write('\\n')\n",
    "fileSource.close()\n",
    "        "
   ]
  },
  {
   "cell_type": "code",
   "execution_count": 87,
   "id": "0c41e018",
   "metadata": {},
   "outputs": [],
   "source": [
    "for line1 in file:\n",
    "    if line1 not in content:\n",
    "        print(line1)"
   ]
  },
  {
   "cell_type": "code",
   "execution_count": 88,
   "id": "c820e055",
   "metadata": {
    "scrolled": true
   },
   "outputs": [
    {
     "name": "stdout",
     "output_type": "stream",
     "text": [
      "Bikash eat rice\n",
      "Dunki is a blockbuster movie\n",
      "I hate Saalar\n",
      "\n",
      "Bikash eat rice.\n",
      "I never watch Fan movie\n",
      "I love sweets.\n",
      "I love to go for a walk.\n",
      "\n",
      "Bikash eat rice.\n",
      "I never watch Fan movie\n",
      "I love sweets.\n",
      "\n",
      "\n",
      "\n",
      "\n"
     ]
    }
   ],
   "source": [
    "for line in content:\n",
    "    print(line)"
   ]
  },
  {
   "cell_type": "code",
   "execution_count": 39,
   "id": "843d1025",
   "metadata": {},
   "outputs": [
    {
     "data": {
      "text/plain": [
       "'Bikash eat rice.\\nI never watch Fan movie\\nI love sweets.\\nI love to go for a walk.'"
      ]
     },
     "execution_count": 39,
     "metadata": {},
     "output_type": "execute_result"
    }
   ],
   "source": [
    "content"
   ]
  },
  {
   "cell_type": "code",
   "execution_count": 20,
   "id": "d3eb80a7",
   "metadata": {},
   "outputs": [],
   "source": [
    "contentList = content.split(\"\\n\")"
   ]
  },
  {
   "cell_type": "code",
   "execution_count": 19,
   "id": "14e731be",
   "metadata": {},
   "outputs": [
    {
     "data": {
      "text/plain": [
       "'Bikash eat rice.\\nI never watch Fan movie\\nI love sweets.\\nI love to go for a walk.'"
      ]
     },
     "execution_count": 19,
     "metadata": {},
     "output_type": "execute_result"
    }
   ],
   "source": []
  },
  {
   "cell_type": "code",
   "execution_count": 61,
   "id": "4f309c21",
   "metadata": {},
   "outputs": [
    {
     "name": "stdout",
     "output_type": "stream",
     "text": [
      "Bikash eat rice\n",
      "\n",
      "Dunki is a blockbuster movie\n",
      "\n",
      "I hate Saalar\n",
      "\n"
     ]
    }
   ],
   "source": [
    "for line in fileSource:\n",
    "    print(line)"
   ]
  },
  {
   "cell_type": "code",
   "execution_count": 62,
   "id": "20bf36a5",
   "metadata": {},
   "outputs": [
    {
     "data": {
      "text/plain": [
       "''"
      ]
     },
     "execution_count": 62,
     "metadata": {},
     "output_type": "execute_result"
    }
   ],
   "source": [
    "fileSource.read()"
   ]
  },
  {
   "cell_type": "code",
   "execution_count": null,
   "id": "6a04194f",
   "metadata": {},
   "outputs": [],
   "source": []
  }
 ],
 "metadata": {
  "kernelspec": {
   "display_name": "Python 3 (ipykernel)",
   "language": "python",
   "name": "python3"
  },
  "language_info": {
   "codemirror_mode": {
    "name": "ipython",
    "version": 3
   },
   "file_extension": ".py",
   "mimetype": "text/x-python",
   "name": "python",
   "nbconvert_exporter": "python",
   "pygments_lexer": "ipython3",
   "version": "3.9.7"
  }
 },
 "nbformat": 4,
 "nbformat_minor": 5
}

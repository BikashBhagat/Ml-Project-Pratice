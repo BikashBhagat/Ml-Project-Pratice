{
 "cells": [
  {
   "cell_type": "code",
   "execution_count": 71,
   "id": "75f933d8",
   "metadata": {},
   "outputs": [],
   "source": [
    "file = open('text1.txt', 'r')\n",
    "fileSource = open('textSource.txt', 'r')\n",
    "content = fileSource.read().split('\\n')"
   ]
  },
  {
   "cell_type": "code",
   "execution_count": 72,
   "id": "d1ce6003",
   "metadata": {},
   "outputs": [],
   "source": [
    "for line1 in file:\n",
    "    if line1 not in content:\n",
    "        fileSource = open('textSource.txt', 'a+')\n",
    "        fileSource.write('\\n')\n",
    "        fileSource.write(line1)\n",
    "        \n",
    "fileSource.write('\\n')\n",
    "fileSource.close()\n",
    "        "
   ]
  },
  {
   "cell_type": "code",
   "execution_count": 37,
   "id": "bfa903a6",
   "metadata": {},
   "outputs": [],
   "source": [
    "for line in fileSource:\n",
    "    print(line)"
   ]
  },
  {
   "cell_type": "code",
   "execution_count": 38,
   "id": "d71bc572",
   "metadata": {},
   "outputs": [],
   "source": [
    "with open('text1.txt', 'r') as f1:\n",
    "    content = f1.read()"
   ]
  },
  {
   "cell_type": "code",
   "execution_count": 39,
   "id": "100f9019",
   "metadata": {},
   "outputs": [
    {
     "data": {
      "text/plain": [
       "'Bikash eat rice.\\nI never watch Fan movie\\nI love sweets.\\nI love to go for a walk.'"
      ]
     },
     "execution_count": 39,
     "metadata": {},
     "output_type": "execute_result"
    }
   ],
   "source": [
    "content"
   ]
  },
  {
   "cell_type": "code",
   "execution_count": 20,
   "id": "aae1cec7",
   "metadata": {},
   "outputs": [],
   "source": [
    "contentList = content.split(\"\\n\")"
   ]
  },
  {
   "cell_type": "code",
   "execution_count": 19,
   "id": "8798a818",
   "metadata": {},
   "outputs": [
    {
     "data": {
      "text/plain": [
       "'Bikash eat rice.\\nI never watch Fan movie\\nI love sweets.\\nI love to go for a walk.'"
      ]
     },
     "execution_count": 19,
     "metadata": {},
     "output_type": "execute_result"
    }
   ],
   "source": []
  },
  {
   "cell_type": "code",
   "execution_count": 61,
   "id": "3eefb41a",
   "metadata": {},
   "outputs": [
    {
     "name": "stdout",
     "output_type": "stream",
     "text": [
      "Bikash eat rice\n",
      "\n",
      "Dunki is a blockbuster movie\n",
      "\n",
      "I hate Saalar\n",
      "\n"
     ]
    }
   ],
   "source": [
    "for line in fileSource:\n",
    "    print(line)"
   ]
  },
  {
   "cell_type": "code",
   "execution_count": 62,
   "id": "c864e886",
   "metadata": {},
   "outputs": [
    {
     "data": {
      "text/plain": [
       "''"
      ]
     },
     "execution_count": 62,
     "metadata": {},
     "output_type": "execute_result"
    }
   ],
   "source": [
    "fileSource.read()"
   ]
  },
  {
   "cell_type": "code",
   "execution_count": null,
   "id": "17f29f2a",
   "metadata": {},
   "outputs": [],
   "source": []
  }
 ],
 "metadata": {
  "kernelspec": {
   "display_name": "Python 3 (ipykernel)",
   "language": "python",
   "name": "python3"
  },
  "language_info": {
   "codemirror_mode": {
    "name": "ipython",
    "version": 3
   },
   "file_extension": ".py",
   "mimetype": "text/x-python",
   "name": "python",
   "nbconvert_exporter": "python",
   "pygments_lexer": "ipython3",
   "version": "3.9.7"
  }
 },
 "nbformat": 4,
 "nbformat_minor": 5
}

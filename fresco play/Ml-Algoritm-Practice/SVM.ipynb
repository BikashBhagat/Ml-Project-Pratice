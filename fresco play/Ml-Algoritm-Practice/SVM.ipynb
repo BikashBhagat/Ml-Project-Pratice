{
 "cells": [
  {
   "cell_type": "code",
   "execution_count": 7,
   "id": "faaedac9",
   "metadata": {},
   "outputs": [
    {
     "name": "stdout",
     "output_type": "stream",
     "text": [
      "(1347, 64)\n",
      "(450, 64)\n",
      "0.9822222222222222\n",
      "0.9733333333333334\n"
     ]
    }
   ],
   "source": [
    "import sklearn.datasets as skd\n",
    "import sklearn.model_selection\n",
    "import numpy as np\n",
    "\n",
    "digit = skd.load_digits()\n",
    "from sklearn.model_selection import train_test_split\n",
    "\n",
    "X_train, X_test, y_train, y_test = train_test_split(digit.data, digit.target,stratify=digit.target, random_state=30)\n",
    "print(X_train.shape)\n",
    "print(X_test.shape)\n",
    "\n",
    "from sklearn.svm import SVC\n",
    "\n",
    "sv_clf= SVC()\n",
    "sv_clf = sv_clf.fit(X_train,y_train)\n",
    "\n",
    "print(sv_clf.score(X_test,y_test))\n",
    "\n",
    "\n",
    "from sklearn.preprocessing import StandardScaler\n",
    "digit_standardized = StandardScaler()\n",
    "digit_standardized = digit_standardized.fit(digit.data)\n",
    "digit_standardized = digit_standardized.transform(digit.data)\n",
    "\n",
    "X_train, X_test, y_train, y_test = train_test_split(digit_standardized, digit.target,stratify=digit.target, random_state=30)\n",
    "sv_clf2= SVC()\n",
    "sv_clf2 = sv_clf2.fit(X_train,y_train)\n",
    "\n",
    "print(sv_clf2.score(X_test,y_test))\n"
   ]
  },
  {
   "cell_type": "code",
   "execution_count": 11,
   "id": "ed6a8008",
   "metadata": {},
   "outputs": [
    {
     "ename": "TypeError",
     "evalue": "'SVC' object is not callable",
     "output_type": "error",
     "traceback": [
      "\u001b[1;31m---------------------------------------------------------------------------\u001b[0m",
      "\u001b[1;31mTypeError\u001b[0m                                 Traceback (most recent call last)",
      "\u001b[1;32mC:\\Users\\MYPC~1\\AppData\\Local\\Temp/ipykernel_25688/1237972413.py\u001b[0m in \u001b[0;36m<module>\u001b[1;34m\u001b[0m\n\u001b[1;32m----> 1\u001b[1;33m \u001b[0mprint\u001b[0m \u001b[1;33m(\u001b[0m\u001b[0msv_clf2\u001b[0m\u001b[1;33m(\u001b[0m\u001b[1;33m)\u001b[0m\u001b[1;33m)\u001b[0m\u001b[1;33m\u001b[0m\u001b[1;33m\u001b[0m\u001b[0m\n\u001b[0m",
      "\u001b[1;31mTypeError\u001b[0m: 'SVC' object is not callable"
     ]
    }
   ],
   "source": [
    "print"
   ]
  },
  {
   "cell_type": "code",
   "execution_count": null,
   "id": "259afe62",
   "metadata": {},
   "outputs": [],
   "source": []
  }
 ],
 "metadata": {
  "kernelspec": {
   "display_name": "Python 3 (ipykernel)",
   "language": "python",
   "name": "python3"
  },
  "language_info": {
   "codemirror_mode": {
    "name": "ipython",
    "version": 3
   },
   "file_extension": ".py",
   "mimetype": "text/x-python",
   "name": "python",
   "nbconvert_exporter": "python",
   "pygments_lexer": "ipython3",
   "version": "3.9.7"
  }
 },
 "nbformat": 4,
 "nbformat_minor": 5
}

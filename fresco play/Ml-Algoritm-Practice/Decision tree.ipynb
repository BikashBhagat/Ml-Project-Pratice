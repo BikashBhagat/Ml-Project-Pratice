{
 "cells": [
  {
   "cell_type": "code",
   "execution_count": 1,
   "id": "8a62f0b9",
   "metadata": {},
   "outputs": [],
   "source": [
    "import sklearn.datasets as skd\n",
    "import sklearn.model_selection\n",
    "import numpy as np\n"
   ]
  },
  {
   "cell_type": "code",
   "execution_count": 2,
   "id": "3c9d52d0",
   "metadata": {},
   "outputs": [],
   "source": [
    "np.random.seed(100)"
   ]
  },
  {
   "cell_type": "code",
   "execution_count": 3,
   "id": "9f5e71ae",
   "metadata": {},
   "outputs": [
    {
     "name": "stdout",
     "output_type": "stream",
     "text": [
      "(379, 13)\n",
      "(127, 13)\n",
      "1.0\n",
      "0.8098834820264638\n",
      "[18.2 13.9]\n",
      "4\n"
     ]
    }
   ],
   "source": [
    "import sklearn.datasets as skd\n",
    "import sklearn.model_selection\n",
    "import numpy as np\n",
    "\n",
    "np.random.seed(100)\n",
    "boston = skd.load_boston()\n",
    "from sklearn.model_selection import train_test_split\n",
    "\n",
    "X_train, X_test, y_train, y_test = train_test_split(boston.data, boston.target, random_state=30)\n",
    "\n",
    "print(X_train.shape)\n",
    "print(X_test.shape)\n",
    "\n",
    "from sklearn.tree import DecisionTreeRegressor\n",
    "\n",
    "dt_reg = DecisionTreeRegressor()\n",
    "dt_reg = dt_reg.fit(X_train,y_train)\n",
    "\n",
    "print(dt_reg.score(X_train,y_train))\n",
    "print(dt_reg.score(X_test,y_test))\n",
    "\n",
    "print((dt_reg.predict(X_test[:2])))\n",
    "\n",
    "accuracy = {}\n",
    "for i in range(2,6):\n",
    "    dt_reg = DecisionTreeRegressor(max_depth=i)\n",
    "    dt_reg = dt_reg.fit(X_train,y_train)\n",
    "    accuracy[i] = (dt_reg.score(X_test,y_test))    \n",
    "max_accuracy_depth = max(accuracy, key=accuracy.get)\n",
    "print(max_accuracy_depth)"
   ]
  },
  {
   "cell_type": "code",
   "execution_count": 59,
   "id": "38c1b77c",
   "metadata": {},
   "outputs": [
    {
     "name": "stdout",
     "output_type": "stream",
     "text": [
      "(379, 13)\n",
      "(127, 13)\n",
      "1.0\n",
      "0.88608530301534\n",
      "[19.17   9.887]\n",
      "(5, 50)\n"
     ]
    }
   ],
   "source": [
    "import sklearn.datasets as skd\n",
    "import sklearn.model_selection\n",
    "import numpy as np\n",
    "\n",
    "np.random.seed(100)\n",
    "boston = skd.load_boston()\n",
    "from sklearn.model_selection import train_test_split\n",
    "\n",
    "X_train, X_test, y_train, y_test = train_test_split(boston.data, boston.target, random_state=30)\n",
    "\n",
    "print(X_train.shape)\n",
    "print(X_test.shape)\n",
    "\n",
    "from sklearn.ensemble import RandomForestRegressor\n",
    "\n",
    "rf_reg = RandomForestRegressor()\n",
    "rf_reg = rf_reg.fit(X_train,y_train)\n",
    "\n",
    "print(rf_reg.score(X_train,y_train))\n",
    "print(rf_reg.score(X_test,y_test))\n",
    "\n",
    "print(rf_reg.predict(X_test[:2]))\n",
    "s = {}\n",
    "accuracy = {}\n",
    "for i in range(3,6):\n",
    "    dict_1 ={}\n",
    "    for j in [50,100,200]:\n",
    "        rf_reg = RandomForestRegressor(max_depth=i,n_estimators = j)\n",
    "        rf_reg = rf_reg.fit(X_train,y_train)\n",
    "        dict_1[j] = (rf_reg.score(X_test,y_test))\n",
    "    s[i] = (max(dict_1,key = dict_1.get))\n",
    "    accuracy[i] = max(dict_1.values())\n",
    "max_accuracy_depth = max(accuracy, key = accuracy.get)\n",
    "result = (max_accuracy_depth,s[max_accuracy_depth])\n",
    "print(result)"
   ]
  },
  {
   "cell_type": "code",
   "execution_count": 58,
   "id": "e06e0825",
   "metadata": {},
   "outputs": [
    {
     "data": {
      "text/plain": [
       "0.57"
      ]
     },
     "execution_count": 58,
     "metadata": {},
     "output_type": "execute_result"
    }
   ],
   "source": [
    "round(0.567888877,2)"
   ]
  },
  {
   "cell_type": "code",
   "execution_count": null,
   "id": "1b4e19bf",
   "metadata": {},
   "outputs": [],
   "source": []
  }
 ],
 "metadata": {
  "kernelspec": {
   "display_name": "Python 3 (ipykernel)",
   "language": "python",
   "name": "python3"
  },
  "language_info": {
   "codemirror_mode": {
    "name": "ipython",
    "version": 3
   },
   "file_extension": ".py",
   "mimetype": "text/x-python",
   "name": "python",
   "nbconvert_exporter": "python",
   "pygments_lexer": "ipython3",
   "version": "3.9.7"
  }
 },
 "nbformat": 4,
 "nbformat_minor": 5
}

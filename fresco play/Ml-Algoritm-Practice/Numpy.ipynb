{
 "cells": [
  {
   "cell_type": "markdown",
   "id": "9a1de641",
   "metadata": {},
   "source": [
    "## Welcome to your challenge on Data Visualization using Matplotlib \n",
    "- In this task you willbe asked to draw bar plots using matplotlib.\n",
    "- Your plots must match with the expected plots provided in each task. \n",
    "- Add extra cells for coding if necessary.\n",
    "\n",
    "### Run the below cell to install the neccessary package\n",
    "\n",
    "import numpy as np \n",
    "import matplotlib.pyplot as plt \n",
    "import pickle\n",
    "\n",
    "### Perform apropriate given operations in the below function bar_plot -\n",
    "\n",
    "        - Create a figure of size 10 inches in width, and 6 inches in height. Name it as `fig`.\n",
    "        - Create an axis with values 111, associated with figure `fig`,  using `add_subplot`. Name it as `ax`.\n",
    "        - Create a list `Team` with values `\"Detroit\",\"NY Mets\",\"Washington\",\"Arizona\",\"Texas\"`.\n",
    "        - Create a list `Games_Played` with values `86,87,87,88,88`.\n",
    "        - Label X-Axis as `Teams`.\n",
    "        - Label Y-Axis as `Matches Played`.\n",
    "        - Set Title as `Matches Played By Each Team`.\n",
    "        - Set ticks on X-Axis at 0, 1, 2 , 3 and 4.\n",
    "        - Set X-Axis tick labels to `\"Detroit\",\"NY Mets\",\"Washington\",\"Arizona\",\"Texas\"`\n",
    "        - Set ticks on Y-Axis at 20,40,60,80,100\n",
    "        - Draw a bar plot using `bar` function, such that height of each vertical bar show Games Played by each Team. \n",
    "        - Use `Team` and `Games_Played` as variables. Set bar width to be `0.5`, color to be `brown`, and border color of             bar to be `black`.\n",
    "        - Return the plot ax.\n",
    "        \n",
    " ### Expected plot\n",
    "<img src=\"expected_plots/plot1.png\">\n",
    "\n",
    "def bar_plot():\n",
    "    \n",
    "    \n",
    "    \n",
    "    \n",
    "    \n",
    "    \n",
    "    \n",
    "\n",
    "### Perform apropriate given operations in the below function hbar_plot -\n",
    "\n",
    "        - Create a figure of size 10 inches in width, and 6 inches in height. Name it as `fig`.\n",
    "        - Create an axis with values 111, associated with figure `fig`,  using `add_subplot`. Name it as `ax1`.\n",
    "        - Create a list `Team` with values `\"Detroit\",\"NY Mets\",\"Washington\",\"Arizona\",\"Texas\"`.\n",
    "        - Create a list `At_Bats` with values `343,275,161,267,308`.\n",
    "        - Label X-Axis as `At Bats`.\n",
    "        - Label Y-Axis as `Teams`.\n",
    "        - Set Title as `At Bats By Each Team`.\n",
    "        - Set ticks on X-Axis at 0, 1, 2 , 3 and 4.\n",
    "        - Set X-Axis tick labels to `\"Detroit\",\"NY Mets\",\"Washington\",\"Arizona\",\"Texas\"`.\n",
    "        - Set ticks on Y-Axis at 0,1,2,3,4.\n",
    "        - Draw a horizontal bar plot using `bar` function, such that width of each bar show At Bats of each Team. \n",
    "        - Use `Team` and `At_Bats` as variables. Set bar height to be `0.5`, color to be `Grey`, and border color of bar to           be `black`.\n",
    "        - Return the plot ax1.\n",
    " ### Expected plot\n",
    "<img src=\"expected_plots/plot2.png\">\n",
    "\n",
    "def hbar_plot():\n",
    "    \n",
    "    \n",
    "    \n",
    "    \n",
    "    \n",
    "    \n",
    "\n",
    "### Assign the function bar_plot to the variable ax and run the cell\n",
    "\n",
    "ax =\n",
    "\n",
    "### Assign the function hbar_plot to the variable ax1 and run the cell\n",
    "\n",
    "ax1 =\n",
    "\n",
    "### Run this cell to dump the plot objects into pickle files for validation\n",
    "\n",
    "\n",
    "with open(\"plot1.pickle\", \"wb\") as file:\n",
    "    pickle.dump(ax, file)\n",
    "\n",
    "with open(\"plot2.pickle\", \"wb\") as file:\n",
    "    pickle.dump(ax1, file)\n",
    "\n"
   ]
  },
  {
   "cell_type": "code",
   "execution_count": 2,
   "id": "af5655d7",
   "metadata": {},
   "outputs": [],
   "source": [
    "import numpy as np\n",
    "import pandas as pd"
   ]
  },
  {
   "cell_type": "code",
   "execution_count": 75,
   "id": "b77bde48",
   "metadata": {},
   "outputs": [],
   "source": [
    "l1 = np.array([[12.2,2,3,4,1],\n",
    "               [1,2,4,5,8]])"
   ]
  },
  {
   "cell_type": "code",
   "execution_count": 4,
   "id": "72c5face",
   "metadata": {},
   "outputs": [
    {
     "data": {
      "text/plain": [
       "(2, 4)"
      ]
     },
     "execution_count": 4,
     "metadata": {},
     "output_type": "execute_result"
    }
   ],
   "source": [
    "l1.shape"
   ]
  },
  {
   "cell_type": "code",
   "execution_count": 11,
   "id": "e75dfdaa",
   "metadata": {},
   "outputs": [
    {
     "data": {
      "text/plain": [
       "2"
      ]
     },
     "execution_count": 11,
     "metadata": {},
     "output_type": "execute_result"
    }
   ],
   "source": [
    "l1.ndim"
   ]
  },
  {
   "cell_type": "code",
   "execution_count": 12,
   "id": "3f9b5716",
   "metadata": {},
   "outputs": [
    {
     "data": {
      "text/plain": [
       "10"
      ]
     },
     "execution_count": 12,
     "metadata": {},
     "output_type": "execute_result"
    }
   ],
   "source": [
    "l1.size"
   ]
  },
  {
   "cell_type": "code",
   "execution_count": 16,
   "id": "e95e89e1",
   "metadata": {},
   "outputs": [
    {
     "data": {
      "text/plain": [
       "True"
      ]
     },
     "execution_count": 16,
     "metadata": {},
     "output_type": "execute_result"
    }
   ],
   "source": [
    "l1.any()"
   ]
  },
  {
   "cell_type": "code",
   "execution_count": 55,
   "id": "f7adacb6",
   "metadata": {},
   "outputs": [
    {
     "data": {
      "text/plain": [
       "array([3, 4], dtype=int64)"
      ]
     },
     "execution_count": 55,
     "metadata": {},
     "output_type": "execute_result"
    }
   ],
   "source": [
    "l1.argmax(axis=1)"
   ]
  },
  {
   "cell_type": "code",
   "execution_count": 69,
   "id": "81a34abd",
   "metadata": {},
   "outputs": [
    {
     "data": {
      "text/plain": [
       "4"
      ]
     },
     "execution_count": 69,
     "metadata": {},
     "output_type": "execute_result"
    }
   ],
   "source": [
    "l1.itemsize"
   ]
  },
  {
   "cell_type": "code",
   "execution_count": 77,
   "id": "5d24d9bd",
   "metadata": {},
   "outputs": [
    {
     "data": {
      "text/plain": [
       "dtype('float64')"
      ]
     },
     "execution_count": 77,
     "metadata": {},
     "output_type": "execute_result"
    }
   ],
   "source": [
    "l1.dtype"
   ]
  },
  {
   "cell_type": "code",
   "execution_count": 71,
   "id": "5e7a40ba",
   "metadata": {},
   "outputs": [],
   "source": [
    "l2 = np.sort(l1)"
   ]
  },
  {
   "cell_type": "code",
   "execution_count": 72,
   "id": "54d08ed1",
   "metadata": {},
   "outputs": [
    {
     "name": "stdout",
     "output_type": "stream",
     "text": [
      "[[ 1  2  3  4 12]\n",
      " [ 1  2  4  5  8]]\n"
     ]
    }
   ],
   "source": [
    "print(l2)"
   ]
  },
  {
   "cell_type": "code",
   "execution_count": 70,
   "id": "67d8edf9",
   "metadata": {},
   "outputs": [
    {
     "data": {
      "text/plain": [
       "10"
      ]
     },
     "execution_count": 70,
     "metadata": {},
     "output_type": "execute_result"
    }
   ],
   "source": [
    "l1.size"
   ]
  },
  {
   "cell_type": "code",
   "execution_count": 76,
   "id": "e6b1591c",
   "metadata": {},
   "outputs": [
    {
     "data": {
      "text/plain": [
       "80"
      ]
     },
     "execution_count": 76,
     "metadata": {},
     "output_type": "execute_result"
    }
   ],
   "source": [
    "l1.nbytes"
   ]
  },
  {
   "cell_type": "code",
   "execution_count": 81,
   "id": "0cf083a6",
   "metadata": {},
   "outputs": [],
   "source": [
    "l2 = np.array([12+2j])"
   ]
  },
  {
   "cell_type": "code",
   "execution_count": 83,
   "id": "88f4b5fc",
   "metadata": {},
   "outputs": [
    {
     "data": {
      "text/plain": [
       "16"
      ]
     },
     "execution_count": 83,
     "metadata": {},
     "output_type": "execute_result"
    }
   ],
   "source": [
    "l2.nbytes"
   ]
  },
  {
   "cell_type": "code",
   "execution_count": 84,
   "id": "bc766b76",
   "metadata": {},
   "outputs": [],
   "source": [
    "y = np.array([[12.2,2,3,4,1],\n",
    "               [1,2,4,5,8]])"
   ]
  },
  {
   "cell_type": "code",
   "execution_count": 85,
   "id": "5ca3f6be",
   "metadata": {},
   "outputs": [
    {
     "name": "stdout",
     "output_type": "stream",
     "text": [
      "2 (2, 5) 10 float64 8 80\n"
     ]
    }
   ],
   "source": [
    "print(y.ndim, y.shape, y.size, y.dtype, y.itemsize, y.nbytes)"
   ]
  },
  {
   "cell_type": "code",
   "execution_count": 109,
   "id": "efe208f5",
   "metadata": {},
   "outputs": [],
   "source": [
    "x,y= 19+2*np.random.randn(4),20+7*np.random.randn(4)"
   ]
  },
  {
   "cell_type": "code",
   "execution_count": 112,
   "id": "d3eb6c3a",
   "metadata": {},
   "outputs": [],
   "source": [
    "import matplotlib.pyplot as plt"
   ]
  },
  {
   "cell_type": "code",
   "execution_count": 136,
   "id": "56ed65fe",
   "metadata": {},
   "outputs": [
    {
     "data": {
      "text/plain": [
       "(array([1., 0., 1., 1., 1.]),\n",
       " array([16.11845763, 17.09919256, 18.07992749, 19.06066242, 20.04139736,\n",
       "        21.02213229]),\n",
       " <BarContainer object of 5 artists>)"
      ]
     },
     "execution_count": 136,
     "metadata": {},
     "output_type": "execute_result"
    },
    {
     "data": {
      "image/png": "[encoded data removed]",
      "text/plain": [
       "<Figure size 432x288 with 1 Axes>"
      ]
     },
     "metadata": {
      "needs_background": "light"
     },
     "output_type": "display_data"
    }
   ],
   "source": [
    "fig= plt.figure()\n",
    "ax= fig.add_subplot(111)\n",
    "plt.hist(x,bins=5)"
   ]
  },
  {
   "cell_type": "code",
   "execution_count": 144,
   "id": "43cab95b",
   "metadata": {},
   "outputs": [],
   "source": [
    "a = np.random.rand(10)"
   ]
  },
  {
   "cell_type": "code",
   "execution_count": 145,
   "id": "6f18b2a8",
   "metadata": {},
   "outputs": [
    {
     "name": "stdout",
     "output_type": "stream",
     "text": [
      "[0.14206538 0.58138896 0.47918994 0.38641911 0.44046495 0.40475733\n",
      " 0.44225404 0.03012328 0.77600531 0.55095838]\n"
     ]
    }
   ],
   "source": [
    "print(a)"
   ]
  },
  {
   "cell_type": "code",
   "execution_count": 154,
   "id": "77476f23",
   "metadata": {},
   "outputs": [],
   "source": [
    "b = np.random.randint(10,20,10)"
   ]
  },
  {
   "cell_type": "code",
   "execution_count": null,
   "id": "12ccc177",
   "metadata": {},
   "outputs": [],
   "source": []
  },
  {
   "cell_type": "code",
   "execution_count": 242,
   "id": "5467f2fd",
   "metadata": {},
   "outputs": [
    {
     "data": {
      "text/plain": [
       "Text(0.5, 1.0, 'Random Plot')"
      ]
     },
     "execution_count": 242,
     "metadata": {},
     "output_type": "execute_result"
    },
    {
     "data": {
      "image/png": "[encoded data removed]",
      "text/plain": [
       "<Figure size 864x648 with 3 Axes>"
      ]
     },
     "metadata": {
      "needs_background": "light"
     },
     "output_type": "display_data"
    }
   ],
   "source": [
    "fig = plt.figure(figsize=(12,9))\n",
    "ax2= fig.add_subplot(1,2,1)\n",
    "ax1= fig.add_subplot(2,2,2)\n",
    "ax3 = fig.add_subplot(2,2,4)\n",
    "# ax1.set_xlabel('bbbbbbbbbb')\n",
    "# ax1.set_ylabel('aaaaaaaaaa')\n",
    "# ax1.set_xlim(0,20)\n",
    "# ax1.set_ylim(0,1)\n",
    "# ax1.set_xticks(np.arange(0,20,2))\n",
    "ax1.set(xlabel='bbbbbbb',ylabel='aaaaaaa',xlim=(0,20),ylim=(0,1),xticks=np.arange(0,20,2))\n",
    "ax1.set_xticks(np.arange(0,20,1),minor=True)\n",
    "ax1.bar(b,a)\n",
    "ax2.bar(np.random.randint(5,15,5),np.random.rand(5))\n",
    "plt.title('Random Plot', weight='bold')\n",
    "\n"
   ]
  },
  {
   "cell_type": "code",
   "execution_count": 168,
   "id": "374fcf80",
   "metadata": {},
   "outputs": [],
   "source": [
    "x = np.full(shape=(3,3),fill_value=0)"
   ]
  },
  {
   "cell_type": "code",
   "execution_count": 171,
   "id": "b3381504",
   "metadata": {},
   "outputs": [
    {
     "data": {
      "text/plain": [
       "array([[0, 0, 0],\n",
       "       [0, 0, 0],\n",
       "       [0, 0, 0]])"
      ]
     },
     "execution_count": 171,
     "metadata": {},
     "output_type": "execute_result"
    }
   ],
   "source": [
    "x"
   ]
  },
  {
   "cell_type": "code",
   "execution_count": 161,
   "id": "c60f81ab",
   "metadata": {},
   "outputs": [],
   "source": [
    "np.fill_diagonal(x,1)"
   ]
  },
  {
   "cell_type": "code",
   "execution_count": 162,
   "id": "6cd4f4fd",
   "metadata": {},
   "outputs": [
    {
     "data": {
      "text/plain": [
       "array([[1, 0, 0],\n",
       "       [0, 1, 0],\n",
       "       [0, 0, 1]])"
      ]
     },
     "execution_count": 162,
     "metadata": {},
     "output_type": "execute_result"
    }
   ],
   "source": [
    "x"
   ]
  },
  {
   "cell_type": "code",
   "execution_count": 172,
   "id": "4c42cd4c",
   "metadata": {},
   "outputs": [],
   "source": [
    "y = np.ones_like(x)"
   ]
  },
  {
   "cell_type": "code",
   "execution_count": 177,
   "id": "8b82fd27",
   "metadata": {},
   "outputs": [
    {
     "data": {
      "text/plain": [
       "dtype('int32')"
      ]
     },
     "execution_count": 177,
     "metadata": {},
     "output_type": "execute_result"
    }
   ],
   "source": [
    "y.dtype"
   ]
  },
  {
   "cell_type": "code",
   "execution_count": 174,
   "id": "b9c91cdf",
   "metadata": {},
   "outputs": [],
   "source": [
    "z = np.ones(shape=(3,3))"
   ]
  },
  {
   "cell_type": "code",
   "execution_count": 176,
   "id": "4c4ceb6b",
   "metadata": {},
   "outputs": [
    {
     "data": {
      "text/plain": [
       "dtype('float64')"
      ]
     },
     "execution_count": 176,
     "metadata": {},
     "output_type": "execute_result"
    }
   ],
   "source": [
    "z.dtype"
   ]
  },
  {
   "cell_type": "code",
   "execution_count": 243,
   "id": "1800ac7f",
   "metadata": {},
   "outputs": [
    {
     "name": "stdout",
     "output_type": "stream",
     "text": [
      "(2, 2)\n"
     ]
    }
   ],
   "source": [
    "print(np.array(([1, 2], (3,4))).shape)"
   ]
  },
  {
   "cell_type": "code",
   "execution_count": 244,
   "id": "d7983346",
   "metadata": {},
   "outputs": [],
   "source": [
    "import numpy as np\n",
    "x = np.array([[-1, 1], \n",
    "              [-3, 3]])\n",
    "y = np.array([[-2, 2], \n",
    "              [-4, 4]])"
   ]
  },
  {
   "cell_type": "code",
   "execution_count": 250,
   "id": "7a5b2f53",
   "metadata": {},
   "outputs": [
    {
     "data": {
      "text/plain": [
       "array([[-1,  1],\n",
       "       [-3,  3],\n",
       "       [-2,  2],\n",
       "       [-4,  4]])"
      ]
     },
     "execution_count": 250,
     "metadata": {},
     "output_type": "execute_result"
    }
   ],
   "source": [
    "np.vstack((x,y))"
   ]
  },
  {
   "cell_type": "code",
   "execution_count": 248,
   "id": "e0b97c0a",
   "metadata": {},
   "outputs": [
    {
     "data": {
      "text/plain": [
       "array([[-1,  1, -2,  2],\n",
       "       [-3,  3, -4,  4]])"
      ]
     },
     "execution_count": 248,
     "metadata": {},
     "output_type": "execute_result"
    }
   ],
   "source": [
    "np.hstack((x,y))"
   ]
  },
  {
   "cell_type": "code",
   "execution_count": 251,
   "id": "8594826a",
   "metadata": {},
   "outputs": [],
   "source": [
    "import numpy as np\n",
    "x = np.arange(30).reshape(6, 5)"
   ]
  },
  {
   "cell_type": "code",
   "execution_count": 252,
   "id": "79865471",
   "metadata": {},
   "outputs": [
    {
     "data": {
      "text/plain": [
       "array([[ 0,  1,  2,  3,  4],\n",
       "       [ 5,  6,  7,  8,  9],\n",
       "       [10, 11, 12, 13, 14],\n",
       "       [15, 16, 17, 18, 19],\n",
       "       [20, 21, 22, 23, 24],\n",
       "       [25, 26, 27, 28, 29]])"
      ]
     },
     "execution_count": 252,
     "metadata": {},
     "output_type": "execute_result"
    }
   ],
   "source": [
    "x"
   ]
  },
  {
   "cell_type": "code",
   "execution_count": 258,
   "id": "be2c7973",
   "metadata": {},
   "outputs": [
    {
     "name": "stdout",
     "output_type": "stream",
     "text": [
      "[[ 0  1  2  3  4]\n",
      " [ 5  6  7  8  9]\n",
      " [10 11 12 13 14]]\n",
      "\n",
      "[[15 16 17 18 19]\n",
      " [20 21 22 23 24]\n",
      " [25 26 27 28 29]]\n"
     ]
    }
   ],
   "source": [
    "res = np.vsplit(x, 2)\n",
    "print(res[0], end='\\n\\n')\n",
    "print(res[1])"
   ]
  },
  {
   "cell_type": "code",
   "execution_count": 262,
   "id": "ce0ee198",
   "metadata": {},
   "outputs": [],
   "source": [
    "res2 = np.hsplit(x, 2)"
   ]
  },
  {
   "cell_type": "code",
   "execution_count": 260,
   "id": "41e79149",
   "metadata": {},
   "outputs": [],
   "source": [
    "x = np.arange(30).reshape(5,6)"
   ]
  },
  {
   "cell_type": "code",
   "execution_count": 261,
   "id": "3168988e",
   "metadata": {},
   "outputs": [
    {
     "data": {
      "text/plain": [
       "array([[ 0,  1,  2,  3,  4,  5],\n",
       "       [ 6,  7,  8,  9, 10, 11],\n",
       "       [12, 13, 14, 15, 16, 17],\n",
       "       [18, 19, 20, 21, 22, 23],\n",
       "       [24, 25, 26, 27, 28, 29]])"
      ]
     },
     "execution_count": 261,
     "metadata": {},
     "output_type": "execute_result"
    }
   ],
   "source": [
    "x"
   ]
  },
  {
   "cell_type": "code",
   "execution_count": 265,
   "id": "b1732149",
   "metadata": {},
   "outputs": [
    {
     "data": {
      "text/plain": [
       "array([[ 3,  4,  5],\n",
       "       [ 9, 10, 11],\n",
       "       [15, 16, 17],\n",
       "       [21, 22, 23],\n",
       "       [27, 28, 29]])"
      ]
     },
     "execution_count": 265,
     "metadata": {},
     "output_type": "execute_result"
    }
   ],
   "source": [
    "res2[1]"
   ]
  },
  {
   "cell_type": "code",
   "execution_count": 277,
   "id": "d9df9e07",
   "metadata": {},
   "outputs": [
    {
     "name": "stdout",
     "output_type": "stream",
     "text": [
      "[[0 1 2 3 4]\n",
      " [5 6 7 8 9]]\n",
      "\n",
      "[[10 11 12 13 14]\n",
      " [15 16 17 18 19]\n",
      " [20 21 22 23 24]]\n",
      "\n",
      "[[25 26 27 28 29]]\n"
     ]
    }
   ],
   "source": [
    "import numpy as np\n",
    "x = np.arange(30).reshape(6, 5)\n",
    "res = np.vsplit(x, (2,5))\n",
    "print(res[0], end='\\n\\n')\n",
    "print(res[1], end='\\n\\n')\n",
    "print(res[2])"
   ]
  },
  {
   "cell_type": "code",
   "execution_count": 275,
   "id": "e9376ceb",
   "metadata": {},
   "outputs": [
    {
     "data": {
      "text/plain": [
       "array([[ 0,  1,  2,  3,  4],\n",
       "       [ 5,  6,  7,  8,  9],\n",
       "       [10, 11, 12, 13, 14],\n",
       "       [15, 16, 17, 18, 19],\n",
       "       [20, 21, 22, 23, 24],\n",
       "       [25, 26, 27, 28, 29]])"
      ]
     },
     "execution_count": 275,
     "metadata": {},
     "output_type": "execute_result"
    }
   ],
   "source": [
    "x"
   ]
  },
  {
   "cell_type": "code",
   "execution_count": 282,
   "id": "af34afbe",
   "metadata": {},
   "outputs": [
    {
     "name": "stdout",
     "output_type": "stream",
     "text": [
      "[[0 1 2 3 4]\n",
      " [5 6 7 8 9]]\n",
      "\n",
      "[[10 11 12 13 14]\n",
      " [15 16 17 18 19]\n",
      " [20 21 22 23 24]]\n",
      "\n",
      "[[25 26 27 28 29]]\n"
     ]
    }
   ],
   "source": [
    "res = np.vsplit(x, np.array([2,5]))\n",
    "print(res[0], end='\\n\\n')\n",
    "print(res[1], end='\\n\\n')\n",
    "print(res[2])"
   ]
  },
  {
   "cell_type": "code",
   "execution_count": 287,
   "id": "9c975e59",
   "metadata": {},
   "outputs": [
    {
     "data": {
      "text/plain": [
       "[array([[0, 1, 2, 3, 4]]),\n",
       " array([[ 5,  6,  7,  8,  9],\n",
       "        [10, 11, 12, 13, 14],\n",
       "        [15, 16, 17, 18, 19],\n",
       "        [20, 21, 22, 23, 24],\n",
       "        [25, 26, 27, 28, 29]]),\n",
       " array([], shape=(0, 5), dtype=int32)]"
      ]
     },
     "execution_count": 287,
     "metadata": {},
     "output_type": "execute_result"
    }
   ],
   "source": [
    "np.vsplit(x, np.array([1,6]))"
   ]
  },
  {
   "cell_type": "code",
   "execution_count": 288,
   "id": "23e17d41",
   "metadata": {},
   "outputs": [
    {
     "name": "stdout",
     "output_type": "stream",
     "text": [
      "[[0 1]\n",
      " [3 4]]\n"
     ]
    }
   ],
   "source": [
    "x = np.arange(6).reshape(2,3)\n",
    "\n",
    "y = np.hsplit(x,(2,))\n",
    "print(y[0])"
   ]
  },
  {
   "cell_type": "code",
   "execution_count": 289,
   "id": "7db740bf",
   "metadata": {},
   "outputs": [
    {
     "name": "stdout",
     "output_type": "stream",
     "text": [
      "[[0 1]]\n"
     ]
    }
   ],
   "source": [
    "x = np.arange(4).reshape(2,2)\n",
    "\n",
    "y = np.vsplit(x,2)\n",
    "print(y[0])"
   ]
  },
  {
   "cell_type": "code",
   "execution_count": 290,
   "id": "3c990329",
   "metadata": {},
   "outputs": [
    {
     "name": "stdout",
     "output_type": "stream",
     "text": [
      "[ 2.  7. 12. 17.]\n"
     ]
    }
   ],
   "source": [
    "import numpy as np\n",
    "\n",
    "x = np.arange(20).reshape(4,5)\n",
    "print(x.mean(axis=1))"
   ]
  },
  {
   "cell_type": "code",
   "execution_count": 292,
   "id": "b243eec7",
   "metadata": {},
   "outputs": [
    {
     "data": {
      "text/plain": [
       "array([[[ 0,  1],\n",
       "        [ 2,  3],\n",
       "        [ 4,  5],\n",
       "        [ 6,  7],\n",
       "        [ 8,  9]],\n",
       "\n",
       "       [[10, 11],\n",
       "        [12, 13],\n",
       "        [14, 15],\n",
       "        [16, 17],\n",
       "        [18, 19]],\n",
       "\n",
       "       [[20, 21],\n",
       "        [22, 23],\n",
       "        [24, 25],\n",
       "        [26, 27],\n",
       "        [28, 29]]])"
      ]
     },
     "execution_count": 292,
     "metadata": {},
     "output_type": "execute_result"
    }
   ],
   "source": [
    "x = np.arange(30).reshape(3,5,2)\n",
    "# print(x[1,::2,1])\n",
    "x"
   ]
  },
  {
   "cell_type": "code",
   "execution_count": 293,
   "id": "6b2d3111",
   "metadata": {},
   "outputs": [
    {
     "name": "stdout",
     "output_type": "stream",
     "text": [
      "[[0 1]]\n"
     ]
    }
   ],
   "source": [
    "x = np.array([[0, 1], [1, 1], [2, 2]])\n",
    "y = x.sum(-1)\n",
    "print(x[y < 2, :])"
   ]
  },
  {
   "cell_type": "code",
   "execution_count": 294,
   "id": "ab45f35d",
   "metadata": {},
   "outputs": [
    {
     "name": "stdout",
     "output_type": "stream",
     "text": [
      "(1, 4)\n"
     ]
    }
   ],
   "source": [
    "import numpy as np\n",
    "\n",
    "x = np.arange(12).reshape(3,4)\n",
    "print(x[-1:,].shape)"
   ]
  },
  {
   "cell_type": "code",
   "execution_count": 298,
   "id": "e9c307d9",
   "metadata": {},
   "outputs": [
    {
     "data": {
      "text/plain": [
       "array([[0.80827041, 0.96582582],\n",
       "       [0.7797958 , 0.23933508],\n",
       "       [0.86726041, 0.80811501]])"
      ]
     },
     "execution_count": 298,
     "metadata": {},
     "output_type": "execute_result"
    }
   ],
   "source": [
    "np.random.rand(3, 2)\n"
   ]
  },
  {
   "cell_type": "code",
   "execution_count": 297,
   "id": "a445e9fe",
   "metadata": {},
   "outputs": [
    {
     "data": {
      "text/plain": [
       "array([0.38634079, 0.59088079, 0.13752361])"
      ]
     },
     "execution_count": 297,
     "metadata": {},
     "output_type": "execute_result"
    }
   ],
   "source": [
    "np.random.random(3)"
   ]
  },
  {
   "cell_type": "code",
   "execution_count": 299,
   "id": "212b53ce",
   "metadata": {},
   "outputs": [
    {
     "name": "stdout",
     "output_type": "stream",
     "text": [
      "[5 5 5 5 5]\n"
     ]
    }
   ],
   "source": [
    "x = np.arange(30).reshape(5,6)\n",
    "print(x.argmax(axis=1))"
   ]
  },
  {
   "cell_type": "markdown",
   "id": "57de861d",
   "metadata": {},
   "source": [
    "x = np.arange(30).reshape(3,5,2)\n",
    "print(x[1][::2][1])"
   ]
  },
  {
   "cell_type": "code",
   "execution_count": 304,
   "id": "9c2fdda3",
   "metadata": {},
   "outputs": [
    {
     "name": "stdout",
     "output_type": "stream",
     "text": [
      "[14 15]\n"
     ]
    }
   ],
   "source": [
    "x = np.arange(30).reshape(3,5,2)\n",
    "print(x[1][::2][1])"
   ]
  },
  {
   "cell_type": "code",
   "execution_count": 302,
   "id": "4a9c19af",
   "metadata": {},
   "outputs": [
    {
     "data": {
      "text/plain": [
       "array([[[ 0,  1],\n",
       "        [ 2,  3],\n",
       "        [ 4,  5],\n",
       "        [ 6,  7],\n",
       "        [ 8,  9]],\n",
       "\n",
       "       [[10, 11],\n",
       "        [12, 13],\n",
       "        [14, 15],\n",
       "        [16, 17],\n",
       "        [18, 19]],\n",
       "\n",
       "       [[20, 21],\n",
       "        [22, 23],\n",
       "        [24, 25],\n",
       "        [26, 27],\n",
       "        [28, 29]]])"
      ]
     },
     "execution_count": 302,
     "metadata": {},
     "output_type": "execute_result"
    }
   ],
   "source": [
    "x"
   ]
  },
  {
   "cell_type": "code",
   "execution_count": 305,
   "id": "a5e169c6",
   "metadata": {},
   "outputs": [
    {
     "name": "stdout",
     "output_type": "stream",
     "text": [
      "[1 4 6]\n"
     ]
    }
   ],
   "source": [
    "x = np.array([[1, 2], [3, 4], [5, 6]])\n",
    "print(x[[0, 1, 2], [0, 1, 1]])"
   ]
  },
  {
   "cell_type": "code",
   "execution_count": 306,
   "id": "484220d6",
   "metadata": {},
   "outputs": [
    {
     "name": "stdout",
     "output_type": "stream",
     "text": [
      "[[-5  1]\n",
      " [-1  5]]\n"
     ]
    }
   ],
   "source": [
    "x = np.array([[-2], \n",
    "              [2]])\n",
    "y = np.array([[-3, 3]])\n",
    "print(x + y)"
   ]
  },
  {
   "cell_type": "code",
   "execution_count": 311,
   "id": "95b012a2",
   "metadata": {},
   "outputs": [
    {
     "name": "stdout",
     "output_type": "stream",
     "text": [
      "[1 2 4]\n"
     ]
    }
   ],
   "source": [
    "x = np.array([[0, 1], [1, 1], [2, 2]])\n",
    "print(x.sum(1))"
   ]
  },
  {
   "cell_type": "code",
   "execution_count": 312,
   "id": "9ef6bfbc",
   "metadata": {},
   "outputs": [
    {
     "name": "stdout",
     "output_type": "stream",
     "text": [
      "[11 15 19]\n"
     ]
    }
   ],
   "source": [
    "x = np.arange(30).reshape(3,5,2)\n",
    "print(x[1,::2,1])"
   ]
  },
  {
   "cell_type": "markdown",
   "id": "6bb9e226",
   "metadata": {},
   "source": [
    "# Perform apropriate given operations in the below function bar_plot -\n",
    "    - Create a figure of size 10 inches in width, and 6 inches in height. Name it as `fig`.\n",
    "    - Create an axis with values 111, associated with figure `fig`,  using `add_subplot`. Name it as `ax`.\n",
    "    - Create a list `Team` with values `\"Detroit\",\"NY Mets\",\"Washington\",\"Arizona\",\"Texas\"`.\n",
    "    - Create a list `Games_Played` with values `86,87,87,88,88`.\n",
    "    - Label X-Axis as `Teams`.\n",
    "    - Label Y-Axis as `Matches Played`.\n",
    "    - Set Title as `Matches Played By Each Team`.\n",
    "    - Set ticks on X-Axis at 0, 1, 2 , 3 and 4.\n",
    "    - Set X-Axis tick labels to `\"Detroit\",\"NY Mets\",\"Washington\",\"Arizona\",\"Texas\"`\n",
    "    - Set ticks on Y-Axis at 20,40,60,80,100\n",
    "    - Draw a bar plot using `bar` function, such that height of each vertical bar show Games Played by each Team. \n",
    "    - Use `Team` and `Games_Played` as variables. Set bar width to be `0.5`, color to be `brown`, and border color of             bar to be `black`.\n",
    "    - Return the plot ax."
   ]
  },
  {
   "cell_type": "code",
   "execution_count": 320,
   "id": "fa7a25ba",
   "metadata": {},
   "outputs": [],
   "source": [
    "def bar():\n",
    "    fig = plt.figure(figsize=(10,6))\n",
    "    ax = fig.add_subplot(111)\n",
    "    team= [\"Detroit\",\"NY Mets\",\"Washington\",\"Arizona\",\"Texas\"]\n",
    "    Games_Played = [86,87,87,88,88]\n",
    "    ax.set_title('Matches Played By Each Team')\n",
    "    ax.set_xlabel('Teams')\n",
    "    ax.set_ylabel('Matches Played')\n",
    "    ax.set_xticks([0,1,2,3,4])\n",
    "    ax.set_xticklabels(team)\n",
    "    ax.set_yticks([20,40,60,80,100])\n",
    "    ax.bar(team,Games_Played, width=0.8,color='brown', edgecolor='black')\n",
    "    plt.tight_layout()\n",
    "    return ax"
   ]
  },
  {
   "cell_type": "code",
   "execution_count": 319,
   "id": "7379e403",
   "metadata": {},
   "outputs": [
    {
     "data": {
      "text/plain": [
       "<AxesSubplot:title={'center':'Matches Played By Each Team'}, xlabel='Teams', ylabel='Matches Played'>"
      ]
     },
     "execution_count": 319,
     "metadata": {},
     "output_type": "execute_result"
    },
    {
     "data": {
      "image/png": "[encoded data removed]",
      "text/plain": [
       "<Figure size 720x432 with 1 Axes>"
      ]
     },
     "metadata": {
      "needs_background": "light"
     },
     "output_type": "display_data"
    }
   ],
   "source": [
    "bar()"
   ]
  },
  {
   "cell_type": "code",
   "execution_count": 321,
   "id": "35258ec3",
   "metadata": {},
   "outputs": [
    {
     "data": {
      "text/plain": [
       "<AxesSubplot:title={'center':'Matches Played By Each Team'}, xlabel='Teams', ylabel='Matches Played'>"
      ]
     },
     "execution_count": 321,
     "metadata": {},
     "output_type": "execute_result"
    },
    {
     "data": {
      "image/png": "[encoded data removed]",
      "text/plain": [
       "<Figure size 720x432 with 1 Axes>"
      ]
     },
     "metadata": {
      "needs_background": "light"
     },
     "output_type": "display_data"
    }
   ],
   "source": [
    "bar()"
   ]
  },
  {
   "cell_type": "code",
   "execution_count": 322,
   "id": "03d9b9f3",
   "metadata": {},
   "outputs": [
    {
     "data": {
      "text/plain": [
       "<Figure size 720x432 with 0 Axes>"
      ]
     },
     "metadata": {},
     "output_type": "display_data"
    },
    {
     "data": {
      "image/png": "[encoded data removed]",
      "text/plain": [
       "<Figure size 720x432 with 1 Axes>"
      ]
     },
     "metadata": {
      "needs_background": "light"
     },
     "output_type": "display_data"
    }
   ],
   "source": [
    "fig = plt.figure(figsize=(10,6))\n",
    "fig = plt.figure(figsize=(10,6))\n",
    "ax = fig.add_subplot(111)\n",
    "team= [\"Detroit\",\"NY Mets\",\"Washington\",\"Arizona\",\"Texas\"]\n",
    "Games_Played = [86,87,87,88,88]\n",
    "ax.set_title('Matches Played By Each Team')\n",
    "ax.set_xlabel('Teams')\n",
    "ax.set_ylabel('Matches Played')\n",
    "ax.set_xticks([0,1,2,3,4])\n",
    "ax.set_xticklabels(team)\n",
    "ax.set_yticks([20,40,60,80,100])\n",
    "ax.bar(team,Games_Played, width=0.8,color='brown', edgecolor='black')\n",
    "plt.tight_layout()"
   ]
  },
  {
   "cell_type": "markdown",
   "id": "d59459d9",
   "metadata": {},
   "source": [
    "# Perform apropriate given operations in the below function hbar_plot -\n",
    "    - Create a figure of size 10 inches in width, and 6 inches in height. Name it as `fig`.\n",
    "    - Create an axis with values 111, associated with figure `fig`,  using `add_subplot`. Name it as `ax1`.\n",
    "    - Create a list `Team` with values `\"Detroit\",\"NY Mets\",\"Washington\",\"Arizona\",\"Texas\"`.\n",
    "    - Create a list `At_Bats` with values `343,275,161,267,308`.\n",
    "    - Label X-Axis as `At Bats`.\n",
    "    - Label Y-Axis as `Teams`.\n",
    "    - Set Title as `At Bats By Each Team`.\n",
    "    - Set ticks on X-Axis at 0, 1, 2 , 3 and 4.\n",
    "    - Set X-Axis tick labels to `\"Detroit\",\"NY Mets\",\"Washington\",\"Arizona\",\"Texas\"`.\n",
    "    - Set ticks on Y-Axis at 0,1,2,3,4.\n",
    "    - Draw a horizontal bar plot using `bar` function, such that width of each bar show At Bats of each Team. \n",
    "    - Use `Team` and `At_Bats` as variables. Set bar height to be `0.5`, color to be `Grey`, and border color of bar to           be `black`.\n",
    "    - Return the plot ax1."
   ]
  },
  {
   "cell_type": "code",
   "execution_count": 346,
   "id": "24f55253",
   "metadata": {},
   "outputs": [
    {
     "name": "stderr",
     "output_type": "stream",
     "text": [
      "C:\\Users\\MYPC~1\\AppData\\Local\\Temp/ipykernel_22608/2234222380.py:7: UserWarning: FixedFormatter should only be used together with FixedLocator\n",
      "  ax1.set_yticklabels(team)\n"
     ]
    },
    {
     "data": {
      "text/plain": [
       "<BarContainer object of 5 artists>"
      ]
     },
     "execution_count": 346,
     "metadata": {},
     "output_type": "execute_result"
    },
    {
     "data": {
      "image/png": "[encoded data removed]",
      "text/plain": [
       "<Figure size 720x432 with 1 Axes>"
      ]
     },
     "metadata": {
      "needs_background": "light"
     },
     "output_type": "display_data"
    }
   ],
   "source": [
    "fig = plt.figure(figsize=(10,6))\n",
    "ax1 = fig.add_subplot(111)\n",
    "team= [\"Detroit\",\"NY Mets\",\"Washington\",\"Arizona\",\"Texas\"]\n",
    "At_Bats = [343,275,161,267,308]\n",
    "ax1.set(xlabel='At_Bats',ylabel='team',title=('At Bats By Each Team'))\n",
    "ax1.set_xticks([0,100,200,300,400])\n",
    "ax1.set_yticklabels(team) \n",
    "ax1.set_yticks([0,1,2,3,4])\n",
    "ax1.barh(team,At_Bats,height=0.5,color='grey', edgecolor='black',align='center')"
   ]
  },
  {
   "cell_type": "code",
   "execution_count": 333,
   "id": "4e5158fb",
   "metadata": {},
   "outputs": [],
   "source": [
    "import matplotlib.pyplot as plt"
   ]
  },
  {
   "cell_type": "code",
   "execution_count": null,
   "id": "c82f91bf",
   "metadata": {},
   "outputs": [],
   "source": []
  }
 ],
 "metadata": {
  "kernelspec": {
   "display_name": "Python 3 (ipykernel)",
   "language": "python",
   "name": "python3"
  },
  "language_info": {
   "codemirror_mode": {
    "name": "ipython",
    "version": 3
   },
   "file_extension": ".py",
   "mimetype": "text/x-python",
   "name": "python",
   "nbconvert_exporter": "python",
   "pygments_lexer": "ipython3",
   "version": "3.9.7"
  }
 },
 "nbformat": 4,
 "nbformat_minor": 5
}

{
 "cells": [
  {
   "cell_type": "code",
   "execution_count": 6,
   "id": "74bc9e63",
   "metadata": {},
   "outputs": [
    {
     "name": "stdout",
     "output_type": "stream",
     "text": [
      "0.7649861514489815\n",
      "0.7795958005591144\n",
      "0.5278221404408368\n"
     ]
    },
    {
     "name": "stderr",
     "output_type": "stream",
     "text": [
      "C:\\Users\\MY PC\\anaconda3\\lib\\site-packages\\sklearn\\cluster\\_affinity_propagation.py:148: FutureWarning: 'random_state' has been introduced in 0.23. It will be set to None starting from 1.0 (renaming of 0.25) which means that results will differ at every function call. Set 'random_state' to None to silence this warning, or to 0 to keep the behavior of versions <0.23.\n",
      "  warnings.warn(\n"
     ]
    }
   ],
   "source": [
    "import sklearn.datasets as skd\n",
    "import sklearn.model_selection\n",
    "import numpy as np\n",
    "from sklearn import metrics\n",
    "\n",
    "iris = skd.load_iris()\n",
    "\n",
    "from sklearn.cluster import KMeans\n",
    "km_cls = KMeans(n_clusters=3)\n",
    "km_cls = km_cls.fit(iris.data)\n",
    "print(metrics.homogeneity_score(km_cls.predict(iris.data),iris.target))\n",
    "\n",
    "from sklearn.cluster import AgglomerativeClustering\n",
    "agg_cls = AgglomerativeClustering(n_clusters=3)\n",
    "agg_cls = agg_cls.fit(iris.data)\n",
    "print(metrics.homogeneity_score(agg_cls.fit_predict(iris.data),iris.target))\n",
    "\n",
    "from sklearn.cluster import AffinityPropagation\n",
    "aff_cls = AffinityPropagation()\n",
    "aff_cls = aff_cls.fit(iris.data)\n",
    "print(metrics.homogeneity_score(aff_cls.predict(iris.data),iris.target))"
   ]
  },
  {
   "cell_type": "code",
   "execution_count": null,
   "id": "9e499170",
   "metadata": {},
   "outputs": [],
   "source": []
  }
 ],
 "metadata": {
  "kernelspec": {
   "display_name": "Python 3 (ipykernel)",
   "language": "python",
   "name": "python3"
  },
  "language_info": {
   "codemirror_mode": {
    "name": "ipython",
    "version": 3
   },
   "file_extension": ".py",
   "mimetype": "text/x-python",
   "name": "python",
   "nbconvert_exporter": "python",
   "pygments_lexer": "ipython3",
   "version": "3.9.7"
  }
 },
 "nbformat": 4,
 "nbformat_minor": 5
}

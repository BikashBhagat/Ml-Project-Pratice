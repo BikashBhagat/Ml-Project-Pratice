{
 "cells": [
  {
   "cell_type": "markdown",
   "id": "071327d4",
   "metadata": {},
   "source": [
    "Evaluation\n",
    "\n",
    "\n",
    "You are given a recommendations.csv file with user ids and you are supposed to recommend atmost 10 songs.\n",
    "\n",
    "The training data is provided in train.csv file.\n",
    "\n",
    "Your entries in the recommendations.csv file should be such that for each row the first value must be user_id followed by recommended song_ids all seperated by comma.\n",
    "\n",
    "Make sure you have atleast one recommendation for each user in recommendations.csv or else your score will be zero\n",
    "\n",
    "The recommended songs to a user must be different from what you already have in the training set for the same user.\n",
    "\n",
    "A user can have at most 10 recommendations.\n",
    "\n",
    "The final score F1 will be a harmonic mean of precision and recall values.\n",
    "\n",
    "Run the below script to score your recommendations."
   ]
  },
  {
   "cell_type": "code",
   "execution_count": 2,
   "id": "17e8815d",
   "metadata": {},
   "outputs": [],
   "source": [
    "import pandas as pd\n",
    "import numpy as np\n",
    "import matplotlib.pyplot as plt\n",
    "import seaborn as sns"
   ]
  },
  {
   "cell_type": "code",
   "execution_count": 4,
   "id": "3a15d165",
   "metadata": {},
   "outputs": [],
   "source": [
    "df = pd.read_excel('train_music.xlsx')"
   ]
  },
  {
   "cell_type": "code",
   "execution_count": 19,
   "id": "752bc587",
   "metadata": {},
   "outputs": [],
   "source": [
    "df1 = df.drop('Unnamed: 0', axis =1).copy()"
   ]
  },
  {
   "cell_type": "code",
   "execution_count": 26,
   "id": "0931a8c0",
   "metadata": {},
   "outputs": [
    {
     "data": {
      "text/plain": [
       "Index(['user_id', 'song_id', 'listen_count', 'title', 'release', 'artist_name',\n",
       "       'year'],\n",
       "      dtype='object')"
      ]
     },
     "execution_count": 26,
     "metadata": {},
     "output_type": "execute_result"
    }
   ],
   "source": [
    "df1.columns"
   ]
  },
  {
   "cell_type": "code",
   "execution_count": 30,
   "id": "3b0309de",
   "metadata": {},
   "outputs": [
    {
     "data": {
      "text/plain": [
       "96137"
      ]
     },
     "execution_count": 30,
     "metadata": {},
     "output_type": "execute_result"
    }
   ],
   "source": [
    "df1.user_id.duplicated().sum()"
   ]
  },
  {
   "cell_type": "code",
   "execution_count": 31,
   "id": "26e99030",
   "metadata": {},
   "outputs": [
    {
     "data": {
      "text/plain": [
       "3358"
      ]
     },
     "execution_count": 31,
     "metadata": {},
     "output_type": "execute_result"
    }
   ],
   "source": [
    "df1.artist_name.nunique()"
   ]
  },
  {
   "cell_type": "code",
   "execution_count": 32,
   "id": "b2cdc283",
   "metadata": {},
   "outputs": [
    {
     "data": {
      "text/plain": [
       "3863"
      ]
     },
     "execution_count": 32,
     "metadata": {},
     "output_type": "execute_result"
    }
   ],
   "source": [
    "df1.user_id.nunique()"
   ]
  },
  {
   "cell_type": "code",
   "execution_count": 38,
   "id": "d7866cf3",
   "metadata": {},
   "outputs": [],
   "source": [
    "df2  = df1.sort_values('listen_count',ascending=False).query('listen_count > 10').copy()"
   ]
  },
  {
   "cell_type": "code",
   "execution_count": 39,
   "id": "3cdc4cff",
   "metadata": {},
   "outputs": [
    {
     "data": {
      "text/html": [
       "<div>\n",
       "<style scoped>\n",
       "    .dataframe tbody tr th:only-of-type {\n",
       "        vertical-align: middle;\n",
       "    }\n",
       "\n",
       "    .dataframe tbody tr th {\n",
       "        vertical-align: top;\n",
       "    }\n",
       "\n",
       "    .dataframe thead th {\n",
       "        text-align: right;\n",
       "    }\n",
       "</style>\n",
       "<table border=\"1\" class=\"dataframe\">\n",
       "  <thead>\n",
       "    <tr style=\"text-align: right;\">\n",
       "      <th></th>\n",
       "      <th>user_id</th>\n",
       "      <th>song_id</th>\n",
       "      <th>listen_count</th>\n",
       "      <th>title</th>\n",
       "      <th>release</th>\n",
       "      <th>artist_name</th>\n",
       "      <th>year</th>\n",
       "    </tr>\n",
       "  </thead>\n",
       "  <tbody>\n",
       "    <tr>\n",
       "      <th>31179</th>\n",
       "      <td>bb85bb79612e5373ac714fcd4469cabeb5ed94e1</td>\n",
       "      <td>SOZQSVB12A8C13C271</td>\n",
       "      <td>796</td>\n",
       "      <td>Paradise &amp; Dreams</td>\n",
       "      <td>Skydivin'</td>\n",
       "      <td>Darren Styles</td>\n",
       "      <td>0</td>\n",
       "    </tr>\n",
       "    <tr>\n",
       "      <th>76728</th>\n",
       "      <td>dc20d1116f083d39d3035e13e266b45d72f9a627</td>\n",
       "      <td>SOWLFNL12AB017DB20</td>\n",
       "      <td>419</td>\n",
       "      <td>Bird Song</td>\n",
       "      <td>Lungs</td>\n",
       "      <td>Florence + The Machine</td>\n",
       "      <td>2009</td>\n",
       "    </tr>\n",
       "    <tr>\n",
       "      <th>72747</th>\n",
       "      <td>9b6440915ca3250a333012566f5b5bc98c912268</td>\n",
       "      <td>SOAPBTS12AF729BFB8</td>\n",
       "      <td>333</td>\n",
       "      <td>The Good Fight</td>\n",
       "      <td>The Places You Have Come To Fear The Most</td>\n",
       "      <td>Dashboard Confessional</td>\n",
       "      <td>2001</td>\n",
       "    </tr>\n",
       "    <tr>\n",
       "      <th>31649</th>\n",
       "      <td>b8bcd5537ffe1392d48894b88e038802eb685da6</td>\n",
       "      <td>SOMAKIT12A58A7E292</td>\n",
       "      <td>330</td>\n",
       "      <td>Bodies</td>\n",
       "      <td>Sinner</td>\n",
       "      <td>Drowning Pool</td>\n",
       "      <td>2001</td>\n",
       "    </tr>\n",
       "    <tr>\n",
       "      <th>55156</th>\n",
       "      <td>a4b540b4e7d83b97022ca7fdf7c31a9bf0db05a3</td>\n",
       "      <td>SOLGIWB12A58A77A05</td>\n",
       "      <td>311</td>\n",
       "      <td>Reelin' In The Years</td>\n",
       "      <td>The Definitive Collection</td>\n",
       "      <td>Steely Dan</td>\n",
       "      <td>1972</td>\n",
       "    </tr>\n",
       "  </tbody>\n",
       "</table>\n",
       "</div>"
      ],
      "text/plain": [
       "                                        user_id             song_id  \\\n",
       "31179  bb85bb79612e5373ac714fcd4469cabeb5ed94e1  SOZQSVB12A8C13C271   \n",
       "76728  dc20d1116f083d39d3035e13e266b45d72f9a627  SOWLFNL12AB017DB20   \n",
       "72747  9b6440915ca3250a333012566f5b5bc98c912268  SOAPBTS12AF729BFB8   \n",
       "31649  b8bcd5537ffe1392d48894b88e038802eb685da6  SOMAKIT12A58A7E292   \n",
       "55156  a4b540b4e7d83b97022ca7fdf7c31a9bf0db05a3  SOLGIWB12A58A77A05   \n",
       "\n",
       "       listen_count                 title  \\\n",
       "31179           796     Paradise & Dreams   \n",
       "76728           419             Bird Song   \n",
       "72747           333        The Good Fight   \n",
       "31649           330                Bodies   \n",
       "55156           311  Reelin' In The Years   \n",
       "\n",
       "                                         release             artist_name  year  \n",
       "31179                                  Skydivin'           Darren Styles     0  \n",
       "76728                                      Lungs  Florence + The Machine  2009  \n",
       "72747  The Places You Have Come To Fear The Most  Dashboard Confessional  2001  \n",
       "31649                                     Sinner           Drowning Pool  2001  \n",
       "55156                  The Definitive Collection              Steely Dan  1972  "
      ]
     },
     "execution_count": 39,
     "metadata": {},
     "output_type": "execute_result"
    }
   ],
   "source": [
    "df2.head()"
   ]
  },
  {
   "cell_type": "code",
   "execution_count": 40,
   "id": "e6d4d44a",
   "metadata": {},
   "outputs": [],
   "source": [
    "df2.drop('year', axis=1, inplace =True)"
   ]
  },
  {
   "cell_type": "code",
   "execution_count": 42,
   "id": "1e259959",
   "metadata": {},
   "outputs": [
    {
     "data": {
      "text/plain": [
       "2680"
      ]
     },
     "execution_count": 42,
     "metadata": {},
     "output_type": "execute_result"
    }
   ],
   "source": [
    "len(df2.song_id.unique())"
   ]
  },
  {
   "cell_type": "code",
   "execution_count": 43,
   "id": "7c04291a",
   "metadata": {},
   "outputs": [
    {
     "data": {
      "text/plain": [
       "4626"
      ]
     },
     "execution_count": 43,
     "metadata": {},
     "output_type": "execute_result"
    }
   ],
   "source": [
    "len(df2.song_id)"
   ]
  },
  {
   "cell_type": "code",
   "execution_count": 60,
   "id": "66b6cb75",
   "metadata": {},
   "outputs": [],
   "source": [
    "popular_songs = df2.groupby('song_id')['listen_count'].agg([\"sum\",\"count\"]).sort_values(by = 'sum',ascending=False).head(400)\\\n",
    "    .copy()"
   ]
  },
  {
   "cell_type": "code",
   "execution_count": 87,
   "id": "7beafc37",
   "metadata": {},
   "outputs": [],
   "source": [
    "music1 = list(df2.groupby('song_id')['listen_count'].agg([\"sum\",\"count\"]).sort_values(by = 'sum',ascending=False).head(10).index)"
   ]
  },
  {
   "cell_type": "code",
   "execution_count": 88,
   "id": "5256c343",
   "metadata": {},
   "outputs": [
    {
     "data": {
      "text/plain": [
       "['SOBONKR12A58A7A7E0',\n",
       " 'SOAUWYT12A81C206F1',\n",
       " 'SOSXLTC12AF72A7F54',\n",
       " 'SOZQSVB12A8C13C271',\n",
       " 'SOEGIYH12A6D4FC0E3',\n",
       " 'SOUFTBI12AB0183F65',\n",
       " 'SOHTKMO12AB01843B0',\n",
       " 'SOAXGDH12A8C13F8A1',\n",
       " 'SOAPBTS12AF729BFB8',\n",
       " 'SOPUCYA12A8C13A694']"
      ]
     },
     "execution_count": 88,
     "metadata": {},
     "output_type": "execute_result"
    }
   ],
   "source": [
    "music1"
   ]
  },
  {
   "cell_type": "code",
   "execution_count": 85,
   "id": "9d05f0ee",
   "metadata": {},
   "outputs": [],
   "source": [
    "music = list(popular_songs.index[0:10])"
   ]
  },
  {
   "cell_type": "code",
   "execution_count": 86,
   "id": "c33d4f9d",
   "metadata": {},
   "outputs": [
    {
     "data": {
      "text/plain": [
       "['SOBONKR12A58A7A7E0',\n",
       " 'SOAUWYT12A81C206F1',\n",
       " 'SOSXLTC12AF72A7F54',\n",
       " 'SOZQSVB12A8C13C271',\n",
       " 'SOEGIYH12A6D4FC0E3',\n",
       " 'SOUFTBI12AB0183F65',\n",
       " 'SOHTKMO12AB01843B0',\n",
       " 'SOAXGDH12A8C13F8A1',\n",
       " 'SOAPBTS12AF729BFB8',\n",
       " 'SOPUCYA12A8C13A694']"
      ]
     },
     "execution_count": 86,
     "metadata": {},
     "output_type": "execute_result"
    }
   ],
   "source": [
    "music"
   ]
  },
  {
   "cell_type": "code",
   "execution_count": 56,
   "id": "6fb31585",
   "metadata": {},
   "outputs": [],
   "source": [
    "# df2.groupby('song_id').agg([\"sum\",\"count\"]).sort_values(by = 'sum',ascending=False)"
   ]
  },
  {
   "cell_type": "code",
   "execution_count": 54,
   "id": "0d91d40b",
   "metadata": {},
   "outputs": [],
   "source": [
    "# df2[df2.song_id=='SOBONKR12A58A7A7E0']['listen_count'].sum()"
   ]
  },
  {
   "cell_type": "code",
   "execution_count": 70,
   "id": "f4ab3c7c",
   "metadata": {},
   "outputs": [],
   "source": [
    "df_test = pd.read_excel('test_music.xlsx',index_col=None, header=None, names=['user_ids'])"
   ]
  },
  {
   "cell_type": "code",
   "execution_count": 147,
   "id": "073a4b29",
   "metadata": {},
   "outputs": [],
   "source": [
    "# df_test.reset_index(drop=True)"
   ]
  },
  {
   "cell_type": "code",
   "execution_count": 146,
   "id": "487bd737",
   "metadata": {},
   "outputs": [],
   "source": [
    "# df_test[df_test.user_ids.isin(df2.user_id)]"
   ]
  },
  {
   "cell_type": "code",
   "execution_count": 149,
   "id": "d11d2808",
   "metadata": {},
   "outputs": [],
   "source": [
    "music_list =[]\n",
    "for user in df_test.user_ids:\n",
    "    if user in list(df2.user_id):\n",
    "        df3 = df2[(df2.user_id != user)]\n",
    "        music_list.append(list(df3.groupby('song_id')['listen_count'].agg([\"sum\",\"count\"]).\\\n",
    "                               sort_values(by = 'sum',ascending=False).head(10).index))\n",
    "#         print(1)\n",
    "    else:\n",
    "        music_list.append(list(df2.groupby('song_id')['listen_count'].agg([\"sum\",\"count\"]).\\\n",
    "                               sort_values(by = 'sum',ascending=False).head(10).index))\n",
    "#         print(2)\n",
    "          "
   ]
  },
  {
   "cell_type": "code",
   "execution_count": 130,
   "id": "83339983",
   "metadata": {},
   "outputs": [],
   "source": [
    "# # if df_test.user_ids.isin('85d0d381551960608e02df98956277e495b3cf6b'):\n",
    "# #         print('true')\n",
    "        \n",
    "# if \"43683da3c6c5a93c7938ff550faf0d039a9a639a\" in list(df2.user_id):\n",
    "#     print('True')\n",
    "# else:\n",
    "#     print('False')\n",
    "    "
   ]
  },
  {
   "cell_type": "code",
   "execution_count": 131,
   "id": "a6ece586",
   "metadata": {},
   "outputs": [],
   "source": [
    "# for user in df_test.user_ids:\n",
    "#     print (user)"
   ]
  },
  {
   "cell_type": "code",
   "execution_count": 135,
   "id": "df445649",
   "metadata": {},
   "outputs": [
    {
     "ename": "AttributeError",
     "evalue": "'list' object has no attribute 'unique'",
     "output_type": "error",
     "traceback": [
      "\u001b[1;31m---------------------------------------------------------------------------\u001b[0m",
      "\u001b[1;31mAttributeError\u001b[0m                            Traceback (most recent call last)",
      "\u001b[1;32mC:\\Users\\MYPC~1\\AppData\\Local\\Temp/ipykernel_27404/1506939061.py\u001b[0m in \u001b[0;36m<module>\u001b[1;34m\u001b[0m\n\u001b[1;32m----> 1\u001b[1;33m \u001b[0mmusic_list\u001b[0m\u001b[1;33m.\u001b[0m\u001b[0munique\u001b[0m\u001b[1;33m(\u001b[0m\u001b[1;33m)\u001b[0m\u001b[1;33m\u001b[0m\u001b[1;33m\u001b[0m\u001b[0m\n\u001b[0m",
      "\u001b[1;31mAttributeError\u001b[0m: 'list' object has no attribute 'unique'"
     ]
    }
   ],
   "source": [
    "music_list.unique()"
   ]
  },
  {
   "cell_type": "code",
   "execution_count": 162,
   "id": "a990707c",
   "metadata": {},
   "outputs": [],
   "source": [
    "df_music_rec = pd.DataFrame(music_list, index=df_test.user_ids)"
   ]
  },
  {
   "cell_type": "code",
   "execution_count": 174,
   "id": "4d49939d",
   "metadata": {},
   "outputs": [
    {
     "data": {
      "text/html": [
       "<div>\n",
       "<style scoped>\n",
       "    .dataframe tbody tr th:only-of-type {\n",
       "        vertical-align: middle;\n",
       "    }\n",
       "\n",
       "    .dataframe tbody tr th {\n",
       "        vertical-align: top;\n",
       "    }\n",
       "\n",
       "    .dataframe thead th {\n",
       "        text-align: right;\n",
       "    }\n",
       "</style>\n",
       "<table border=\"1\" class=\"dataframe\">\n",
       "  <thead>\n",
       "    <tr style=\"text-align: right;\">\n",
       "      <th></th>\n",
       "      <th>user_ids</th>\n",
       "      <th>0</th>\n",
       "      <th>1</th>\n",
       "      <th>2</th>\n",
       "      <th>3</th>\n",
       "      <th>4</th>\n",
       "      <th>5</th>\n",
       "      <th>6</th>\n",
       "      <th>7</th>\n",
       "      <th>8</th>\n",
       "      <th>9</th>\n",
       "      <th>outpout</th>\n",
       "    </tr>\n",
       "  </thead>\n",
       "  <tbody>\n",
       "    <tr>\n",
       "      <th>0</th>\n",
       "      <td>43683da3c6c5a93c7938ff550faf0d039a9a639a</td>\n",
       "      <td>SOBONKR12A58A7A7E0</td>\n",
       "      <td>SOAUWYT12A81C206F1</td>\n",
       "      <td>SOSXLTC12AF72A7F54</td>\n",
       "      <td>SOZQSVB12A8C13C271</td>\n",
       "      <td>SOEGIYH12A6D4FC0E3</td>\n",
       "      <td>SOUFTBI12AB0183F65</td>\n",
       "      <td>SOHTKMO12AB01843B0</td>\n",
       "      <td>SOAXGDH12A8C13F8A1</td>\n",
       "      <td>SOAPBTS12AF729BFB8</td>\n",
       "      <td>SOPUCYA12A8C13A694</td>\n",
       "      <td>SOBONKR12A58A7A7E0,SOAUWYT12A81C206F1,SOSXLTC1...</td>\n",
       "    </tr>\n",
       "    <tr>\n",
       "      <th>1</th>\n",
       "      <td>85d0d381551960608e02df98956277e495b3cf6b</td>\n",
       "      <td>SOBONKR12A58A7A7E0</td>\n",
       "      <td>SOAUWYT12A81C206F1</td>\n",
       "      <td>SOSXLTC12AF72A7F54</td>\n",
       "      <td>SOZQSVB12A8C13C271</td>\n",
       "      <td>SOEGIYH12A6D4FC0E3</td>\n",
       "      <td>SOUFTBI12AB0183F65</td>\n",
       "      <td>SOHTKMO12AB01843B0</td>\n",
       "      <td>SOAXGDH12A8C13F8A1</td>\n",
       "      <td>SOAPBTS12AF729BFB8</td>\n",
       "      <td>SOPUCYA12A8C13A694</td>\n",
       "      <td>SOBONKR12A58A7A7E0,SOAUWYT12A81C206F1,SOSXLTC1...</td>\n",
       "    </tr>\n",
       "    <tr>\n",
       "      <th>2</th>\n",
       "      <td>ac1cb58f839ae6773732125e99b4a7394e0661e4</td>\n",
       "      <td>SOBONKR12A58A7A7E0</td>\n",
       "      <td>SOAUWYT12A81C206F1</td>\n",
       "      <td>SOSXLTC12AF72A7F54</td>\n",
       "      <td>SOZQSVB12A8C13C271</td>\n",
       "      <td>SOEGIYH12A6D4FC0E3</td>\n",
       "      <td>SOUFTBI12AB0183F65</td>\n",
       "      <td>SOHTKMO12AB01843B0</td>\n",
       "      <td>SOAXGDH12A8C13F8A1</td>\n",
       "      <td>SOAPBTS12AF729BFB8</td>\n",
       "      <td>SOPUCYA12A8C13A694</td>\n",
       "      <td>SOBONKR12A58A7A7E0,SOAUWYT12A81C206F1,SOSXLTC1...</td>\n",
       "    </tr>\n",
       "    <tr>\n",
       "      <th>3</th>\n",
       "      <td>9c2032efba612bccec98435a3928b67d69350bed</td>\n",
       "      <td>SOBONKR12A58A7A7E0</td>\n",
       "      <td>SOAUWYT12A81C206F1</td>\n",
       "      <td>SOSXLTC12AF72A7F54</td>\n",
       "      <td>SOZQSVB12A8C13C271</td>\n",
       "      <td>SOEGIYH12A6D4FC0E3</td>\n",
       "      <td>SOUFTBI12AB0183F65</td>\n",
       "      <td>SOHTKMO12AB01843B0</td>\n",
       "      <td>SOAXGDH12A8C13F8A1</td>\n",
       "      <td>SOAPBTS12AF729BFB8</td>\n",
       "      <td>SOPUCYA12A8C13A694</td>\n",
       "      <td>SOBONKR12A58A7A7E0,SOAUWYT12A81C206F1,SOSXLTC1...</td>\n",
       "    </tr>\n",
       "    <tr>\n",
       "      <th>4</th>\n",
       "      <td>c4bcf00d005e6848a032d94f7fb212f499cdc1ba</td>\n",
       "      <td>SOBONKR12A58A7A7E0</td>\n",
       "      <td>SOAUWYT12A81C206F1</td>\n",
       "      <td>SOSXLTC12AF72A7F54</td>\n",
       "      <td>SOZQSVB12A8C13C271</td>\n",
       "      <td>SOEGIYH12A6D4FC0E3</td>\n",
       "      <td>SOUFTBI12AB0183F65</td>\n",
       "      <td>SOHTKMO12AB01843B0</td>\n",
       "      <td>SOAXGDH12A8C13F8A1</td>\n",
       "      <td>SOAPBTS12AF729BFB8</td>\n",
       "      <td>SOPUCYA12A8C13A694</td>\n",
       "      <td>SOBONKR12A58A7A7E0,SOAUWYT12A81C206F1,SOSXLTC1...</td>\n",
       "    </tr>\n",
       "  </tbody>\n",
       "</table>\n",
       "</div>"
      ],
      "text/plain": [
       "                                   user_ids                   0  \\\n",
       "0  43683da3c6c5a93c7938ff550faf0d039a9a639a  SOBONKR12A58A7A7E0   \n",
       "1  85d0d381551960608e02df98956277e495b3cf6b  SOBONKR12A58A7A7E0   \n",
       "2  ac1cb58f839ae6773732125e99b4a7394e0661e4  SOBONKR12A58A7A7E0   \n",
       "3  9c2032efba612bccec98435a3928b67d69350bed  SOBONKR12A58A7A7E0   \n",
       "4  c4bcf00d005e6848a032d94f7fb212f499cdc1ba  SOBONKR12A58A7A7E0   \n",
       "\n",
       "                    1                   2                   3  \\\n",
       "0  SOAUWYT12A81C206F1  SOSXLTC12AF72A7F54  SOZQSVB12A8C13C271   \n",
       "1  SOAUWYT12A81C206F1  SOSXLTC12AF72A7F54  SOZQSVB12A8C13C271   \n",
       "2  SOAUWYT12A81C206F1  SOSXLTC12AF72A7F54  SOZQSVB12A8C13C271   \n",
       "3  SOAUWYT12A81C206F1  SOSXLTC12AF72A7F54  SOZQSVB12A8C13C271   \n",
       "4  SOAUWYT12A81C206F1  SOSXLTC12AF72A7F54  SOZQSVB12A8C13C271   \n",
       "\n",
       "                    4                   5                   6  \\\n",
       "0  SOEGIYH12A6D4FC0E3  SOUFTBI12AB0183F65  SOHTKMO12AB01843B0   \n",
       "1  SOEGIYH12A6D4FC0E3  SOUFTBI12AB0183F65  SOHTKMO12AB01843B0   \n",
       "2  SOEGIYH12A6D4FC0E3  SOUFTBI12AB0183F65  SOHTKMO12AB01843B0   \n",
       "3  SOEGIYH12A6D4FC0E3  SOUFTBI12AB0183F65  SOHTKMO12AB01843B0   \n",
       "4  SOEGIYH12A6D4FC0E3  SOUFTBI12AB0183F65  SOHTKMO12AB01843B0   \n",
       "\n",
       "                    7                   8                   9  \\\n",
       "0  SOAXGDH12A8C13F8A1  SOAPBTS12AF729BFB8  SOPUCYA12A8C13A694   \n",
       "1  SOAXGDH12A8C13F8A1  SOAPBTS12AF729BFB8  SOPUCYA12A8C13A694   \n",
       "2  SOAXGDH12A8C13F8A1  SOAPBTS12AF729BFB8  SOPUCYA12A8C13A694   \n",
       "3  SOAXGDH12A8C13F8A1  SOAPBTS12AF729BFB8  SOPUCYA12A8C13A694   \n",
       "4  SOAXGDH12A8C13F8A1  SOAPBTS12AF729BFB8  SOPUCYA12A8C13A694   \n",
       "\n",
       "                                             outpout  \n",
       "0  SOBONKR12A58A7A7E0,SOAUWYT12A81C206F1,SOSXLTC1...  \n",
       "1  SOBONKR12A58A7A7E0,SOAUWYT12A81C206F1,SOSXLTC1...  \n",
       "2  SOBONKR12A58A7A7E0,SOAUWYT12A81C206F1,SOSXLTC1...  \n",
       "3  SOBONKR12A58A7A7E0,SOAUWYT12A81C206F1,SOSXLTC1...  \n",
       "4  SOBONKR12A58A7A7E0,SOAUWYT12A81C206F1,SOSXLTC1...  "
      ]
     },
     "execution_count": 174,
     "metadata": {},
     "output_type": "execute_result"
    }
   ],
   "source": [
    "df_music_rec.reset_index(inplace=True)\n",
    "df_music_rec.head()"
   ]
  },
  {
   "cell_type": "code",
   "execution_count": 154,
   "id": "bd283cce",
   "metadata": {},
   "outputs": [
    {
     "data": {
      "text/plain": [
       "'SOBONKR12A58A7A7E0'"
      ]
     },
     "execution_count": 154,
     "metadata": {},
     "output_type": "execute_result"
    }
   ],
   "source": [
    "music_list[0][0]"
   ]
  },
  {
   "cell_type": "code",
   "execution_count": 175,
   "id": "8e32c375",
   "metadata": {},
   "outputs": [],
   "source": [
    "df_music_rec['outpout'] = df_music_rec[['user_ids',0,1,2,3,4,5,6,7,8,9]].apply(lambda x: ','.join(x), axis = 1)"
   ]
  },
  {
   "cell_type": "code",
   "execution_count": 176,
   "id": "94857bea",
   "metadata": {},
   "outputs": [],
   "source": [
    "df_out = df_music_rec['outpout'].copy()"
   ]
  },
  {
   "cell_type": "code",
   "execution_count": 177,
   "id": "84d6249a",
   "metadata": {},
   "outputs": [],
   "source": [
    "df_out.to_csv('recommendations1.csv',header=None,index)"
   ]
  },
  {
   "cell_type": "code",
   "execution_count": 178,
   "id": "b1dba2c2",
   "metadata": {},
   "outputs": [
    {
     "ename": "ModuleNotFoundError",
     "evalue": "No module named 'testrecommendation'",
     "output_type": "error",
     "traceback": [
      "\u001b[1;31m---------------------------------------------------------------------------\u001b[0m",
      "\u001b[1;31mModuleNotFoundError\u001b[0m                       Traceback (most recent call last)",
      "\u001b[1;32mC:\\Users\\MYPC~1\\AppData\\Local\\Temp/ipykernel_27404/3704437039.py\u001b[0m in \u001b[0;36m<module>\u001b[1;34m\u001b[0m\n\u001b[1;32m----> 1\u001b[1;33m \u001b[1;32mfrom\u001b[0m \u001b[0mtestrecommendation\u001b[0m \u001b[1;32mimport\u001b[0m \u001b[0mrecommendation\u001b[0m\u001b[1;33m\u001b[0m\u001b[1;33m\u001b[0m\u001b[0m\n\u001b[0m\u001b[0;32m      2\u001b[0m \u001b[0mrecommendation\u001b[0m\u001b[1;33m.\u001b[0m\u001b[0mscore\u001b[0m\u001b[1;33m(\u001b[0m\u001b[1;34m'recommendations1.csv'\u001b[0m\u001b[1;33m)\u001b[0m\u001b[1;33m\u001b[0m\u001b[1;33m\u001b[0m\u001b[0m\n",
      "\u001b[1;31mModuleNotFoundError\u001b[0m: No module named 'testrecommendation'"
     ]
    }
   ],
   "source": [
    "from testrecommendation import recommendation\n",
    "recommendation.score('recommendations1.csv')"
   ]
  },
  {
   "cell_type": "code",
   "execution_count": 180,
   "id": "a25cf950",
   "metadata": {},
   "outputs": [
    {
     "name": "stdout",
     "output_type": "stream",
     "text": [
      "Note: you may need to restart the kernel to use updated packages.\n"
     ]
    },
    {
     "name": "stderr",
     "output_type": "stream",
     "text": [
      "WARNING: Ignoring invalid distribution -rotobuf (c:\\users\\my pc\\anaconda3\\lib\\site-packages)\n",
      "WARNING: Requirement '../testrecommendation-1.0-py3-none-any.whl' looks like a filename, but the file does not exist\n",
      "WARNING: Ignoring invalid distribution -rotobuf (c:\\users\\my pc\\anaconda3\\lib\\site-packages)\n",
      "ERROR: Could not install packages due to an OSError: [Errno 2] No such file or directory: 'C:\\\\Users\\\\MY PC\\\\anaconda3\\\\a.Practice Folder\\\\fresco play\\\\wings1 machine learning test\\\\testrecommendation-1.0-py3-none-any.whl'\n",
      "\n",
      "WARNING: Ignoring invalid distribution -rotobuf (c:\\users\\my pc\\anaconda3\\lib\\site-packages)\n",
      "WARNING: Ignoring invalid distribution -rotobuf (c:\\users\\my pc\\anaconda3\\lib\\site-packages)\n",
      "WARNING: Ignoring invalid distribution -rotobuf (c:\\users\\my pc\\anaconda3\\lib\\site-packages)\n"
     ]
    },
    {
     "name": "stdout",
     "output_type": "stream",
     "text": [
      "Processing c:\\users\\my pc\\anaconda3\\a.practice folder\\fresco play\\wings1 machine learning test\\testrecommendation-1.0-py3-none-any.whl\n"
     ]
    }
   ],
   "source": [
    "pip install ../testrecommendation-1.0-py3-none-any.whl"
   ]
  },
  {
   "cell_type": "code",
   "execution_count": null,
   "id": "b30ff615",
   "metadata": {},
   "outputs": [],
   "source": []
  }
 ],
 "metadata": {
  "kernelspec": {
   "display_name": "Python 3 (ipykernel)",
   "language": "python",
   "name": "python3"
  },
  "language_info": {
   "codemirror_mode": {
    "name": "ipython",
    "version": 3
   },
   "file_extension": ".py",
   "mimetype": "text/x-python",
   "name": "python",
   "nbconvert_exporter": "python",
   "pygments_lexer": "ipython3",
   "version": "3.9.7"
  }
 },
 "nbformat": 4,
 "nbformat_minor": 5
}

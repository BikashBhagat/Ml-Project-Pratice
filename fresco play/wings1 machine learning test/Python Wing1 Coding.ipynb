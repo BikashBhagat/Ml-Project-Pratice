{
 "cells": [
  {
   "cell_type": "code",
   "execution_count": 1,
   "id": "30005583",
   "metadata": {},
   "outputs": [],
   "source": [
    "# input line\n",
    "# Word\n",
    "# lines "
   ]
  },
  {
   "cell_type": "code",
   "execution_count": 2,
   "id": "f56c7415",
   "metadata": {},
   "outputs": [],
   "source": [
    "N= 2\n",
    "word = \"java\"\n",
    "lines = ['I hate java','Python is a good programming launguage']"
   ]
  },
  {
   "cell_type": "code",
   "execution_count": 3,
   "id": "16fc9cc6",
   "metadata": {},
   "outputs": [],
   "source": [
    "def occur(str1,str2):\n",
    "    count = 0\n",
    "    for ele in str2.lower().split():\n",
    "        if ele == str1.lower():\n",
    "            count = count+1\n",
    "    return count"
   ]
  },
  {
   "cell_type": "code",
   "execution_count": 26,
   "id": "4069c25e",
   "metadata": {},
   "outputs": [
    {
     "ename": "TypeError",
     "evalue": "unhashable type: 'list'",
     "output_type": "error",
     "traceback": [
      "\u001b[1;31m---------------------------------------------------------------------------\u001b[0m",
      "\u001b[1;31mTypeError\u001b[0m                                 Traceback (most recent call last)",
      "\u001b[1;32mC:\\Users\\MYPC~1\\AppData\\Local\\Temp/ipykernel_3980/893318975.py\u001b[0m in \u001b[0;36m<module>\u001b[1;34m\u001b[0m\n\u001b[0;32m      2\u001b[0m \u001b[1;32mfor\u001b[0m \u001b[0mele\u001b[0m \u001b[1;32min\u001b[0m \u001b[0mlines\u001b[0m\u001b[1;33m:\u001b[0m\u001b[1;33m\u001b[0m\u001b[1;33m\u001b[0m\u001b[0m\n\u001b[0;32m      3\u001b[0m     \u001b[0moccurance\u001b[0m\u001b[1;33m[\u001b[0m\u001b[0moccur\u001b[0m\u001b[1;33m(\u001b[0m\u001b[0mword\u001b[0m\u001b[1;33m,\u001b[0m\u001b[0mele\u001b[0m\u001b[1;33m)\u001b[0m\u001b[1;33m]\u001b[0m \u001b[1;33m=\u001b[0m \u001b[0mele\u001b[0m\u001b[1;33m\u001b[0m\u001b[1;33m\u001b[0m\u001b[0m\n\u001b[1;32m----> 4\u001b[1;33m \u001b[0mx\u001b[0m \u001b[1;33m=\u001b[0m \u001b[1;33m(\u001b[0m\u001b[1;33m[\u001b[0m\u001b[0moccurance\u001b[0m\u001b[1;33m[\u001b[0m \u001b[0msorted\u001b[0m\u001b[1;33m(\u001b[0m\u001b[0moccurance\u001b[0m\u001b[1;33m)\u001b[0m\u001b[1;33m]\u001b[0m\u001b[1;33m]\u001b[0m\u001b[1;33m)\u001b[0m\u001b[1;33m\u001b[0m\u001b[1;33m\u001b[0m\u001b[0m\n\u001b[0m",
      "\u001b[1;31mTypeError\u001b[0m: unhashable type: 'list'"
     ]
    }
   ],
   "source": [
    "occurance ={}\n",
    "for ele in lines:\n",
    "    occurance[occur(word,ele)] = ele\n",
    "x = ([occurance[x] for x in sorted(occurance)])"
   ]
  },
  {
   "cell_type": "code",
   "execution_count": 25,
   "id": "b94c45e3",
   "metadata": {},
   "outputs": [
    {
     "name": "stdout",
     "output_type": "stream",
     "text": [
      "Python is a good programming launguage\n",
      "I hate java\n"
     ]
    }
   ],
   "source": [
    "for i in range(N):\n",
    "    print(x[i])"
   ]
  },
  {
   "cell_type": "code",
   "execution_count": 1,
   "id": "0a1138f3",
   "metadata": {},
   "outputs": [
    {
     "name": "stdout",
     "output_type": "stream",
     "text": [
      "3\n",
      "Python\n",
      "I like to code in pYthon\n",
      "The only python i know is my python\n",
      "I dont like to code in Java\n",
      "I dont like to code in Java\n",
      "I like to code in pYthon\n",
      "The only python i know is my python\n"
     ]
    }
   ],
   "source": [
    "N = int(input())\n",
    "word = input()\n",
    "lines = [input() for i in range(N)]\n",
    "def occur(str1,str2):\n",
    "    count = 0\n",
    "    for ele in str2.lower().split():\n",
    "        if ele == str1.lower():\n",
    "            count = count+1\n",
    "    return count\n",
    "occurance ={}\n",
    "for ele in lines:\n",
    "    occurance[occur(word,ele)] = ele\n",
    "x = ([occurance[x] for x in sorted(occurance)])\n",
    "for i in range(N):\n",
    "    print(x[i])"
   ]
  },
  {
   "cell_type": "code",
   "execution_count": 6,
   "id": "f3a7c30c",
   "metadata": {},
   "outputs": [],
   "source": [
    "count =1\n",
    "count+=1"
   ]
  },
  {
   "cell_type": "code",
   "execution_count": 8,
   "id": "9ba5670b",
   "metadata": {},
   "outputs": [],
   "source": [
    "import numpy as np"
   ]
  },
  {
   "cell_type": "code",
   "execution_count": 9,
   "id": "872571cc",
   "metadata": {},
   "outputs": [],
   "source": [
    "mat = np.arange(1,101).reshape(10,10)"
   ]
  },
  {
   "cell_type": "code",
   "execution_count": 10,
   "id": "b1183587",
   "metadata": {},
   "outputs": [
    {
     "data": {
      "text/plain": [
       "array([[  1,   2,   3,   4,   5,   6,   7,   8,   9,  10],\n",
       "       [ 11,  12,  13,  14,  15,  16,  17,  18,  19,  20],\n",
       "       [ 21,  22,  23,  24,  25,  26,  27,  28,  29,  30],\n",
       "       [ 31,  32,  33,  34,  35,  36,  37,  38,  39,  40],\n",
       "       [ 41,  42,  43,  44,  45,  46,  47,  48,  49,  50],\n",
       "       [ 51,  52,  53,  54,  55,  56,  57,  58,  59,  60],\n",
       "       [ 61,  62,  63,  64,  65,  66,  67,  68,  69,  70],\n",
       "       [ 71,  72,  73,  74,  75,  76,  77,  78,  79,  80],\n",
       "       [ 81,  82,  83,  84,  85,  86,  87,  88,  89,  90],\n",
       "       [ 91,  92,  93,  94,  95,  96,  97,  98,  99, 100]])"
      ]
     },
     "execution_count": 10,
     "metadata": {},
     "output_type": "execute_result"
    }
   ],
   "source": [
    "mat"
   ]
  },
  {
   "cell_type": "code",
   "execution_count": 11,
   "id": "90dff7a1",
   "metadata": {},
   "outputs": [
    {
     "data": {
      "text/plain": [
       "505"
      ]
     },
     "execution_count": 11,
     "metadata": {},
     "output_type": "execute_result"
    }
   ],
   "source": [
    "mat.trace()"
   ]
  },
  {
   "cell_type": "code",
   "execution_count": 12,
   "id": "428c22c5",
   "metadata": {},
   "outputs": [],
   "source": [
    "su = 0\n",
    "for i in range(10):\n",
    "    for j in range(10):\n",
    "        if i == j:\n",
    "            su+=mat[i][j]"
   ]
  },
  {
   "cell_type": "code",
   "execution_count": 13,
   "id": "a0b5167a",
   "metadata": {},
   "outputs": [
    {
     "data": {
      "text/plain": [
       "505"
      ]
     },
     "execution_count": 13,
     "metadata": {},
     "output_type": "execute_result"
    }
   ],
   "source": [
    "su"
   ]
  },
  {
   "cell_type": "markdown",
   "id": "b0d25c80",
   "metadata": {},
   "source": [
    "Write a program that will take one string as input. The program will then remove vowe\n",
    "ls a, e, i, o, and u (in lower or upper case )\n",
    "from the string. If there are two or more vowels that occur together then the program shall ignore all of those vowels.\n"
   ]
  },
  {
   "cell_type": "code",
   "execution_count": 14,
   "id": "8f0e45a1",
   "metadata": {},
   "outputs": [],
   "source": [
    "vowels = ['a','e','i','o','u']"
   ]
  },
  {
   "cell_type": "code",
   "execution_count": 18,
   "id": "bfa65e56",
   "metadata": {},
   "outputs": [],
   "source": [
    "str1 = 'oompuuter'\n",
    "res = \"\"\n",
    "for i in range(1,len(str1)-1):\n",
    "    if str1[i] in vowels:\n",
    "        if str1[i-1] in vowels:\n",
    "            continue\n",
    "        elif str1[i+1] in vowels:\n",
    "            continue\n",
    "        else:\n",
    "            res = str1[:i]\n",
    "            "
   ]
  },
  {
   "cell_type": "code",
   "execution_count": 19,
   "id": "9a31e0fd",
   "metadata": {},
   "outputs": [
    {
     "data": {
      "text/plain": [
       "'compuut'"
      ]
     },
     "execution_count": 19,
     "metadata": {},
     "output_type": "execute_result"
    }
   ],
   "source": [
    "res"
   ]
  },
  {
   "cell_type": "code",
   "execution_count": 20,
   "id": "c758b4b2",
   "metadata": {},
   "outputs": [],
   "source": [
    "lst=[]\n",
    "for i in str1:\n",
    "    lst.append(i)"
   ]
  },
  {
   "cell_type": "code",
   "execution_count": 21,
   "id": "c6087586",
   "metadata": {},
   "outputs": [
    {
     "data": {
      "text/plain": [
       "['c', 'o', 'm', 'p', 'u', 'u', 't', 'e', 'r']"
      ]
     },
     "execution_count": 21,
     "metadata": {},
     "output_type": "execute_result"
    }
   ],
   "source": [
    "lst"
   ]
  },
  {
   "cell_type": "code",
   "execution_count": 142,
   "id": "fe7ceee0",
   "metadata": {},
   "outputs": [
    {
     "name": "stdout",
     "output_type": "stream",
     "text": [
      "cmptr \n"
     ]
    }
   ],
   "source": [
    "vowels = ['a','e','i','o','u']\n",
    "str1 = 'computer '\n",
    "lst=[]\n",
    "for i in str1:\n",
    "    lst.append(i)\n",
    "    \n",
    "if lst[0] in vowels:\n",
    "    if lst[1] not in vowels:\n",
    "        lst.pop(0)\n",
    "if lst[-1] in vowels:\n",
    "    if lst[-2] not in vowels:\n",
    "        lst.pop(-1)    \n",
    "for i in range(1,(len(lst)-2)):\n",
    "    if i>len(lst)-2:\n",
    "        break\n",
    "    if lst[i] in vowels:\n",
    "        if lst[i-1] in vowels:\n",
    "            continue\n",
    "        elif lst[i+1] in vowels:\n",
    "            continue\n",
    "        else:\n",
    "            lst.pop(i)\n",
    "\n",
    "res =\"\"\n",
    "for i in lst:\n",
    "    res+=i\n",
    "print(res)"
   ]
  },
  {
   "cell_type": "code",
   "execution_count": null,
   "id": "a01f0f75",
   "metadata": {},
   "outputs": [],
   "source": []
  },
  {
   "cell_type": "code",
   "execution_count": 143,
   "id": "d0ae2c49",
   "metadata": {},
   "outputs": [],
   "source": [
    "n = 3\n",
    "\n",
    "lst = ['A B 2-1','B C 5-6','C A 2-1']"
   ]
  },
  {
   "cell_type": "code",
   "execution_count": 144,
   "id": "33cac825",
   "metadata": {},
   "outputs": [
    {
     "data": {
      "text/plain": [
       "['A B 2-1', 'B C 5-6', 'C A 2-1']"
      ]
     },
     "execution_count": 144,
     "metadata": {},
     "output_type": "execute_result"
    }
   ],
   "source": [
    "lst"
   ]
  },
  {
   "cell_type": "code",
   "execution_count": 159,
   "id": "4628a6ed",
   "metadata": {},
   "outputs": [
    {
     "name": "stdout",
     "output_type": "stream",
     "text": [
      "C\n"
     ]
    }
   ],
   "source": [
    "n = 3\n",
    "lst = ['A B 2-1','B C 10-6','C A 2-1']\n",
    "dic ={}\n",
    "for i in lst:\n",
    "    if i.split()[0] not in dic:\n",
    "        dic[i.split()[0]]=0\n",
    "    if i.split()[1] not in dic:\n",
    "        dic[i.split()[1]]=0\n",
    "    \n",
    "for i in lst:\n",
    "    score = i.split()[-1].split('-')\n",
    "    \n",
    "    if int(score[1]) > int(score[0]):\n",
    "        winner = i[2]\n",
    "        dic[winner]+=3\n",
    "    elif int(score[1]) == int(score[0]):\n",
    "        dic[i[0]]+=1\n",
    "        dic[i[2]]+=1\n",
    "    else:\n",
    "        winner = i[0]\n",
    "        dic[winner]+=3\n",
    "        \n",
    "print(max(dic))  "
   ]
  },
  {
   "cell_type": "code",
   "execution_count": 160,
   "id": "beee1625",
   "metadata": {},
   "outputs": [
    {
     "data": {
      "text/plain": [
       "{'A': 3, 'B': 3, 'C': 3}"
      ]
     },
     "execution_count": 160,
     "metadata": {},
     "output_type": "execute_result"
    }
   ],
   "source": [
    "dic"
   ]
  },
  {
   "cell_type": "code",
   "execution_count": 200,
   "id": "d5211842",
   "metadata": {},
   "outputs": [],
   "source": [
    "def subset(lst,n):\n",
    "    ans = []\n",
    "    res = set()\n",
    "    def subsetsum(ind,sum,ds = []):\n",
    "        if ind == n:\n",
    "            ds.sort()\n",
    "            res.add(tuple(ds))\n",
    "            ans.append(sum)\n",
    "            return\n",
    "        ds.append(lst[ind])\n",
    "        subsetsum(ind+1, sum+lst[ind])\n",
    "        ds.pop()\n",
    "        subsetsum(ind+1, sum)\n",
    "    subsetsum(0,0)\n",
    "    ans.sort()\n",
    "    sublist=[]\n",
    "    for i in res:\n",
    "        sublist.append(list(i))\n",
    "    return ans, sublist\n"
   ]
  },
  {
   "cell_type": "code",
   "execution_count": 201,
   "id": "e7cce2ce",
   "metadata": {},
   "outputs": [],
   "source": [
    "a,b = subset([1,2,2],3)"
   ]
  },
  {
   "cell_type": "code",
   "execution_count": 202,
   "id": "c0b25b4f",
   "metadata": {},
   "outputs": [
    {
     "data": {
      "text/plain": [
       "[0, 1, 2, 2, 3, 3, 4, 5]"
      ]
     },
     "execution_count": 202,
     "metadata": {},
     "output_type": "execute_result"
    }
   ],
   "source": [
    "a"
   ]
  },
  {
   "cell_type": "code",
   "execution_count": 203,
   "id": "c621b787",
   "metadata": {},
   "outputs": [],
   "source": [
    "b.sort()"
   ]
  },
  {
   "cell_type": "code",
   "execution_count": 204,
   "id": "fc1ba8b3",
   "metadata": {},
   "outputs": [
    {
     "data": {
      "text/plain": [
       "[[], [1], [1, 2], [1, 2, 2], [2], [2, 2]]"
      ]
     },
     "execution_count": 204,
     "metadata": {},
     "output_type": "execute_result"
    }
   ],
   "source": [
    "b"
   ]
  },
  {
   "cell_type": "code",
   "execution_count": null,
   "id": "eed35179",
   "metadata": {},
   "outputs": [],
   "source": []
  },
  {
   "cell_type": "code",
   "execution_count": null,
   "id": "af6fe0c2",
   "metadata": {},
   "outputs": [],
   "source": []
  },
  {
   "cell_type": "code",
   "execution_count": 222,
   "id": "ade0923f",
   "metadata": {},
   "outputs": [],
   "source": [
    "def sumset(lst,target):\n",
    "    ans = []\n",
    "    ds=[]\n",
    "    def combset(ind,target):\n",
    "        if ind == len(lst):\n",
    "            if target ==0:\n",
    "                ans.append(ds[:])\n",
    "            return\n",
    "        if target >= lst[ind]:\n",
    "            ds.append(lst[ind])\n",
    "            combset(ind, target-lst[ind])\n",
    "            ds.pop()\n",
    "        combset(ind+1,target)\n",
    "    combset(0,target)\n",
    "    return ans     \n",
    "    "
   ]
  },
  {
   "cell_type": "code",
   "execution_count": 223,
   "id": "f9e159a4",
   "metadata": {},
   "outputs": [],
   "source": [
    "a = sumset([2,3,6,7],7)"
   ]
  },
  {
   "cell_type": "code",
   "execution_count": 224,
   "id": "36ab2073",
   "metadata": {},
   "outputs": [
    {
     "data": {
      "text/plain": [
       "[[2, 2, 3], [7]]"
      ]
     },
     "execution_count": 224,
     "metadata": {},
     "output_type": "execute_result"
    }
   ],
   "source": [
    "a"
   ]
  },
  {
   "cell_type": "code",
   "execution_count": 226,
   "id": "f53970a1",
   "metadata": {},
   "outputs": [
    {
     "name": "stdout",
     "output_type": "stream",
     "text": [
      "1\n"
     ]
    }
   ],
   "source": [
    "for i in range(1,2):\n",
    "    print(i)"
   ]
  },
  {
   "cell_type": "code",
   "execution_count": 281,
   "id": "1b086957",
   "metadata": {},
   "outputs": [],
   "source": [
    "from itertools import combinations\n",
    "\n",
    "def fun(arr,n):\n",
    "    sub = []\n",
    "    max_xor= max(arr)\n",
    "    for i in range(1,N//2+1):\n",
    "        comb = combinations(arr, i+1)\n",
    "        for i in comb:\n",
    "            sub.append(i)\n",
    "        print(sub)\n",
    "    for a in sub:\n",
    "        z = 0\n",
    "        for b in a:\n",
    "            z = z^b\n",
    "        if z > max_xor:\n",
    "            max_xor= z\n",
    "    return max_xor\n",
    "\n",
    "      "
   ]
  },
  {
   "cell_type": "code",
   "execution_count": 282,
   "id": "b4078aca",
   "metadata": {},
   "outputs": [
    {
     "name": "stdout",
     "output_type": "stream",
     "text": [
      "[(1, 8), (1, 9), (1, 11), (1, 6), (1, 7), (8, 9), (8, 11), (8, 6), (8, 7), (9, 11), (9, 6), (9, 7), (11, 6), (11, 7), (6, 7)]\n"
     ]
    },
    {
     "data": {
      "text/plain": [
       "15"
      ]
     },
     "execution_count": 282,
     "metadata": {},
     "output_type": "execute_result"
    }
   ],
   "source": [
    "x = fun([1,8,9,11,6,7],6)\n",
    "x"
   ]
  },
  {
   "cell_type": "code",
   "execution_count": 272,
   "id": "e6b2a8d4",
   "metadata": {},
   "outputs": [
    {
     "data": {
      "text/plain": [
       "14"
      ]
     },
     "execution_count": 272,
     "metadata": {},
     "output_type": "execute_result"
    }
   ],
   "source": [
    "2^4^8"
   ]
  },
  {
   "cell_type": "code",
   "execution_count": 294,
   "id": "0c7088cf",
   "metadata": {},
   "outputs": [],
   "source": [
    "import re\n",
    "def check():  \n",
    "    r = re.find(\"^a*b$\",\"absdb\")\n",
    "    return True if not r else False"
   ]
  },
  {
   "cell_type": "code",
   "execution_count": 295,
   "id": "24b0c977",
   "metadata": {},
   "outputs": [
    {
     "ename": "AttributeError",
     "evalue": "module 're' has no attribute 'find'",
     "output_type": "error",
     "traceback": [
      "\u001b[1;31m---------------------------------------------------------------------------\u001b[0m",
      "\u001b[1;31mAttributeError\u001b[0m                            Traceback (most recent call last)",
      "\u001b[1;32mC:\\Users\\MYPC~1\\AppData\\Local\\Temp/ipykernel_14676/4218309605.py\u001b[0m in \u001b[0;36m<module>\u001b[1;34m\u001b[0m\n\u001b[1;32m----> 1\u001b[1;33m \u001b[0mcheck\u001b[0m\u001b[1;33m(\u001b[0m\u001b[1;33m)\u001b[0m\u001b[1;33m\u001b[0m\u001b[1;33m\u001b[0m\u001b[0m\n\u001b[0m",
      "\u001b[1;32mC:\\Users\\MYPC~1\\AppData\\Local\\Temp/ipykernel_14676/1033904154.py\u001b[0m in \u001b[0;36mcheck\u001b[1;34m()\u001b[0m\n\u001b[0;32m      1\u001b[0m \u001b[1;32mimport\u001b[0m \u001b[0mre\u001b[0m\u001b[1;33m\u001b[0m\u001b[1;33m\u001b[0m\u001b[0m\n\u001b[0;32m      2\u001b[0m \u001b[1;32mdef\u001b[0m \u001b[0mcheck\u001b[0m\u001b[1;33m(\u001b[0m\u001b[1;33m)\u001b[0m\u001b[1;33m:\u001b[0m\u001b[1;33m\u001b[0m\u001b[1;33m\u001b[0m\u001b[0m\n\u001b[1;32m----> 3\u001b[1;33m     \u001b[0mr\u001b[0m \u001b[1;33m=\u001b[0m \u001b[0mre\u001b[0m\u001b[1;33m.\u001b[0m\u001b[0mfind\u001b[0m\u001b[1;33m(\u001b[0m\u001b[1;34m\"^a*b$\"\u001b[0m\u001b[1;33m,\u001b[0m\u001b[1;34m\"absdb\"\u001b[0m\u001b[1;33m)\u001b[0m\u001b[1;33m\u001b[0m\u001b[1;33m\u001b[0m\u001b[0m\n\u001b[0m\u001b[0;32m      4\u001b[0m     \u001b[1;32mreturn\u001b[0m \u001b[1;32mTrue\u001b[0m \u001b[1;32mif\u001b[0m \u001b[1;32mnot\u001b[0m \u001b[0mr\u001b[0m \u001b[1;32melse\u001b[0m \u001b[1;32mFalse\u001b[0m\u001b[1;33m\u001b[0m\u001b[1;33m\u001b[0m\u001b[0m\n",
      "\u001b[1;31mAttributeError\u001b[0m: module 're' has no attribute 'find'"
     ]
    }
   ],
   "source": [
    "check()"
   ]
  },
  {
   "cell_type": "code",
   "execution_count": 296,
   "id": "87025302",
   "metadata": {},
   "outputs": [
    {
     "name": "stdout",
     "output_type": "stream",
     "text": [
      "9\n"
     ]
    }
   ],
   "source": [
    "r=[]\n",
    "for i in range(10):\n",
    "    r.append(i)\n",
    "print(i)"
   ]
  },
  {
   "cell_type": "code",
   "execution_count": null,
   "id": "cb916dc6",
   "metadata": {},
   "outputs": [],
   "source": [
    "\n"
   ]
  }
 ],
 "metadata": {
  "kernelspec": {
   "display_name": "Python 3 (ipykernel)",
   "language": "python",
   "name": "python3"
  },
  "language_info": {
   "codemirror_mode": {
    "name": "ipython",
    "version": 3
   },
   "file_extension": ".py",
   "mimetype": "text/x-python",
   "name": "python",
   "nbconvert_exporter": "python",
   "pygments_lexer": "ipython3",
   "version": "3.9.7"
  }
 },
 "nbformat": 4,
 "nbformat_minor": 5
}

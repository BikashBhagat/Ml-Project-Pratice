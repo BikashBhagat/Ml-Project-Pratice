{
 "cells": [
  {
   "cell_type": "code",
   "execution_count": 1,
   "id": "fb63116b",
   "metadata": {},
   "outputs": [],
   "source": [
    "import pandas as pd\n",
    "import numpy as np\n",
    "import seaborn as sns\n",
    "import matplotlib.pyplot as plt\n",
    "%matplotlib inline"
   ]
  },
  {
   "cell_type": "code",
   "execution_count": 2,
   "id": "3aacfb40",
   "metadata": {},
   "outputs": [],
   "source": [
    "df = pd.read_csv(\"netflix_titles.csv\")"
   ]
  },
  {
   "cell_type": "code",
   "execution_count": 3,
   "id": "c15aaa8d",
   "metadata": {},
   "outputs": [
    {
     "data": {
      "text/html": [
       "<div>\n",
       "<style scoped>\n",
       "    .dataframe tbody tr th:only-of-type {\n",
       "        vertical-align: middle;\n",
       "    }\n",
       "\n",
       "    .dataframe tbody tr th {\n",
       "        vertical-align: top;\n",
       "    }\n",
       "\n",
       "    .dataframe thead th {\n",
       "        text-align: right;\n",
       "    }\n",
       "</style>\n",
       "<table border=\"1\" class=\"dataframe\">\n",
       "  <thead>\n",
       "    <tr style=\"text-align: right;\">\n",
       "      <th></th>\n",
       "      <th>show_id</th>\n",
       "      <th>type</th>\n",
       "      <th>title</th>\n",
       "      <th>director</th>\n",
       "      <th>cast</th>\n",
       "      <th>country</th>\n",
       "      <th>date_added</th>\n",
       "      <th>release_year</th>\n",
       "      <th>rating</th>\n",
       "      <th>duration</th>\n",
       "      <th>listed_in</th>\n",
       "      <th>description</th>\n",
       "    </tr>\n",
       "  </thead>\n",
       "  <tbody>\n",
       "    <tr>\n",
       "      <th>0</th>\n",
       "      <td>s1</td>\n",
       "      <td>Movie</td>\n",
       "      <td>Dick Johnson Is Dead</td>\n",
       "      <td>Kirsten Johnson</td>\n",
       "      <td>NaN</td>\n",
       "      <td>United States</td>\n",
       "      <td>September 25, 2021</td>\n",
       "      <td>2020</td>\n",
       "      <td>PG-13</td>\n",
       "      <td>90 min</td>\n",
       "      <td>Documentaries</td>\n",
       "      <td>As her father nears the end of his life, filmm...</td>\n",
       "    </tr>\n",
       "    <tr>\n",
       "      <th>1</th>\n",
       "      <td>s2</td>\n",
       "      <td>TV Show</td>\n",
       "      <td>Blood &amp; Water</td>\n",
       "      <td>NaN</td>\n",
       "      <td>Ama Qamata, Khosi Ngema, Gail Mabalane, Thaban...</td>\n",
       "      <td>South Africa</td>\n",
       "      <td>September 24, 2021</td>\n",
       "      <td>2021</td>\n",
       "      <td>TV-MA</td>\n",
       "      <td>2 Seasons</td>\n",
       "      <td>International TV Shows, TV Dramas, TV Mysteries</td>\n",
       "      <td>After crossing paths at a party, a Cape Town t...</td>\n",
       "    </tr>\n",
       "    <tr>\n",
       "      <th>2</th>\n",
       "      <td>s3</td>\n",
       "      <td>TV Show</td>\n",
       "      <td>Ganglands</td>\n",
       "      <td>Julien Leclercq</td>\n",
       "      <td>Sami Bouajila, Tracy Gotoas, Samuel Jouy, Nabi...</td>\n",
       "      <td>NaN</td>\n",
       "      <td>September 24, 2021</td>\n",
       "      <td>2021</td>\n",
       "      <td>TV-MA</td>\n",
       "      <td>1 Season</td>\n",
       "      <td>Crime TV Shows, International TV Shows, TV Act...</td>\n",
       "      <td>To protect his family from a powerful drug lor...</td>\n",
       "    </tr>\n",
       "    <tr>\n",
       "      <th>3</th>\n",
       "      <td>s4</td>\n",
       "      <td>TV Show</td>\n",
       "      <td>Jailbirds New Orleans</td>\n",
       "      <td>NaN</td>\n",
       "      <td>NaN</td>\n",
       "      <td>NaN</td>\n",
       "      <td>September 24, 2021</td>\n",
       "      <td>2021</td>\n",
       "      <td>TV-MA</td>\n",
       "      <td>1 Season</td>\n",
       "      <td>Docuseries, Reality TV</td>\n",
       "      <td>Feuds, flirtations and toilet talk go down amo...</td>\n",
       "    </tr>\n",
       "    <tr>\n",
       "      <th>4</th>\n",
       "      <td>s5</td>\n",
       "      <td>TV Show</td>\n",
       "      <td>Kota Factory</td>\n",
       "      <td>NaN</td>\n",
       "      <td>Mayur More, Jitendra Kumar, Ranjan Raj, Alam K...</td>\n",
       "      <td>India</td>\n",
       "      <td>September 24, 2021</td>\n",
       "      <td>2021</td>\n",
       "      <td>TV-MA</td>\n",
       "      <td>2 Seasons</td>\n",
       "      <td>International TV Shows, Romantic TV Shows, TV ...</td>\n",
       "      <td>In a city of coaching centers known to train I...</td>\n",
       "    </tr>\n",
       "  </tbody>\n",
       "</table>\n",
       "</div>"
      ],
      "text/plain": [
       "  show_id     type                  title         director  \\\n",
       "0      s1    Movie   Dick Johnson Is Dead  Kirsten Johnson   \n",
       "1      s2  TV Show          Blood & Water              NaN   \n",
       "2      s3  TV Show              Ganglands  Julien Leclercq   \n",
       "3      s4  TV Show  Jailbirds New Orleans              NaN   \n",
       "4      s5  TV Show           Kota Factory              NaN   \n",
       "\n",
       "                                                cast        country  \\\n",
       "0                                                NaN  United States   \n",
       "1  Ama Qamata, Khosi Ngema, Gail Mabalane, Thaban...   South Africa   \n",
       "2  Sami Bouajila, Tracy Gotoas, Samuel Jouy, Nabi...            NaN   \n",
       "3                                                NaN            NaN   \n",
       "4  Mayur More, Jitendra Kumar, Ranjan Raj, Alam K...          India   \n",
       "\n",
       "           date_added  release_year rating   duration  \\\n",
       "0  September 25, 2021          2020  PG-13     90 min   \n",
       "1  September 24, 2021          2021  TV-MA  2 Seasons   \n",
       "2  September 24, 2021          2021  TV-MA   1 Season   \n",
       "3  September 24, 2021          2021  TV-MA   1 Season   \n",
       "4  September 24, 2021          2021  TV-MA  2 Seasons   \n",
       "\n",
       "                                           listed_in  \\\n",
       "0                                      Documentaries   \n",
       "1    International TV Shows, TV Dramas, TV Mysteries   \n",
       "2  Crime TV Shows, International TV Shows, TV Act...   \n",
       "3                             Docuseries, Reality TV   \n",
       "4  International TV Shows, Romantic TV Shows, TV ...   \n",
       "\n",
       "                                         description  \n",
       "0  As her father nears the end of his life, filmm...  \n",
       "1  After crossing paths at a party, a Cape Town t...  \n",
       "2  To protect his family from a powerful drug lor...  \n",
       "3  Feuds, flirtations and toilet talk go down amo...  \n",
       "4  In a city of coaching centers known to train I...  "
      ]
     },
     "execution_count": 3,
     "metadata": {},
     "output_type": "execute_result"
    }
   ],
   "source": [
    "df.head()"
   ]
  },
  {
   "cell_type": "code",
   "execution_count": 5,
   "id": "f54889a2",
   "metadata": {},
   "outputs": [
    {
     "name": "stdout",
     "output_type": "stream",
     "text": [
      "<class 'pandas.core.frame.DataFrame'>\n",
      "RangeIndex: 8807 entries, 0 to 8806\n",
      "Data columns (total 12 columns):\n",
      " #   Column        Non-Null Count  Dtype \n",
      "---  ------        --------------  ----- \n",
      " 0   show_id       8807 non-null   object\n",
      " 1   type          8807 non-null   object\n",
      " 2   title         8807 non-null   object\n",
      " 3   director      6173 non-null   object\n",
      " 4   cast          7982 non-null   object\n",
      " 5   country       7976 non-null   object\n",
      " 6   date_added    8797 non-null   object\n",
      " 7   release_year  8807 non-null   int64 \n",
      " 8   rating        8803 non-null   object\n",
      " 9   duration      8804 non-null   object\n",
      " 10  listed_in     8807 non-null   object\n",
      " 11  description   8807 non-null   object\n",
      "dtypes: int64(1), object(11)\n",
      "memory usage: 825.8+ KB\n"
     ]
    }
   ],
   "source": [
    "df.info()"
   ]
  },
  {
   "cell_type": "markdown",
   "id": "6fc37030",
   "metadata": {},
   "source": [
    "#Is there is a duplicate records in this dataset ? if yes, then remove them"
   ]
  },
  {
   "cell_type": "code",
   "execution_count": 8,
   "id": "fb63eaac",
   "metadata": {},
   "outputs": [
    {
     "data": {
      "text/plain": [
       "0"
      ]
     },
     "execution_count": 8,
     "metadata": {},
     "output_type": "execute_result"
    }
   ],
   "source": [
    "df.duplicated().sum()"
   ]
  },
  {
   "cell_type": "code",
   "execution_count": 11,
   "id": "3fc5fd88",
   "metadata": {},
   "outputs": [
    {
     "data": {
      "text/plain": [
       "(8807, 12)"
      ]
     },
     "execution_count": 11,
     "metadata": {},
     "output_type": "execute_result"
    }
   ],
   "source": [
    "df.shape"
   ]
  },
  {
   "cell_type": "code",
   "execution_count": 12,
   "id": "8ac37c58",
   "metadata": {},
   "outputs": [
    {
     "data": {
      "text/plain": [
       "<AxesSubplot:>"
      ]
     },
     "execution_count": 12,
     "metadata": {},
     "output_type": "execute_result"
    },
    {
     "data": {
      "image/png": "[encoded data removed]",
      "text/plain": [
       "<Figure size 432x288 with 2 Axes>"
      ]
     },
     "metadata": {
      "needs_background": "light"
     },
     "output_type": "display_data"
    }
   ],
   "source": [
    "sns.heatmap(df.isnull())"
   ]
  },
  {
   "cell_type": "code",
   "execution_count": 13,
   "id": "517ec225",
   "metadata": {},
   "outputs": [
    {
     "data": {
      "text/plain": [
       "2634"
      ]
     },
     "execution_count": 13,
     "metadata": {},
     "output_type": "execute_result"
    }
   ],
   "source": [
    "df['director'].isnull().sum()"
   ]
  },
  {
   "cell_type": "code",
   "execution_count": 14,
   "id": "65fc8676",
   "metadata": {},
   "outputs": [
    {
     "data": {
      "text/plain": [
       "show_id            0\n",
       "type               0\n",
       "title              0\n",
       "director        2634\n",
       "cast             825\n",
       "country          831\n",
       "date_added        10\n",
       "release_year       0\n",
       "rating             4\n",
       "duration           3\n",
       "listed_in          0\n",
       "description        0\n",
       "dtype: int64"
      ]
     },
     "execution_count": 14,
     "metadata": {},
     "output_type": "execute_result"
    }
   ],
   "source": [
    "df.isnull().sum()"
   ]
  },
  {
   "cell_type": "markdown",
   "id": "d3b790e3",
   "metadata": {},
   "source": [
    "#Q3. For ‘House of cards’ movie what is the show_id and who is the director of this movie ?"
   ]
  },
  {
   "cell_type": "code",
   "execution_count": 9,
   "id": "9c00be99",
   "metadata": {},
   "outputs": [
    {
     "data": {
      "text/plain": [
       "1059    s1060\n",
       "Name: show_id, dtype: object"
      ]
     },
     "execution_count": 9,
     "metadata": {},
     "output_type": "execute_result"
    }
   ],
   "source": [
    "df.loc[df.title=='House of Cards']['show_id']"
   ]
  },
  {
   "cell_type": "markdown",
   "id": "43cb46e2",
   "metadata": {},
   "source": [
    "Q4. In which year highest number of TV shows and movies released ? show it in the\n",
    "bar chart"
   ]
  },
  {
   "cell_type": "code",
   "execution_count": 19,
   "id": "8e3a6bb9",
   "metadata": {},
   "outputs": [
    {
     "data": {
      "text/plain": [
       "<AxesSubplot:ylabel='release_year'>"
      ]
     },
     "execution_count": 19,
     "metadata": {},
     "output_type": "execute_result"
    },
    {
     "data": {
      "image/png": "[encoded data removed]",
      "text/plain": [
       "<Figure size 720x576 with 1 Axes>"
      ]
     },
     "metadata": {
      "needs_background": "light"
     },
     "output_type": "display_data"
    }
   ],
   "source": [
    "df.groupby('release_year').type.count().sort_values(ascending = False).head(30).plot(kind='barh', figsize=(10,8))"
   ]
  },
  {
   "cell_type": "code",
   "execution_count": 39,
   "id": "0239bc7b",
   "metadata": {},
   "outputs": [
    {
     "data": {
      "text/plain": [
       "<AxesSubplot:xlabel='release_year', ylabel='count'>"
      ]
     },
     "execution_count": 39,
     "metadata": {},
     "output_type": "execute_result"
    },
    {
     "data": {
      "image/png": "[encoded data removed]",
      "text/plain": [
       "<Figure size 1440x576 with 1 Axes>"
      ]
     },
     "metadata": {
      "needs_background": "light"
     },
     "output_type": "display_data"
    }
   ],
   "source": [
    "fig = plt.figure(figsize=(20,8))\n",
    "sns.countplot(x='release_year', hue='type', data = df.loc[df.release_year >=2007])"
   ]
  },
  {
   "cell_type": "code",
   "execution_count": null,
   "id": "6e9b70c4",
   "metadata": {},
   "outputs": [],
   "source": []
  },
  {
   "cell_type": "code",
   "execution_count": 54,
   "id": "001ffe35",
   "metadata": {},
   "outputs": [
    {
     "data": {
      "image/png": "[encoded data removed]",
      "text/plain": [
       "<Figure size 1296x576 with 1 Axes>"
      ]
     },
     "metadata": {
      "needs_background": "light"
     },
     "output_type": "display_data"
    }
   ],
   "source": [
    "fig= plt.figure(figsize=(18,8))\n",
    "(df.groupby('release_year')['show_id'].count()).plot.bar()\n",
    "plt.grid()\n",
    "plt.show()"
   ]
  },
  {
   "cell_type": "code",
   "execution_count": null,
   "id": "687c4975",
   "metadata": {},
   "outputs": [],
   "source": []
  },
  {
   "cell_type": "code",
   "execution_count": 43,
   "id": "600d4cd6",
   "metadata": {},
   "outputs": [
    {
     "data": {
      "text/plain": [
       "release_year\n",
       "1925       1\n",
       "1942       2\n",
       "1943       3\n",
       "1944       3\n",
       "1945       4\n",
       "        ... \n",
       "2017    1032\n",
       "2018    1147\n",
       "2019    1030\n",
       "2020     953\n",
       "2021     592\n",
       "Name: show_id, Length: 74, dtype: int64"
      ]
     },
     "execution_count": 43,
     "metadata": {},
     "output_type": "execute_result"
    }
   ],
   "source": [
    "df.groupby('release_year')['show_id'].count()"
   ]
  },
  {
   "cell_type": "code",
   "execution_count": 48,
   "id": "d8b6214e",
   "metadata": {},
   "outputs": [
    {
     "data": {
      "text/plain": [
       "release_year\n",
       "2001      45\n",
       "2002      51\n",
       "2003      61\n",
       "2004      64\n",
       "2005      80\n",
       "2006      96\n",
       "2007      88\n",
       "2008     136\n",
       "2009     152\n",
       "2010     194\n",
       "2011     185\n",
       "2012     237\n",
       "2013     288\n",
       "2014     352\n",
       "2015     560\n",
       "2016     902\n",
       "2017    1032\n",
       "2018    1147\n",
       "2019    1030\n",
       "2020     953\n",
       "2021     592\n",
       "Name: show_id, dtype: int64"
      ]
     },
     "execution_count": 48,
     "metadata": {},
     "output_type": "execute_result"
    }
   ],
   "source": [
    "df[df['release_year']>2000].groupby('release_year')['show_id'].count()"
   ]
  },
  {
   "cell_type": "code",
   "execution_count": 49,
   "id": "11ae49b2",
   "metadata": {},
   "outputs": [
    {
     "data": {
      "text/plain": [
       "<AxesSubplot:xlabel='release_year'>"
      ]
     },
     "execution_count": 49,
     "metadata": {},
     "output_type": "execute_result"
    },
    {
     "data": {
      "image/png": "[encoded data removed]",
      "text/plain": [
       "<Figure size 864x576 with 1 Axes>"
      ]
     },
     "metadata": {
      "needs_background": "light"
     },
     "output_type": "display_data"
    }
   ],
   "source": [
    "fig = plt.figure(figsize=(12,8))\n",
    "(df[df['release_year']>2000].groupby('release_year')['show_id'].count()).plot.bar()"
   ]
  },
  {
   "cell_type": "markdown",
   "id": "a593ac86",
   "metadata": {},
   "source": [
    "Q5. How many Movies and TV series are in the dataset ? Show it in bar char"
   ]
  },
  {
   "cell_type": "code",
   "execution_count": 74,
   "id": "082df888",
   "metadata": {},
   "outputs": [
    {
     "data": {
      "text/plain": [
       "Text(0, 0.5, 'Count')"
      ]
     },
     "execution_count": 74,
     "metadata": {},
     "output_type": "execute_result"
    },
    {
     "data": {
      "image/png": "[encoded data removed]",
      "text/plain": [
       "<Figure size 432x288 with 1 Axes>"
      ]
     },
     "metadata": {
      "needs_background": "light"
     },
     "output_type": "display_data"
    }
   ],
   "source": [
    "df1=df.groupby('type')['show_id'].count()\n",
    "\n",
    "df1.plot.bar()\n",
    "plt.title(\"Show Type Bar Chart\")\n",
    "plt.legend(df1.index)\n",
    "plt.xlabel('Type of show')\n",
    "plt.ylabel('Count')\n"
   ]
  },
  {
   "cell_type": "code",
   "execution_count": 69,
   "id": "c919e5e1",
   "metadata": {},
   "outputs": [
    {
     "data": {
      "text/plain": [
       "type\n",
       "Movie      6131\n",
       "TV Show    2676\n",
       "Name: show_id, dtype: int64"
      ]
     },
     "execution_count": 69,
     "metadata": {},
     "output_type": "execute_result"
    }
   ],
   "source": [
    "df1"
   ]
  },
  {
   "cell_type": "markdown",
   "id": "ba841975",
   "metadata": {},
   "source": [
    "# Q6. How all the ‘movies’ are made in year 2020 "
   ]
  },
  {
   "cell_type": "code",
   "execution_count": 91,
   "id": "8fb61ff8",
   "metadata": {},
   "outputs": [
    {
     "data": {
      "text/plain": [
       "517"
      ]
     },
     "execution_count": 91,
     "metadata": {},
     "output_type": "execute_result"
    }
   ],
   "source": [
    "len(df[(df['type']=='Movie') & (df['release_year']==2020)])"
   ]
  },
  {
   "cell_type": "code",
   "execution_count": 41,
   "id": "82a5f856",
   "metadata": {},
   "outputs": [
    {
     "data": {
      "text/plain": [
       "517"
      ]
     },
     "execution_count": 41,
     "metadata": {},
     "output_type": "execute_result"
    }
   ],
   "source": [
    "len(df.query('type == \"Movie\" and release_year==2020'))"
   ]
  },
  {
   "cell_type": "markdown",
   "id": "f6b90d77",
   "metadata": {},
   "source": [
    "Q7. How many Titles are released in India only "
   ]
  },
  {
   "cell_type": "code",
   "execution_count": 94,
   "id": "d05f489a",
   "metadata": {},
   "outputs": [
    {
     "data": {
      "text/plain": [
       "972"
      ]
     },
     "execution_count": 94,
     "metadata": {},
     "output_type": "execute_result"
    }
   ],
   "source": [
    "#df.head()\n",
    "len(df[df['country']=='India'])"
   ]
  },
  {
   "cell_type": "markdown",
   "id": "7b476d24",
   "metadata": {},
   "source": [
    "#### Q8. Top 10 directors who gave highest number of movies or web serie"
   ]
  },
  {
   "cell_type": "code",
   "execution_count": 113,
   "id": "34c9ad37",
   "metadata": {},
   "outputs": [
    {
     "data": {
      "text/plain": [
       "'Rajiv Chilaka'"
      ]
     },
     "execution_count": 113,
     "metadata": {},
     "output_type": "execute_result"
    }
   ],
   "source": [
    "df.groupby('director')['show_id'].count().sort_values(ascending=False).head(1).index[0]"
   ]
  },
  {
   "cell_type": "code",
   "execution_count": 44,
   "id": "2c3e6e0c",
   "metadata": {},
   "outputs": [
    {
     "data": {
      "text/plain": [
       "<AxesSubplot:ylabel='director'>"
      ]
     },
     "execution_count": 44,
     "metadata": {},
     "output_type": "execute_result"
    },
    {
     "data": {
      "image/png": "[encoded data removed]",
      "text/plain": [
       "<Figure size 432x288 with 1 Axes>"
      ]
     },
     "metadata": {
      "needs_background": "light"
     },
     "output_type": "display_data"
    }
   ],
   "source": [
    "df.groupby('director')['show_id'].count().sort_values(ascending=False).head(10).plot(kind='barh',)"
   ]
  },
  {
   "cell_type": "code",
   "execution_count": 121,
   "id": "d69af4fd",
   "metadata": {},
   "outputs": [
    {
     "data": {
      "text/plain": [
       "'Rajiv Chilaka'"
      ]
     },
     "execution_count": 121,
     "metadata": {},
     "output_type": "execute_result"
    }
   ],
   "source": [
    "df['director'].value_counts().head(10).index[0]"
   ]
  },
  {
   "cell_type": "markdown",
   "id": "1516b38c",
   "metadata": {},
   "source": [
    "### Q9. Show the records where ‘category is movie’ and ‘type is comedy’ or ‘country is UK'"
   ]
  },
  {
   "cell_type": "code",
   "execution_count": 150,
   "id": "63a52b1b",
   "metadata": {},
   "outputs": [
    {
     "data": {
      "text/plain": [
       "2171"
      ]
     },
     "execution_count": 150,
     "metadata": {},
     "output_type": "execute_result"
    }
   ],
   "source": [
    "len(df[(df['type']=='Movie') & ((df['listed_in'].str.contains('Comed[y,ies]', case=False)) | (df['country']=='United Kingdom'))])"
   ]
  },
  {
   "cell_type": "code",
   "execution_count": 168,
   "id": "3de7d572",
   "metadata": {},
   "outputs": [],
   "source": [
    "df4=df[(df['type']=='Movie') & ((df['listed_in'].str.contains('Comed[y,ies]', case=False)) | (df['country'].str.contains('United Kingdom',case=False)))]"
   ]
  },
  {
   "cell_type": "code",
   "execution_count": 169,
   "id": "5f2a5a18",
   "metadata": {},
   "outputs": [],
   "source": [
    "df4.to_csv('q91.csv')"
   ]
  },
  {
   "cell_type": "markdown",
   "id": "0e377527",
   "metadata": {},
   "source": [
    "### Q10. In how many movies / tv shows “Tom Cruise” was casted ?"
   ]
  },
  {
   "cell_type": "code",
   "execution_count": 173,
   "id": "58d56e32",
   "metadata": {},
   "outputs": [],
   "source": [
    "#df.head()\n",
    "df2 = df['cast'].dropna(axis = 0)"
   ]
  },
  {
   "cell_type": "code",
   "execution_count": 178,
   "id": "dc09cc55",
   "metadata": {},
   "outputs": [
    {
     "data": {
      "text/plain": [
       "2"
      ]
     },
     "execution_count": 178,
     "metadata": {},
     "output_type": "execute_result"
    }
   ],
   "source": [
    "len(df2[df2.str.contains(\"Tom Cruise\", case= False)])"
   ]
  },
  {
   "cell_type": "code",
   "execution_count": 176,
   "id": "b55096d3",
   "metadata": {},
   "outputs": [
    {
     "data": {
      "text/plain": [
       "1    Ama Qamata, Khosi Ngema, Gail Mabalane, Thaban...\n",
       "2    Sami Bouajila, Tracy Gotoas, Samuel Jouy, Nabi...\n",
       "4    Mayur More, Jitendra Kumar, Ranjan Raj, Alam K...\n",
       "5    Kate Siegel, Zach Gilford, Hamish Linklater, H...\n",
       "6    Vanessa Hudgens, Kimiko Glenn, James Marsden, ...\n",
       "Name: cast, dtype: object"
      ]
     },
     "execution_count": 176,
     "metadata": {},
     "output_type": "execute_result"
    }
   ],
   "source": [
    "df2.head()"
   ]
  },
  {
   "cell_type": "code",
   "execution_count": 180,
   "id": "b28f36fe",
   "metadata": {},
   "outputs": [
    {
     "data": {
      "text/plain": [
       "2"
      ]
     },
     "execution_count": 180,
     "metadata": {},
     "output_type": "execute_result"
    }
   ],
   "source": [
    "len(df[df['cast'].str.contains(\"Tom Cruise\", case= False, na=False)])"
   ]
  },
  {
   "cell_type": "markdown",
   "id": "225ba716",
   "metadata": {},
   "source": [
    "### 11. What are the different Ratings provided by netflix ?"
   ]
  },
  {
   "cell_type": "code",
   "execution_count": 54,
   "id": "66be2fc7",
   "metadata": {},
   "outputs": [
    {
     "name": "stdout",
     "output_type": "stream",
     "text": [
      "['PG-13' 'TV-MA' 'PG' 'TV-14' 'TV-PG' 'TV-Y' 'TV-Y7' 'R' 'TV-G' 'G'\n",
      " 'NC-17' '74 min' '84 min' '66 min' 'NR' nan 'TV-Y7-FV' 'UR']\n"
     ]
    }
   ],
   "source": [
    "#df.head()\n",
    "print(df['rating'].unique())"
   ]
  },
  {
   "cell_type": "code",
   "execution_count": 184,
   "id": "c54e077e",
   "metadata": {},
   "outputs": [
    {
     "data": {
      "text/plain": [
       "TV-MA       3207\n",
       "TV-14       2160\n",
       "TV-PG        863\n",
       "R            799\n",
       "PG-13        490\n",
       "TV-Y7        334\n",
       "TV-Y         307\n",
       "PG           287\n",
       "TV-G         220\n",
       "NR            80\n",
       "G             41\n",
       "TV-Y7-FV       6\n",
       "NC-17          3\n",
       "UR             3\n",
       "74 min         1\n",
       "84 min         1\n",
       "66 min         1\n",
       "Name: rating, dtype: int64"
      ]
     },
     "execution_count": 184,
     "metadata": {},
     "output_type": "execute_result"
    }
   ],
   "source": [
    "df['rating'].value_counts()"
   ]
  },
  {
   "cell_type": "markdown",
   "id": "d4daeeb7",
   "metadata": {},
   "source": [
    "### Q12. How many movies got the ‘TV-14’ rating in ‘Canada’ ?"
   ]
  },
  {
   "cell_type": "code",
   "execution_count": 187,
   "id": "b29f6c8e",
   "metadata": {},
   "outputs": [
    {
     "data": {
      "text/plain": [
       "26"
      ]
     },
     "execution_count": 187,
     "metadata": {},
     "output_type": "execute_result"
    }
   ],
   "source": [
    "len(df[(df['rating']=='TV-14') & (df['country']=='Canada')])"
   ]
  },
  {
   "cell_type": "code",
   "execution_count": 189,
   "id": "69b73c1e",
   "metadata": {},
   "outputs": [
    {
     "data": {
      "text/plain": [
       "Canada                                           26\n",
       "United States, Canada                             5\n",
       "Canada, United States                             5\n",
       "Lebanon, Canada, France                           2\n",
       "Canada, India                                     2\n",
       "Canada, Nigeria, United States                    1\n",
       "Spain, France, Canada, United States              1\n",
       "Canada, Germany, South Africa                     1\n",
       "Canada, France, Italy, Morocco, United States     1\n",
       "Canada, United Kingdom                            1\n",
       "India, Canada                                     1\n",
       "Canada, United States, United Kingdom             1\n",
       "Spain, Canada, United States                      1\n",
       "United Kingdom, Canada, Japan                     1\n",
       "Name: country, dtype: int64"
      ]
     },
     "execution_count": 189,
     "metadata": {},
     "output_type": "execute_result"
    }
   ],
   "source": [
    "df[(df['rating']=='TV-14') & (df['country'].str.contains('Canada',case=False))]['country'].value_counts()"
   ]
  },
  {
   "cell_type": "markdown",
   "id": "63a26cc7",
   "metadata": {},
   "source": [
    "### Q13. How many movies get ‘R’ rating in year ‘2019’ ?"
   ]
  },
  {
   "cell_type": "code",
   "execution_count": 192,
   "id": "37c8f05e",
   "metadata": {},
   "outputs": [
    {
     "data": {
      "text/plain": [
       "39"
      ]
     },
     "execution_count": 192,
     "metadata": {},
     "output_type": "execute_result"
    }
   ],
   "source": [
    "len(df[(df['rating']=='R') & (df['release_year']==2019)])"
   ]
  },
  {
   "cell_type": "code",
   "execution_count": 222,
   "id": "a4c90c31",
   "metadata": {},
   "outputs": [],
   "source": [
    "df2=df.dropna()"
   ]
  },
  {
   "cell_type": "code",
   "execution_count": 223,
   "id": "ee76a834",
   "metadata": {},
   "outputs": [
    {
     "name": "stdout",
     "output_type": "stream",
     "text": [
      "<class 'pandas.core.frame.DataFrame'>\n",
      "Int64Index: 5332 entries, 7 to 8806\n",
      "Data columns (total 13 columns):\n",
      " #   Column         Non-Null Count  Dtype \n",
      "---  ------         --------------  ----- \n",
      " 0   show_id        5332 non-null   object\n",
      " 1   type           5332 non-null   object\n",
      " 2   title          5332 non-null   object\n",
      " 3   director       5332 non-null   object\n",
      " 4   cast           5332 non-null   object\n",
      " 5   country        5332 non-null   object\n",
      " 6   date_added     5332 non-null   object\n",
      " 7   release_year   5332 non-null   int64 \n",
      " 8   rating         5332 non-null   object\n",
      " 9   duration       5332 non-null   object\n",
      " 10  listed_in      5332 non-null   object\n",
      " 11  description    5332 non-null   object\n",
      " 12  type_duration  5332 non-null   object\n",
      "dtypes: int64(1), object(12)\n",
      "memory usage: 583.2+ KB\n"
     ]
    }
   ],
   "source": [
    "df2.info()"
   ]
  },
  {
   "cell_type": "markdown",
   "id": "06e3ef7f",
   "metadata": {},
   "source": [
    "### Q14. What is the max duration of Movie/Show in this dataset ?\n"
   ]
  },
  {
   "cell_type": "code",
   "execution_count": 55,
   "id": "1571e2c3",
   "metadata": {},
   "outputs": [],
   "source": [
    "# df2[['duration','type_duration']]=df2['duration'].str.split(' ',expand=True)"
   ]
  },
  {
   "cell_type": "code",
   "execution_count": 228,
   "id": "55f5df24",
   "metadata": {},
   "outputs": [
    {
     "data": {
      "text/html": [
       "<div>\n",
       "<style scoped>\n",
       "    .dataframe tbody tr th:only-of-type {\n",
       "        vertical-align: middle;\n",
       "    }\n",
       "\n",
       "    .dataframe tbody tr th {\n",
       "        vertical-align: top;\n",
       "    }\n",
       "\n",
       "    .dataframe thead th {\n",
       "        text-align: right;\n",
       "    }\n",
       "</style>\n",
       "<table border=\"1\" class=\"dataframe\">\n",
       "  <thead>\n",
       "    <tr style=\"text-align: right;\">\n",
       "      <th></th>\n",
       "      <th>duration</th>\n",
       "      <th>type_duration</th>\n",
       "    </tr>\n",
       "  </thead>\n",
       "  <tbody>\n",
       "    <tr>\n",
       "      <th>7</th>\n",
       "      <td>125</td>\n",
       "      <td>min</td>\n",
       "    </tr>\n",
       "    <tr>\n",
       "      <th>8</th>\n",
       "      <td>9</td>\n",
       "      <td>Seasons</td>\n",
       "    </tr>\n",
       "    <tr>\n",
       "      <th>9</th>\n",
       "      <td>104</td>\n",
       "      <td>min</td>\n",
       "    </tr>\n",
       "    <tr>\n",
       "      <th>12</th>\n",
       "      <td>127</td>\n",
       "      <td>min</td>\n",
       "    </tr>\n",
       "    <tr>\n",
       "      <th>24</th>\n",
       "      <td>166</td>\n",
       "      <td>min</td>\n",
       "    </tr>\n",
       "    <tr>\n",
       "      <th>...</th>\n",
       "      <td>...</td>\n",
       "      <td>...</td>\n",
       "    </tr>\n",
       "    <tr>\n",
       "      <th>8801</th>\n",
       "      <td>96</td>\n",
       "      <td>min</td>\n",
       "    </tr>\n",
       "    <tr>\n",
       "      <th>8802</th>\n",
       "      <td>158</td>\n",
       "      <td>min</td>\n",
       "    </tr>\n",
       "    <tr>\n",
       "      <th>8804</th>\n",
       "      <td>88</td>\n",
       "      <td>min</td>\n",
       "    </tr>\n",
       "    <tr>\n",
       "      <th>8805</th>\n",
       "      <td>88</td>\n",
       "      <td>min</td>\n",
       "    </tr>\n",
       "    <tr>\n",
       "      <th>8806</th>\n",
       "      <td>111</td>\n",
       "      <td>min</td>\n",
       "    </tr>\n",
       "  </tbody>\n",
       "</table>\n",
       "<p>5332 rows × 2 columns</p>\n",
       "</div>"
      ],
      "text/plain": [
       "     duration type_duration\n",
       "7         125           min\n",
       "8           9       Seasons\n",
       "9         104           min\n",
       "12        127           min\n",
       "24        166           min\n",
       "...       ...           ...\n",
       "8801       96           min\n",
       "8802      158           min\n",
       "8804       88           min\n",
       "8805       88           min\n",
       "8806      111           min\n",
       "\n",
       "[5332 rows x 2 columns]"
      ]
     },
     "execution_count": 228,
     "metadata": {},
     "output_type": "execute_result"
    }
   ],
   "source": [
    "df2[['duration','type_duration']]"
   ]
  },
  {
   "cell_type": "code",
   "execution_count": 240,
   "id": "b9f4f5c0",
   "metadata": {},
   "outputs": [
    {
     "name": "stderr",
     "output_type": "stream",
     "text": [
      "C:\\Users\\MYPC~1\\AppData\\Local\\Temp/ipykernel_11452/2619974361.py:1: SettingWithCopyWarning: \n",
      "A value is trying to be set on a copy of a slice from a DataFrame.\n",
      "Try using .loc[row_indexer,col_indexer] = value instead\n",
      "\n",
      "See the caveats in the documentation: https://pandas.pydata.org/pandas-docs/stable/user_guide/indexing.html#returning-a-view-versus-a-copy\n",
      "  df2['duration']=df2['duration'].astype('int64')\n"
     ]
    }
   ],
   "source": [
    "df2['duration']=df2['duration'].astype('int64')"
   ]
  },
  {
   "cell_type": "code",
   "execution_count": 241,
   "id": "7acbd04e",
   "metadata": {},
   "outputs": [
    {
     "data": {
      "text/plain": [
       "2491    253\n",
       "2487    237\n",
       "166     229\n",
       "7932    228\n",
       "1019    224\n",
       "       ... \n",
       "4104      1\n",
       "7918      1\n",
       "4284      1\n",
       "6838      1\n",
       "4991      1\n",
       "Name: duration, Length: 5332, dtype: int64"
      ]
     },
     "execution_count": 241,
     "metadata": {},
     "output_type": "execute_result"
    }
   ],
   "source": [
    "df2['duration'].sort_values(ascending=False)"
   ]
  },
  {
   "cell_type": "code",
   "execution_count": 242,
   "id": "3587625e",
   "metadata": {},
   "outputs": [
    {
     "data": {
      "text/plain": [
       "253"
      ]
     },
     "execution_count": 242,
     "metadata": {},
     "output_type": "execute_result"
    }
   ],
   "source": [
    "df2['duration'].max()"
   ]
  },
  {
   "cell_type": "code",
   "execution_count": 251,
   "id": "91202789",
   "metadata": {},
   "outputs": [
    {
     "data": {
      "text/html": [
       "<div>\n",
       "<style scoped>\n",
       "    .dataframe tbody tr th:only-of-type {\n",
       "        vertical-align: middle;\n",
       "    }\n",
       "\n",
       "    .dataframe tbody tr th {\n",
       "        vertical-align: top;\n",
       "    }\n",
       "\n",
       "    .dataframe thead th {\n",
       "        text-align: right;\n",
       "    }\n",
       "</style>\n",
       "<table border=\"1\" class=\"dataframe\">\n",
       "  <thead>\n",
       "    <tr style=\"text-align: right;\">\n",
       "      <th></th>\n",
       "      <th>show_id</th>\n",
       "      <th>type</th>\n",
       "      <th>title</th>\n",
       "      <th>director</th>\n",
       "      <th>cast</th>\n",
       "      <th>country</th>\n",
       "      <th>date_added</th>\n",
       "      <th>release_year</th>\n",
       "      <th>rating</th>\n",
       "      <th>duration</th>\n",
       "      <th>listed_in</th>\n",
       "      <th>description</th>\n",
       "      <th>type_duration</th>\n",
       "    </tr>\n",
       "  </thead>\n",
       "  <tbody>\n",
       "    <tr>\n",
       "      <th>991</th>\n",
       "      <td>s992</td>\n",
       "      <td>Movie</td>\n",
       "      <td>One Like It</td>\n",
       "      <td>Marwan Nabil</td>\n",
       "      <td>Riham Abdel Ghafour, Mohammed Aly Rizk, Hazem ...</td>\n",
       "      <td>Egypt</td>\n",
       "      <td>April 23, 2021</td>\n",
       "      <td>2020</td>\n",
       "      <td>TV-G</td>\n",
       "      <td>15</td>\n",
       "      <td>Dramas, Independent Movies, International Movies</td>\n",
       "      <td>This short film follows a day in the life of a...</td>\n",
       "      <td>min</td>\n",
       "    </tr>\n",
       "    <tr>\n",
       "      <th>2423</th>\n",
       "      <td>s2424</td>\n",
       "      <td>TV Show</td>\n",
       "      <td>Supernatural</td>\n",
       "      <td>Phil Sgriccia</td>\n",
       "      <td>Jared Padalecki, Jensen Ackles, Mark Sheppard,...</td>\n",
       "      <td>United States, Canada</td>\n",
       "      <td>June 5, 2020</td>\n",
       "      <td>2019</td>\n",
       "      <td>TV-14</td>\n",
       "      <td>15</td>\n",
       "      <td>Classic &amp; Cult TV, TV Action &amp; Adventure, TV H...</td>\n",
       "      <td>Siblings Dean and Sam crisscross the country, ...</td>\n",
       "      <td>Seasons</td>\n",
       "    </tr>\n",
       "    <tr>\n",
       "      <th>3709</th>\n",
       "      <td>s3710</td>\n",
       "      <td>Movie</td>\n",
       "      <td>ANIMA</td>\n",
       "      <td>Paul Thomas Anderson</td>\n",
       "      <td>Thom Yorke</td>\n",
       "      <td>United Kingdom</td>\n",
       "      <td>June 27, 2019</td>\n",
       "      <td>2019</td>\n",
       "      <td>TV-PG</td>\n",
       "      <td>15</td>\n",
       "      <td>Dramas, Independent Movies, Music &amp; Musicals</td>\n",
       "      <td>In a short musical film directed by Paul Thoma...</td>\n",
       "      <td>min</td>\n",
       "    </tr>\n",
       "  </tbody>\n",
       "</table>\n",
       "</div>"
      ],
      "text/plain": [
       "     show_id     type         title              director  \\\n",
       "991     s992    Movie   One Like It          Marwan Nabil   \n",
       "2423   s2424  TV Show  Supernatural         Phil Sgriccia   \n",
       "3709   s3710    Movie         ANIMA  Paul Thomas Anderson   \n",
       "\n",
       "                                                   cast  \\\n",
       "991   Riham Abdel Ghafour, Mohammed Aly Rizk, Hazem ...   \n",
       "2423  Jared Padalecki, Jensen Ackles, Mark Sheppard,...   \n",
       "3709                                         Thom Yorke   \n",
       "\n",
       "                    country      date_added  release_year rating  duration  \\\n",
       "991                   Egypt  April 23, 2021          2020   TV-G        15   \n",
       "2423  United States, Canada    June 5, 2020          2019  TV-14        15   \n",
       "3709         United Kingdom   June 27, 2019          2019  TV-PG        15   \n",
       "\n",
       "                                              listed_in  \\\n",
       "991    Dramas, Independent Movies, International Movies   \n",
       "2423  Classic & Cult TV, TV Action & Adventure, TV H...   \n",
       "3709       Dramas, Independent Movies, Music & Musicals   \n",
       "\n",
       "                                            description type_duration  \n",
       "991   This short film follows a day in the life of a...           min  \n",
       "2423  Siblings Dean and Sam crisscross the country, ...       Seasons  \n",
       "3709  In a short musical film directed by Paul Thoma...           min  "
      ]
     },
     "execution_count": 251,
     "metadata": {},
     "output_type": "execute_result"
    }
   ],
   "source": [
    "df2[df2['duration']==(df2[df2['type_duration']=='Seasons']['duration'].max())]"
   ]
  },
  {
   "cell_type": "markdown",
   "id": "06322404",
   "metadata": {},
   "source": [
    "### Q15. Which Individual Country has maximum number of TV Shows ?"
   ]
  },
  {
   "cell_type": "code",
   "execution_count": 255,
   "id": "0a94c724",
   "metadata": {},
   "outputs": [
    {
     "data": {
      "text/plain": [
       "'United States'"
      ]
     },
     "execution_count": 255,
     "metadata": {},
     "output_type": "execute_result"
    }
   ],
   "source": [
    "df['country'].value_counts().index[0]"
   ]
  },
  {
   "cell_type": "markdown",
   "id": "b437923f",
   "metadata": {},
   "source": [
    "### Q16. Find out the instances where category is ‘movie’ and type is ‘drama’ ?"
   ]
  },
  {
   "cell_type": "code",
   "execution_count": 258,
   "id": "953717ac",
   "metadata": {},
   "outputs": [
    {
     "data": {
      "text/plain": [
       "2427"
      ]
     },
     "execution_count": 258,
     "metadata": {},
     "output_type": "execute_result"
    }
   ],
   "source": [
    "len(df[(df['type']=='Movie') & (df['listed_in'].str.contains('Drama', case=False))])"
   ]
  },
  {
   "cell_type": "markdown",
   "id": "27164810",
   "metadata": {},
   "source": [
    "### Q17. Find out the instances where category is ‘TV Show’ and type is ‘Kids TV’ ?"
   ]
  },
  {
   "cell_type": "code",
   "execution_count": 262,
   "id": "a1681e1c",
   "metadata": {},
   "outputs": [
    {
     "data": {
      "text/html": [
       "<div>\n",
       "<style scoped>\n",
       "    .dataframe tbody tr th:only-of-type {\n",
       "        vertical-align: middle;\n",
       "    }\n",
       "\n",
       "    .dataframe tbody tr th {\n",
       "        vertical-align: top;\n",
       "    }\n",
       "\n",
       "    .dataframe thead th {\n",
       "        text-align: right;\n",
       "    }\n",
       "</style>\n",
       "<table border=\"1\" class=\"dataframe\">\n",
       "  <thead>\n",
       "    <tr style=\"text-align: right;\">\n",
       "      <th></th>\n",
       "      <th>show_id</th>\n",
       "      <th>type</th>\n",
       "      <th>title</th>\n",
       "      <th>director</th>\n",
       "      <th>cast</th>\n",
       "      <th>country</th>\n",
       "      <th>date_added</th>\n",
       "      <th>release_year</th>\n",
       "      <th>rating</th>\n",
       "      <th>duration</th>\n",
       "      <th>listed_in</th>\n",
       "      <th>description</th>\n",
       "      <th>type_duration</th>\n",
       "    </tr>\n",
       "  </thead>\n",
       "  <tbody>\n",
       "    <tr>\n",
       "      <th>34</th>\n",
       "      <td>s35</td>\n",
       "      <td>TV Show</td>\n",
       "      <td>Tayo and Little Wizards</td>\n",
       "      <td>NaN</td>\n",
       "      <td>Dami Lee, Jason Lee, Bommie Catherine Han, Jen...</td>\n",
       "      <td>NaN</td>\n",
       "      <td>September 17, 2021</td>\n",
       "      <td>2020</td>\n",
       "      <td>TV-Y7</td>\n",
       "      <td>1</td>\n",
       "      <td>Kids' TV</td>\n",
       "      <td>Tayo speeds into an adventure when his friends...</td>\n",
       "      <td>Season</td>\n",
       "    </tr>\n",
       "    <tr>\n",
       "      <th>37</th>\n",
       "      <td>s38</td>\n",
       "      <td>TV Show</td>\n",
       "      <td>Angry Birds</td>\n",
       "      <td>NaN</td>\n",
       "      <td>Antti Pääkkönen, Heljä Heikkinen, Lynne Guagli...</td>\n",
       "      <td>Finland</td>\n",
       "      <td>September 16, 2021</td>\n",
       "      <td>2018</td>\n",
       "      <td>TV-Y7</td>\n",
       "      <td>1</td>\n",
       "      <td>Kids' TV, TV Comedies</td>\n",
       "      <td>Birds Red, Chuck and their feathered friends h...</td>\n",
       "      <td>Season</td>\n",
       "    </tr>\n",
       "    <tr>\n",
       "      <th>39</th>\n",
       "      <td>s40</td>\n",
       "      <td>TV Show</td>\n",
       "      <td>Chhota Bheem</td>\n",
       "      <td>NaN</td>\n",
       "      <td>Vatsal Dubey, Julie Tejwani, Rupa Bhimani, Jig...</td>\n",
       "      <td>India</td>\n",
       "      <td>September 16, 2021</td>\n",
       "      <td>2021</td>\n",
       "      <td>TV-Y7</td>\n",
       "      <td>3</td>\n",
       "      <td>Kids' TV</td>\n",
       "      <td>A brave, energetic little boy with superhuman ...</td>\n",
       "      <td>Seasons</td>\n",
       "    </tr>\n",
       "    <tr>\n",
       "      <th>40</th>\n",
       "      <td>s41</td>\n",
       "      <td>TV Show</td>\n",
       "      <td>He-Man and the Masters of the Universe</td>\n",
       "      <td>NaN</td>\n",
       "      <td>Yuri Lowenthal, Kimberly Brooks, Antony Del Ri...</td>\n",
       "      <td>United States</td>\n",
       "      <td>September 16, 2021</td>\n",
       "      <td>2021</td>\n",
       "      <td>TV-Y7</td>\n",
       "      <td>1</td>\n",
       "      <td>Kids' TV, TV Sci-Fi &amp; Fantasy</td>\n",
       "      <td>Mighty teen Adam and his heroic squad of misfi...</td>\n",
       "      <td>Season</td>\n",
       "    </tr>\n",
       "    <tr>\n",
       "      <th>65</th>\n",
       "      <td>s66</td>\n",
       "      <td>TV Show</td>\n",
       "      <td>Numberblocks</td>\n",
       "      <td>NaN</td>\n",
       "      <td>Beth Chalmers, David Holt, Marcel McCalla, Ter...</td>\n",
       "      <td>United Kingdom</td>\n",
       "      <td>September 15, 2021</td>\n",
       "      <td>2021</td>\n",
       "      <td>TV-Y</td>\n",
       "      <td>6</td>\n",
       "      <td>Kids' TV</td>\n",
       "      <td>In a place called Numberland, math adds up to ...</td>\n",
       "      <td>Seasons</td>\n",
       "    </tr>\n",
       "    <tr>\n",
       "      <th>...</th>\n",
       "      <td>...</td>\n",
       "      <td>...</td>\n",
       "      <td>...</td>\n",
       "      <td>...</td>\n",
       "      <td>...</td>\n",
       "      <td>...</td>\n",
       "      <td>...</td>\n",
       "      <td>...</td>\n",
       "      <td>...</td>\n",
       "      <td>...</td>\n",
       "      <td>...</td>\n",
       "      <td>...</td>\n",
       "      <td>...</td>\n",
       "    </tr>\n",
       "    <tr>\n",
       "      <th>8783</th>\n",
       "      <td>s8784</td>\n",
       "      <td>TV Show</td>\n",
       "      <td>Yoko</td>\n",
       "      <td>NaN</td>\n",
       "      <td>Eileen Stevens, Alyson Leigh Rosenfeld, Sarah ...</td>\n",
       "      <td>NaN</td>\n",
       "      <td>June 23, 2018</td>\n",
       "      <td>2016</td>\n",
       "      <td>TV-Y</td>\n",
       "      <td>1</td>\n",
       "      <td>Kids' TV</td>\n",
       "      <td>Friends Mai, Oto and Vik's games at the park b...</td>\n",
       "      <td>Season</td>\n",
       "    </tr>\n",
       "    <tr>\n",
       "      <th>8785</th>\n",
       "      <td>s8786</td>\n",
       "      <td>TV Show</td>\n",
       "      <td>YOM</td>\n",
       "      <td>NaN</td>\n",
       "      <td>Sairaj, Devyani Dagaonkar, Ketan Singh, Mayur ...</td>\n",
       "      <td>NaN</td>\n",
       "      <td>June 7, 2018</td>\n",
       "      <td>2016</td>\n",
       "      <td>TV-Y7</td>\n",
       "      <td>1</td>\n",
       "      <td>Kids' TV</td>\n",
       "      <td>With the mind of a human being, and the body o...</td>\n",
       "      <td>Season</td>\n",
       "    </tr>\n",
       "    <tr>\n",
       "      <th>8795</th>\n",
       "      <td>s8796</td>\n",
       "      <td>TV Show</td>\n",
       "      <td>Yu-Gi-Oh! Arc-V</td>\n",
       "      <td>NaN</td>\n",
       "      <td>Mike Liscio, Emily Bauer, Billy Bob Thompson, ...</td>\n",
       "      <td>Japan, Canada</td>\n",
       "      <td>May 1, 2018</td>\n",
       "      <td>2015</td>\n",
       "      <td>TV-Y7</td>\n",
       "      <td>2</td>\n",
       "      <td>Anime Series, Kids' TV</td>\n",
       "      <td>Now that he's discovered the Pendulum Summonin...</td>\n",
       "      <td>Seasons</td>\n",
       "    </tr>\n",
       "    <tr>\n",
       "      <th>8797</th>\n",
       "      <td>s8798</td>\n",
       "      <td>TV Show</td>\n",
       "      <td>Zak Storm</td>\n",
       "      <td>NaN</td>\n",
       "      <td>Michael Johnston, Jessica Gee-George, Christin...</td>\n",
       "      <td>United States, France, South Korea, Indonesia</td>\n",
       "      <td>September 13, 2018</td>\n",
       "      <td>2016</td>\n",
       "      <td>TV-Y7</td>\n",
       "      <td>3</td>\n",
       "      <td>Kids' TV</td>\n",
       "      <td>Teen surfer Zak Storm is mysteriously transpor...</td>\n",
       "      <td>Seasons</td>\n",
       "    </tr>\n",
       "    <tr>\n",
       "      <th>8803</th>\n",
       "      <td>s8804</td>\n",
       "      <td>TV Show</td>\n",
       "      <td>Zombie Dumb</td>\n",
       "      <td>NaN</td>\n",
       "      <td>NaN</td>\n",
       "      <td>NaN</td>\n",
       "      <td>July 1, 2019</td>\n",
       "      <td>2018</td>\n",
       "      <td>TV-Y7</td>\n",
       "      <td>2</td>\n",
       "      <td>Kids' TV, Korean TV Shows, TV Comedies</td>\n",
       "      <td>While living alone in a spooky town, a young g...</td>\n",
       "      <td>Seasons</td>\n",
       "    </tr>\n",
       "  </tbody>\n",
       "</table>\n",
       "<p>451 rows × 13 columns</p>\n",
       "</div>"
      ],
      "text/plain": [
       "     show_id     type                                   title director  \\\n",
       "34       s35  TV Show                 Tayo and Little Wizards      NaN   \n",
       "37       s38  TV Show                             Angry Birds      NaN   \n",
       "39       s40  TV Show                            Chhota Bheem      NaN   \n",
       "40       s41  TV Show  He-Man and the Masters of the Universe      NaN   \n",
       "65       s66  TV Show                            Numberblocks      NaN   \n",
       "...      ...      ...                                     ...      ...   \n",
       "8783   s8784  TV Show                                    Yoko      NaN   \n",
       "8785   s8786  TV Show                                     YOM      NaN   \n",
       "8795   s8796  TV Show                         Yu-Gi-Oh! Arc-V      NaN   \n",
       "8797   s8798  TV Show                               Zak Storm      NaN   \n",
       "8803   s8804  TV Show                             Zombie Dumb      NaN   \n",
       "\n",
       "                                                   cast  \\\n",
       "34    Dami Lee, Jason Lee, Bommie Catherine Han, Jen...   \n",
       "37    Antti Pääkkönen, Heljä Heikkinen, Lynne Guagli...   \n",
       "39    Vatsal Dubey, Julie Tejwani, Rupa Bhimani, Jig...   \n",
       "40    Yuri Lowenthal, Kimberly Brooks, Antony Del Ri...   \n",
       "65    Beth Chalmers, David Holt, Marcel McCalla, Ter...   \n",
       "...                                                 ...   \n",
       "8783  Eileen Stevens, Alyson Leigh Rosenfeld, Sarah ...   \n",
       "8785  Sairaj, Devyani Dagaonkar, Ketan Singh, Mayur ...   \n",
       "8795  Mike Liscio, Emily Bauer, Billy Bob Thompson, ...   \n",
       "8797  Michael Johnston, Jessica Gee-George, Christin...   \n",
       "8803                                                NaN   \n",
       "\n",
       "                                            country          date_added  \\\n",
       "34                                              NaN  September 17, 2021   \n",
       "37                                          Finland  September 16, 2021   \n",
       "39                                            India  September 16, 2021   \n",
       "40                                    United States  September 16, 2021   \n",
       "65                                   United Kingdom  September 15, 2021   \n",
       "...                                             ...                 ...   \n",
       "8783                                            NaN       June 23, 2018   \n",
       "8785                                            NaN        June 7, 2018   \n",
       "8795                                  Japan, Canada         May 1, 2018   \n",
       "8797  United States, France, South Korea, Indonesia  September 13, 2018   \n",
       "8803                                            NaN        July 1, 2019   \n",
       "\n",
       "      release_year rating duration                               listed_in  \\\n",
       "34            2020  TV-Y7        1                                Kids' TV   \n",
       "37            2018  TV-Y7        1                   Kids' TV, TV Comedies   \n",
       "39            2021  TV-Y7        3                                Kids' TV   \n",
       "40            2021  TV-Y7        1           Kids' TV, TV Sci-Fi & Fantasy   \n",
       "65            2021   TV-Y        6                                Kids' TV   \n",
       "...            ...    ...      ...                                     ...   \n",
       "8783          2016   TV-Y        1                                Kids' TV   \n",
       "8785          2016  TV-Y7        1                                Kids' TV   \n",
       "8795          2015  TV-Y7        2                  Anime Series, Kids' TV   \n",
       "8797          2016  TV-Y7        3                                Kids' TV   \n",
       "8803          2018  TV-Y7        2  Kids' TV, Korean TV Shows, TV Comedies   \n",
       "\n",
       "                                            description type_duration  \n",
       "34    Tayo speeds into an adventure when his friends...        Season  \n",
       "37    Birds Red, Chuck and their feathered friends h...        Season  \n",
       "39    A brave, energetic little boy with superhuman ...       Seasons  \n",
       "40    Mighty teen Adam and his heroic squad of misfi...        Season  \n",
       "65    In a place called Numberland, math adds up to ...       Seasons  \n",
       "...                                                 ...           ...  \n",
       "8783  Friends Mai, Oto and Vik's games at the park b...        Season  \n",
       "8785  With the mind of a human being, and the body o...        Season  \n",
       "8795  Now that he's discovered the Pendulum Summonin...       Seasons  \n",
       "8797  Teen surfer Zak Storm is mysteriously transpor...       Seasons  \n",
       "8803  While living alone in a spooky town, a young g...       Seasons  \n",
       "\n",
       "[451 rows x 13 columns]"
      ]
     },
     "execution_count": 262,
     "metadata": {},
     "output_type": "execute_result"
    }
   ],
   "source": [
    "df[(df['type']=='TV Show') & (df['listed_in'].str.contains(\"Kids\", case=False))]"
   ]
  },
  {
   "cell_type": "code",
   "execution_count": 263,
   "id": "63066fa0",
   "metadata": {},
   "outputs": [
    {
     "name": "stdout",
     "output_type": "stream",
     "text": [
      "<class 'pandas.core.frame.DataFrame'>\n",
      "RangeIndex: 8807 entries, 0 to 8806\n",
      "Data columns (total 13 columns):\n",
      " #   Column         Non-Null Count  Dtype \n",
      "---  ------         --------------  ----- \n",
      " 0   show_id        8807 non-null   object\n",
      " 1   type           8807 non-null   object\n",
      " 2   title          8807 non-null   object\n",
      " 3   director       6173 non-null   object\n",
      " 4   cast           7982 non-null   object\n",
      " 5   country        7976 non-null   object\n",
      " 6   date_added     8797 non-null   object\n",
      " 7   release_year   8807 non-null   int64 \n",
      " 8   rating         8803 non-null   object\n",
      " 9   duration       8804 non-null   object\n",
      " 10  listed_in      8807 non-null   object\n",
      " 11  description    8807 non-null   object\n",
      " 12  type_duration  8804 non-null   object\n",
      "dtypes: int64(1), object(12)\n",
      "memory usage: 894.6+ KB\n"
     ]
    }
   ],
   "source": [
    "df.info()"
   ]
  },
  {
   "cell_type": "code",
   "execution_count": 269,
   "id": "85727d71",
   "metadata": {},
   "outputs": [],
   "source": [
    "df['date_added'].dropna(axis=0,inplace=True)"
   ]
  },
  {
   "cell_type": "code",
   "execution_count": 270,
   "id": "9c2b7de7",
   "metadata": {},
   "outputs": [
    {
     "name": "stdout",
     "output_type": "stream",
     "text": [
      "<class 'pandas.core.frame.DataFrame'>\n",
      "RangeIndex: 8807 entries, 0 to 8806\n",
      "Data columns (total 13 columns):\n",
      " #   Column         Non-Null Count  Dtype \n",
      "---  ------         --------------  ----- \n",
      " 0   show_id        8807 non-null   object\n",
      " 1   type           8807 non-null   object\n",
      " 2   title          8807 non-null   object\n",
      " 3   director       6173 non-null   object\n",
      " 4   cast           7982 non-null   object\n",
      " 5   country        7976 non-null   object\n",
      " 6   date_added     8797 non-null   object\n",
      " 7   release_year   8807 non-null   int64 \n",
      " 8   rating         8803 non-null   object\n",
      " 9   duration       8804 non-null   object\n",
      " 10  listed_in      8807 non-null   object\n",
      " 11  description    8807 non-null   object\n",
      " 12  type_duration  8804 non-null   object\n",
      "dtypes: int64(1), object(12)\n",
      "memory usage: 894.6+ KB\n"
     ]
    }
   ],
   "source": [
    "df.info()"
   ]
  },
  {
   "cell_type": "code",
   "execution_count": 320,
   "id": "e45e1010",
   "metadata": {},
   "outputs": [],
   "source": [
    "df = pd.read_csv(\"netflix_titles.csv\")"
   ]
  },
  {
   "cell_type": "code",
   "execution_count": 321,
   "id": "73c7b439",
   "metadata": {},
   "outputs": [
    {
     "data": {
      "text/plain": [
       "show_id            0\n",
       "type               0\n",
       "title              0\n",
       "director        2634\n",
       "cast             825\n",
       "country          831\n",
       "date_added        10\n",
       "release_year       0\n",
       "rating             4\n",
       "duration           3\n",
       "listed_in          0\n",
       "description        0\n",
       "dtype: int64"
      ]
     },
     "execution_count": 321,
     "metadata": {},
     "output_type": "execute_result"
    }
   ],
   "source": [
    "df.isnull().sum()"
   ]
  },
  {
   "cell_type": "code",
   "execution_count": 322,
   "id": "c1083406",
   "metadata": {},
   "outputs": [],
   "source": [
    "df = df.dropna(subset=['date_added'])"
   ]
  },
  {
   "cell_type": "code",
   "execution_count": 335,
   "id": "821fb7d7",
   "metadata": {},
   "outputs": [],
   "source": [
    "df['date_added'] = pd.to_datetime(df['date_added'])"
   ]
  },
  {
   "cell_type": "code",
   "execution_count": 336,
   "id": "9e01d036",
   "metadata": {},
   "outputs": [
    {
     "data": {
      "text/plain": [
       "0   2021-09-25\n",
       "1   2021-09-24\n",
       "2   2021-09-24\n",
       "3   2021-09-24\n",
       "4   2021-09-24\n",
       "Name: date_added, dtype: datetime64[ns]"
      ]
     },
     "execution_count": 336,
     "metadata": {},
     "output_type": "execute_result"
    }
   ],
   "source": [
    "df['date_added'].head()"
   ]
  },
  {
   "cell_type": "code",
   "execution_count": 324,
   "id": "b8e82aa2",
   "metadata": {},
   "outputs": [],
   "source": [
    "df['year_added']= df['date_added'].dt.year"
   ]
  },
  {
   "cell_type": "code",
   "execution_count": 325,
   "id": "f25497c2",
   "metadata": {},
   "outputs": [
    {
     "name": "stdout",
     "output_type": "stream",
     "text": [
      "<class 'pandas.core.frame.DataFrame'>\n",
      "Int64Index: 8797 entries, 0 to 8806\n",
      "Data columns (total 13 columns):\n",
      " #   Column        Non-Null Count  Dtype         \n",
      "---  ------        --------------  -----         \n",
      " 0   show_id       8797 non-null   object        \n",
      " 1   type          8797 non-null   object        \n",
      " 2   title         8797 non-null   object        \n",
      " 3   director      6173 non-null   object        \n",
      " 4   cast          7972 non-null   object        \n",
      " 5   country       7967 non-null   object        \n",
      " 6   date_added    8797 non-null   datetime64[ns]\n",
      " 7   release_year  8797 non-null   int64         \n",
      " 8   rating        8793 non-null   object        \n",
      " 9   duration      8794 non-null   object        \n",
      " 10  listed_in     8797 non-null   object        \n",
      " 11  description   8797 non-null   object        \n",
      " 12  year_added    8797 non-null   int64         \n",
      "dtypes: datetime64[ns](1), int64(2), object(10)\n",
      "memory usage: 962.2+ KB\n"
     ]
    }
   ],
   "source": [
    "df.info()"
   ]
  },
  {
   "cell_type": "code",
   "execution_count": 326,
   "id": "5ffafe15",
   "metadata": {},
   "outputs": [
    {
     "data": {
      "text/plain": [
       "2019    2016\n",
       "2020    1879\n",
       "2018    1649\n",
       "2021    1498\n",
       "2017    1188\n",
       "2016     429\n",
       "2015      82\n",
       "2014      24\n",
       "2011      13\n",
       "2013      11\n",
       "2012       3\n",
       "2009       2\n",
       "2008       2\n",
       "2010       1\n",
       "Name: year_added, dtype: int64"
      ]
     },
     "execution_count": 326,
     "metadata": {},
     "output_type": "execute_result"
    }
   ],
   "source": [
    "df['year_added'].value_counts()"
   ]
  },
  {
   "cell_type": "code",
   "execution_count": 327,
   "id": "4bcb90ec",
   "metadata": {},
   "outputs": [],
   "source": [
    "df2=df"
   ]
  },
  {
   "cell_type": "code",
   "execution_count": 337,
   "id": "ad4ed98e",
   "metadata": {},
   "outputs": [],
   "source": [
    "df2[\"date_added\"] = df2[\"date_added\"].dt.strftime('%d/%m/%Y')"
   ]
  },
  {
   "cell_type": "code",
   "execution_count": 338,
   "id": "b41d2505",
   "metadata": {},
   "outputs": [
    {
     "data": {
      "text/plain": [
       "0    25/09/2021\n",
       "1    24/09/2021\n",
       "2    24/09/2021\n",
       "3    24/09/2021\n",
       "4    24/09/2021\n",
       "Name: date_added, dtype: object"
      ]
     },
     "execution_count": 338,
     "metadata": {},
     "output_type": "execute_result"
    }
   ],
   "source": [
    "df2[\"date_added\"].head()"
   ]
  },
  {
   "cell_type": "code",
   "execution_count": 340,
   "id": "05598a05",
   "metadata": {},
   "outputs": [
    {
     "data": {
      "text/html": [
       "<div>\n",
       "<style scoped>\n",
       "    .dataframe tbody tr th:only-of-type {\n",
       "        vertical-align: middle;\n",
       "    }\n",
       "\n",
       "    .dataframe tbody tr th {\n",
       "        vertical-align: top;\n",
       "    }\n",
       "\n",
       "    .dataframe thead th {\n",
       "        text-align: right;\n",
       "    }\n",
       "</style>\n",
       "<table border=\"1\" class=\"dataframe\">\n",
       "  <thead>\n",
       "    <tr style=\"text-align: right;\">\n",
       "      <th></th>\n",
       "      <th>show_id</th>\n",
       "      <th>type</th>\n",
       "      <th>title</th>\n",
       "      <th>director</th>\n",
       "      <th>cast</th>\n",
       "      <th>country</th>\n",
       "      <th>date_added</th>\n",
       "      <th>release_year</th>\n",
       "      <th>rating</th>\n",
       "      <th>duration</th>\n",
       "      <th>listed_in</th>\n",
       "      <th>description</th>\n",
       "      <th>year_added</th>\n",
       "    </tr>\n",
       "  </thead>\n",
       "  <tbody>\n",
       "    <tr>\n",
       "      <th>8797</th>\n",
       "      <td>s8798</td>\n",
       "      <td>TV Show</td>\n",
       "      <td>Zak Storm</td>\n",
       "      <td>NaN</td>\n",
       "      <td>Michael Johnston, Jessica Gee-George, Christin...</td>\n",
       "      <td>United States, France, South Korea, Indonesia</td>\n",
       "      <td>13/09/2018</td>\n",
       "      <td>2016</td>\n",
       "      <td>TV-Y7</td>\n",
       "      <td>3 Seasons</td>\n",
       "      <td>Kids' TV</td>\n",
       "      <td>Teen surfer Zak Storm is mysteriously transpor...</td>\n",
       "      <td>2018</td>\n",
       "    </tr>\n",
       "    <tr>\n",
       "      <th>8798</th>\n",
       "      <td>s8799</td>\n",
       "      <td>Movie</td>\n",
       "      <td>Zed Plus</td>\n",
       "      <td>Chandra Prakash Dwivedi</td>\n",
       "      <td>Adil Hussain, Mona Singh, K.K. Raina, Sanjay M...</td>\n",
       "      <td>India</td>\n",
       "      <td>31/12/2019</td>\n",
       "      <td>2014</td>\n",
       "      <td>TV-MA</td>\n",
       "      <td>131 min</td>\n",
       "      <td>Comedies, Dramas, International Movies</td>\n",
       "      <td>A philandering small-town mechanic's political...</td>\n",
       "      <td>2019</td>\n",
       "    </tr>\n",
       "    <tr>\n",
       "      <th>8799</th>\n",
       "      <td>s8800</td>\n",
       "      <td>Movie</td>\n",
       "      <td>Zenda</td>\n",
       "      <td>Avadhoot Gupte</td>\n",
       "      <td>Santosh Juvekar, Siddharth Chandekar, Sachit P...</td>\n",
       "      <td>India</td>\n",
       "      <td>15/02/2018</td>\n",
       "      <td>2009</td>\n",
       "      <td>TV-14</td>\n",
       "      <td>120 min</td>\n",
       "      <td>Dramas, International Movies</td>\n",
       "      <td>A change in the leadership of a political part...</td>\n",
       "      <td>2018</td>\n",
       "    </tr>\n",
       "    <tr>\n",
       "      <th>8800</th>\n",
       "      <td>s8801</td>\n",
       "      <td>TV Show</td>\n",
       "      <td>Zindagi Gulzar Hai</td>\n",
       "      <td>NaN</td>\n",
       "      <td>Sanam Saeed, Fawad Khan, Ayesha Omer, Mehreen ...</td>\n",
       "      <td>Pakistan</td>\n",
       "      <td>15/12/2016</td>\n",
       "      <td>2012</td>\n",
       "      <td>TV-PG</td>\n",
       "      <td>1 Season</td>\n",
       "      <td>International TV Shows, Romantic TV Shows, TV ...</td>\n",
       "      <td>Strong-willed, middle-class Kashaf and carefre...</td>\n",
       "      <td>2016</td>\n",
       "    </tr>\n",
       "    <tr>\n",
       "      <th>8801</th>\n",
       "      <td>s8802</td>\n",
       "      <td>Movie</td>\n",
       "      <td>Zinzana</td>\n",
       "      <td>Majid Al Ansari</td>\n",
       "      <td>Ali Suliman, Saleh Bakri, Yasa, Ali Al-Jabri, ...</td>\n",
       "      <td>United Arab Emirates, Jordan</td>\n",
       "      <td>03/09/2016</td>\n",
       "      <td>2015</td>\n",
       "      <td>TV-MA</td>\n",
       "      <td>96 min</td>\n",
       "      <td>Dramas, International Movies, Thrillers</td>\n",
       "      <td>Recovering alcoholic Talal wakes up inside a s...</td>\n",
       "      <td>2016</td>\n",
       "    </tr>\n",
       "    <tr>\n",
       "      <th>8802</th>\n",
       "      <td>s8803</td>\n",
       "      <td>Movie</td>\n",
       "      <td>Zodiac</td>\n",
       "      <td>David Fincher</td>\n",
       "      <td>Mark Ruffalo, Jake Gyllenhaal, Robert Downey J...</td>\n",
       "      <td>United States</td>\n",
       "      <td>20/11/2019</td>\n",
       "      <td>2007</td>\n",
       "      <td>R</td>\n",
       "      <td>158 min</td>\n",
       "      <td>Cult Movies, Dramas, Thrillers</td>\n",
       "      <td>A political cartoonist, a crime reporter and a...</td>\n",
       "      <td>2019</td>\n",
       "    </tr>\n",
       "    <tr>\n",
       "      <th>8803</th>\n",
       "      <td>s8804</td>\n",
       "      <td>TV Show</td>\n",
       "      <td>Zombie Dumb</td>\n",
       "      <td>NaN</td>\n",
       "      <td>NaN</td>\n",
       "      <td>NaN</td>\n",
       "      <td>07/01/2019</td>\n",
       "      <td>2018</td>\n",
       "      <td>TV-Y7</td>\n",
       "      <td>2 Seasons</td>\n",
       "      <td>Kids' TV, Korean TV Shows, TV Comedies</td>\n",
       "      <td>While living alone in a spooky town, a young g...</td>\n",
       "      <td>2019</td>\n",
       "    </tr>\n",
       "    <tr>\n",
       "      <th>8804</th>\n",
       "      <td>s8805</td>\n",
       "      <td>Movie</td>\n",
       "      <td>Zombieland</td>\n",
       "      <td>Ruben Fleischer</td>\n",
       "      <td>Jesse Eisenberg, Woody Harrelson, Emma Stone, ...</td>\n",
       "      <td>United States</td>\n",
       "      <td>11/01/2019</td>\n",
       "      <td>2009</td>\n",
       "      <td>R</td>\n",
       "      <td>88 min</td>\n",
       "      <td>Comedies, Horror Movies</td>\n",
       "      <td>Looking to survive in a world taken over by zo...</td>\n",
       "      <td>2019</td>\n",
       "    </tr>\n",
       "    <tr>\n",
       "      <th>8805</th>\n",
       "      <td>s8806</td>\n",
       "      <td>Movie</td>\n",
       "      <td>Zoom</td>\n",
       "      <td>Peter Hewitt</td>\n",
       "      <td>Tim Allen, Courteney Cox, Chevy Chase, Kate Ma...</td>\n",
       "      <td>United States</td>\n",
       "      <td>01/11/2020</td>\n",
       "      <td>2006</td>\n",
       "      <td>PG</td>\n",
       "      <td>88 min</td>\n",
       "      <td>Children &amp; Family Movies, Comedies</td>\n",
       "      <td>Dragged from civilian life, a former superhero...</td>\n",
       "      <td>2020</td>\n",
       "    </tr>\n",
       "    <tr>\n",
       "      <th>8806</th>\n",
       "      <td>s8807</td>\n",
       "      <td>Movie</td>\n",
       "      <td>Zubaan</td>\n",
       "      <td>Mozez Singh</td>\n",
       "      <td>Vicky Kaushal, Sarah-Jane Dias, Raaghav Chanan...</td>\n",
       "      <td>India</td>\n",
       "      <td>03/02/2019</td>\n",
       "      <td>2015</td>\n",
       "      <td>TV-14</td>\n",
       "      <td>111 min</td>\n",
       "      <td>Dramas, International Movies, Music &amp; Musicals</td>\n",
       "      <td>A scrappy but poor boy worms his way into a ty...</td>\n",
       "      <td>2019</td>\n",
       "    </tr>\n",
       "  </tbody>\n",
       "</table>\n",
       "</div>"
      ],
      "text/plain": [
       "     show_id     type               title                 director  \\\n",
       "8797   s8798  TV Show           Zak Storm                      NaN   \n",
       "8798   s8799    Movie            Zed Plus  Chandra Prakash Dwivedi   \n",
       "8799   s8800    Movie               Zenda           Avadhoot Gupte   \n",
       "8800   s8801  TV Show  Zindagi Gulzar Hai                      NaN   \n",
       "8801   s8802    Movie             Zinzana          Majid Al Ansari   \n",
       "8802   s8803    Movie              Zodiac            David Fincher   \n",
       "8803   s8804  TV Show         Zombie Dumb                      NaN   \n",
       "8804   s8805    Movie          Zombieland          Ruben Fleischer   \n",
       "8805   s8806    Movie                Zoom             Peter Hewitt   \n",
       "8806   s8807    Movie              Zubaan              Mozez Singh   \n",
       "\n",
       "                                                   cast  \\\n",
       "8797  Michael Johnston, Jessica Gee-George, Christin...   \n",
       "8798  Adil Hussain, Mona Singh, K.K. Raina, Sanjay M...   \n",
       "8799  Santosh Juvekar, Siddharth Chandekar, Sachit P...   \n",
       "8800  Sanam Saeed, Fawad Khan, Ayesha Omer, Mehreen ...   \n",
       "8801  Ali Suliman, Saleh Bakri, Yasa, Ali Al-Jabri, ...   \n",
       "8802  Mark Ruffalo, Jake Gyllenhaal, Robert Downey J...   \n",
       "8803                                                NaN   \n",
       "8804  Jesse Eisenberg, Woody Harrelson, Emma Stone, ...   \n",
       "8805  Tim Allen, Courteney Cox, Chevy Chase, Kate Ma...   \n",
       "8806  Vicky Kaushal, Sarah-Jane Dias, Raaghav Chanan...   \n",
       "\n",
       "                                            country  date_added  release_year  \\\n",
       "8797  United States, France, South Korea, Indonesia  13/09/2018          2016   \n",
       "8798                                          India  31/12/2019          2014   \n",
       "8799                                          India  15/02/2018          2009   \n",
       "8800                                       Pakistan  15/12/2016          2012   \n",
       "8801                   United Arab Emirates, Jordan  03/09/2016          2015   \n",
       "8802                                  United States  20/11/2019          2007   \n",
       "8803                                            NaN  07/01/2019          2018   \n",
       "8804                                  United States  11/01/2019          2009   \n",
       "8805                                  United States  01/11/2020          2006   \n",
       "8806                                          India  03/02/2019          2015   \n",
       "\n",
       "     rating   duration                                          listed_in  \\\n",
       "8797  TV-Y7  3 Seasons                                           Kids' TV   \n",
       "8798  TV-MA    131 min             Comedies, Dramas, International Movies   \n",
       "8799  TV-14    120 min                       Dramas, International Movies   \n",
       "8800  TV-PG   1 Season  International TV Shows, Romantic TV Shows, TV ...   \n",
       "8801  TV-MA     96 min            Dramas, International Movies, Thrillers   \n",
       "8802      R    158 min                     Cult Movies, Dramas, Thrillers   \n",
       "8803  TV-Y7  2 Seasons             Kids' TV, Korean TV Shows, TV Comedies   \n",
       "8804      R     88 min                            Comedies, Horror Movies   \n",
       "8805     PG     88 min                 Children & Family Movies, Comedies   \n",
       "8806  TV-14    111 min     Dramas, International Movies, Music & Musicals   \n",
       "\n",
       "                                            description  year_added  \n",
       "8797  Teen surfer Zak Storm is mysteriously transpor...        2018  \n",
       "8798  A philandering small-town mechanic's political...        2019  \n",
       "8799  A change in the leadership of a political part...        2018  \n",
       "8800  Strong-willed, middle-class Kashaf and carefre...        2016  \n",
       "8801  Recovering alcoholic Talal wakes up inside a s...        2016  \n",
       "8802  A political cartoonist, a crime reporter and a...        2019  \n",
       "8803  While living alone in a spooky town, a young g...        2019  \n",
       "8804  Looking to survive in a world taken over by zo...        2019  \n",
       "8805  Dragged from civilian life, a former superhero...        2020  \n",
       "8806  A scrappy but poor boy worms his way into a ty...        2019  "
      ]
     },
     "execution_count": 340,
     "metadata": {},
     "output_type": "execute_result"
    }
   ],
   "source": [
    "df.tail(10)"
   ]
  },
  {
   "cell_type": "code",
   "execution_count": null,
   "id": "fcaae7a6",
   "metadata": {},
   "outputs": [],
   "source": []
  }
 ],
 "metadata": {
  "kernelspec": {
   "display_name": "Python 3 (ipykernel)",
   "language": "python",
   "name": "python3"
  },
  "language_info": {
   "codemirror_mode": {
    "name": "ipython",
    "version": 3
   },
   "file_extension": ".py",
   "mimetype": "text/x-python",
   "name": "python",
   "nbconvert_exporter": "python",
   "pygments_lexer": "ipython3",
   "version": "3.9.7"
  }
 },
 "nbformat": 4,
 "nbformat_minor": 5
}
